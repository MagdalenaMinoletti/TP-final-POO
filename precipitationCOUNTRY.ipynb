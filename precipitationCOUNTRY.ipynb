{
 "cells": [
  {
   "cell_type": "code",
   "execution_count": 1,
   "metadata": {
    "collapsed": true
   },
   "outputs": [],
   "source": [
    "import pandas as pd\n",
    "import matplotlib.pyplot as plt\n",
    "import seaborn as sns\n",
    "import numpy as np\n",
    "from matplotlib import rcParams"
   ]
  },
  {
   "cell_type": "markdown",
   "source": [
    "# AUSTRALIA RAINFALL\n",
    "\n",
    "## Definir objetivo\n",
    "\n",
    "Los nombres de las variables y su descripción son las siguientes:\n",
    "    - **date** - Today's date.\n",
    "    - **location** - Location in Australia where the weather observations were collected.\n",
    "    - **min_temp** - Minimum temperature in the 24 hours to 9am (in degrees Celsius).\n",
    "    - **max_temp** - Maximum temperature in the 24 hours from 9am (in degrees Celsius).\n",
    "    - **rainfall** - Precipitation (rainfall) in the 24 hours to 9am (in millimetres).\n",
    "    - **evaporation** - Evaporation in the 24 hours to 9am (in millimetres).\n",
    "    - **sunshine** - Bright sunshine in the 24 hours to midnight (in hours).\n",
    "    - **wind_gust_dir** - Direction of strongest gust in the 24 hours to midnight (in compass points).\n",
    "    - **wind_gust_speed** - Speed of strongest wind gust in the 24 hours to midnight (in kilometres per hour).\n",
    "    - **wind_dir_9am** - Wind direction averaged over 10 minutes prior to 9 am (in compass points).\n",
    "    - **wind_dir_3pm** - Wind direction averaged over 10 minutes prior to 3 pm (in compass points).\n",
    "    - **wind_speed_9am** - Wind speed averaged over 10 minutes prior to 9 am (in kilometres per hour).\n",
    "    - **wind_speed_3pm** - Wind speed averaged over 10 minutes prior to 3 pm (in kilometres per hour).\n",
    "    - **humidity_9am** - Relative humidity at 9 am (in percentage).\n",
    "    - **humidity_3pm** - Relative humidity at 3 pm (in percentage).\n",
    "    - **pressure_9am** - Atmospheric pressure reduced to mean sea level at 9 am (in hectopascals).\n",
    "    - **pressure_3pm** - Atmospheric pressure reduced to mean sea level at 3 pm (in hectopascals)\n",
    "    - **cloud_9am** - Fraction of sky obscured by cloud at 9 am (in eighths).\n",
    "    - **cloud_3pm** - Fraction of sky obscured by cloud at 3 pm (in eighths).\n",
    "    - **temp_9am** - Temperature at 9 am (in degrees Celsius).\n",
    "    - **temp_3pm** - Temperature at 3 pm (in degrees Celsius).\n",
    "    - **rain_today** - Whether rain has fallen today (0=No, 1=Yes).\n",
    "    - **RISK_MM** : Risk of precipitation (rainfall) in the next 24 hours to 9am (in millimetres).\n",
    "    - **rain_tomorrow** - Whether it will rain the next day (0=No, 1=Yes)\n",
    "Australia ha tenido en este ultimo tiempo muchos incendios en diferentes partes del pais. Mi objetivo es poder predecir si al dia siguiente va a llover, ya que se debe tener en cuenta y asi por ejemplo estar mas alerta en los casos donde no esta lloviendo desde hace mucho tiempo.\n",
    "\n",
    "## Definir Hipotesis\n",
    "\n",
    "Las variables independientes son las siguientes: MinTemp', 'MaxTemp', 'Rainfall', 'Humidity9am', 'Humidity3pm', 'Pressure9am', 'Pressure3pm', 'Temp9am', 'Temp3pm', 'RainToday', 'Cloud9am','Cloud3pm'.\n",
    "La variable dependiente, es decir nuestro objetivo a predecir es 'RainTomorrow'\n",
    "\n",
    "Queremos ver que tanta relacion existe entre la presion atmosferica y la prediccion de la lluvia. Es decir, si se puede encontrar una correlacion entre ellas\n",
    "\n",
    "## Explicar transformacion del dataset\n",
    "\n",
    "En un principio, voy a ver si existen duplicados, luego voy a tratar los nulos para cada variable con su respectiva manera y su razonamiento. Cuando ya no hayan mas nulos, comienza el mirar para las variables categoricas que tipo de distribucion es y si existen outliers para escalar cada una de ellas. Para las variables categoricas, realizo el encoding. Luego de todos esos pasos, puede comenzar el modelado.\n",
    "\n",
    "La finalidad de esto, es poder tener un modelo, que sea confiable para poder predecir, ya que es importante la manera de tratar los nulos por ejemplo."
   ],
   "metadata": {
    "collapsed": false
   }
  },
  {
   "cell_type": "code",
   "execution_count": 2,
   "outputs": [
    {
     "data": {
      "text/plain": "              Date Location  MinTemp  MaxTemp  Rainfall  Evaporation  \\\n0       2008-12-01   Albury     13.4     22.9       0.6          NaN   \n1       2008-12-02   Albury      7.4     25.1       0.0          NaN   \n2       2008-12-03   Albury     12.9     25.7       0.0          NaN   \n3       2008-12-04   Albury      9.2     28.0       0.0          NaN   \n4       2008-12-05   Albury     17.5     32.3       1.0          NaN   \n...            ...      ...      ...      ...       ...          ...   \n142188  2017-06-20    Uluru      3.5     21.8       0.0          NaN   \n142189  2017-06-21    Uluru      2.8     23.4       0.0          NaN   \n142190  2017-06-22    Uluru      3.6     25.3       0.0          NaN   \n142191  2017-06-23    Uluru      5.4     26.9       0.0          NaN   \n142192  2017-06-24    Uluru      7.8     27.0       0.0          NaN   \n\n        Sunshine WindGustDir  WindGustSpeed WindDir9am  ... Humidity3pm  \\\n0            NaN           W           44.0          W  ...        22.0   \n1            NaN         WNW           44.0        NNW  ...        25.0   \n2            NaN         WSW           46.0          W  ...        30.0   \n3            NaN          NE           24.0         SE  ...        16.0   \n4            NaN           W           41.0        ENE  ...        33.0   \n...          ...         ...            ...        ...  ...         ...   \n142188       NaN           E           31.0        ESE  ...        27.0   \n142189       NaN           E           31.0         SE  ...        24.0   \n142190       NaN         NNW           22.0         SE  ...        21.0   \n142191       NaN           N           37.0         SE  ...        24.0   \n142192       NaN          SE           28.0        SSE  ...        24.0   \n\n        Pressure9am  Pressure3pm  Cloud9am  Cloud3pm  Temp9am  Temp3pm  \\\n0            1007.7       1007.1       8.0       NaN     16.9     21.8   \n1            1010.6       1007.8       NaN       NaN     17.2     24.3   \n2            1007.6       1008.7       NaN       2.0     21.0     23.2   \n3            1017.6       1012.8       NaN       NaN     18.1     26.5   \n4            1010.8       1006.0       7.0       8.0     17.8     29.7   \n...             ...          ...       ...       ...      ...      ...   \n142188       1024.7       1021.2       NaN       NaN      9.4     20.9   \n142189       1024.6       1020.3       NaN       NaN     10.1     22.4   \n142190       1023.5       1019.1       NaN       NaN     10.9     24.5   \n142191       1021.0       1016.8       NaN       NaN     12.5     26.1   \n142192       1019.4       1016.5       3.0       2.0     15.1     26.0   \n\n        RainToday  RISK_MM  RainTomorrow  \n0              No      0.0            No  \n1              No      0.0            No  \n2              No      0.0            No  \n3              No      1.0            No  \n4              No      0.2            No  \n...           ...      ...           ...  \n142188         No      0.0            No  \n142189         No      0.0            No  \n142190         No      0.0            No  \n142191         No      0.0            No  \n142192         No      0.0            No  \n\n[142193 rows x 24 columns]",
      "text/html": "<div>\n<style scoped>\n    .dataframe tbody tr th:only-of-type {\n        vertical-align: middle;\n    }\n\n    .dataframe tbody tr th {\n        vertical-align: top;\n    }\n\n    .dataframe thead th {\n        text-align: right;\n    }\n</style>\n<table border=\"1\" class=\"dataframe\">\n  <thead>\n    <tr style=\"text-align: right;\">\n      <th></th>\n      <th>Date</th>\n      <th>Location</th>\n      <th>MinTemp</th>\n      <th>MaxTemp</th>\n      <th>Rainfall</th>\n      <th>Evaporation</th>\n      <th>Sunshine</th>\n      <th>WindGustDir</th>\n      <th>WindGustSpeed</th>\n      <th>WindDir9am</th>\n      <th>...</th>\n      <th>Humidity3pm</th>\n      <th>Pressure9am</th>\n      <th>Pressure3pm</th>\n      <th>Cloud9am</th>\n      <th>Cloud3pm</th>\n      <th>Temp9am</th>\n      <th>Temp3pm</th>\n      <th>RainToday</th>\n      <th>RISK_MM</th>\n      <th>RainTomorrow</th>\n    </tr>\n  </thead>\n  <tbody>\n    <tr>\n      <th>0</th>\n      <td>2008-12-01</td>\n      <td>Albury</td>\n      <td>13.4</td>\n      <td>22.9</td>\n      <td>0.6</td>\n      <td>NaN</td>\n      <td>NaN</td>\n      <td>W</td>\n      <td>44.0</td>\n      <td>W</td>\n      <td>...</td>\n      <td>22.0</td>\n      <td>1007.7</td>\n      <td>1007.1</td>\n      <td>8.0</td>\n      <td>NaN</td>\n      <td>16.9</td>\n      <td>21.8</td>\n      <td>No</td>\n      <td>0.0</td>\n      <td>No</td>\n    </tr>\n    <tr>\n      <th>1</th>\n      <td>2008-12-02</td>\n      <td>Albury</td>\n      <td>7.4</td>\n      <td>25.1</td>\n      <td>0.0</td>\n      <td>NaN</td>\n      <td>NaN</td>\n      <td>WNW</td>\n      <td>44.0</td>\n      <td>NNW</td>\n      <td>...</td>\n      <td>25.0</td>\n      <td>1010.6</td>\n      <td>1007.8</td>\n      <td>NaN</td>\n      <td>NaN</td>\n      <td>17.2</td>\n      <td>24.3</td>\n      <td>No</td>\n      <td>0.0</td>\n      <td>No</td>\n    </tr>\n    <tr>\n      <th>2</th>\n      <td>2008-12-03</td>\n      <td>Albury</td>\n      <td>12.9</td>\n      <td>25.7</td>\n      <td>0.0</td>\n      <td>NaN</td>\n      <td>NaN</td>\n      <td>WSW</td>\n      <td>46.0</td>\n      <td>W</td>\n      <td>...</td>\n      <td>30.0</td>\n      <td>1007.6</td>\n      <td>1008.7</td>\n      <td>NaN</td>\n      <td>2.0</td>\n      <td>21.0</td>\n      <td>23.2</td>\n      <td>No</td>\n      <td>0.0</td>\n      <td>No</td>\n    </tr>\n    <tr>\n      <th>3</th>\n      <td>2008-12-04</td>\n      <td>Albury</td>\n      <td>9.2</td>\n      <td>28.0</td>\n      <td>0.0</td>\n      <td>NaN</td>\n      <td>NaN</td>\n      <td>NE</td>\n      <td>24.0</td>\n      <td>SE</td>\n      <td>...</td>\n      <td>16.0</td>\n      <td>1017.6</td>\n      <td>1012.8</td>\n      <td>NaN</td>\n      <td>NaN</td>\n      <td>18.1</td>\n      <td>26.5</td>\n      <td>No</td>\n      <td>1.0</td>\n      <td>No</td>\n    </tr>\n    <tr>\n      <th>4</th>\n      <td>2008-12-05</td>\n      <td>Albury</td>\n      <td>17.5</td>\n      <td>32.3</td>\n      <td>1.0</td>\n      <td>NaN</td>\n      <td>NaN</td>\n      <td>W</td>\n      <td>41.0</td>\n      <td>ENE</td>\n      <td>...</td>\n      <td>33.0</td>\n      <td>1010.8</td>\n      <td>1006.0</td>\n      <td>7.0</td>\n      <td>8.0</td>\n      <td>17.8</td>\n      <td>29.7</td>\n      <td>No</td>\n      <td>0.2</td>\n      <td>No</td>\n    </tr>\n    <tr>\n      <th>...</th>\n      <td>...</td>\n      <td>...</td>\n      <td>...</td>\n      <td>...</td>\n      <td>...</td>\n      <td>...</td>\n      <td>...</td>\n      <td>...</td>\n      <td>...</td>\n      <td>...</td>\n      <td>...</td>\n      <td>...</td>\n      <td>...</td>\n      <td>...</td>\n      <td>...</td>\n      <td>...</td>\n      <td>...</td>\n      <td>...</td>\n      <td>...</td>\n      <td>...</td>\n      <td>...</td>\n    </tr>\n    <tr>\n      <th>142188</th>\n      <td>2017-06-20</td>\n      <td>Uluru</td>\n      <td>3.5</td>\n      <td>21.8</td>\n      <td>0.0</td>\n      <td>NaN</td>\n      <td>NaN</td>\n      <td>E</td>\n      <td>31.0</td>\n      <td>ESE</td>\n      <td>...</td>\n      <td>27.0</td>\n      <td>1024.7</td>\n      <td>1021.2</td>\n      <td>NaN</td>\n      <td>NaN</td>\n      <td>9.4</td>\n      <td>20.9</td>\n      <td>No</td>\n      <td>0.0</td>\n      <td>No</td>\n    </tr>\n    <tr>\n      <th>142189</th>\n      <td>2017-06-21</td>\n      <td>Uluru</td>\n      <td>2.8</td>\n      <td>23.4</td>\n      <td>0.0</td>\n      <td>NaN</td>\n      <td>NaN</td>\n      <td>E</td>\n      <td>31.0</td>\n      <td>SE</td>\n      <td>...</td>\n      <td>24.0</td>\n      <td>1024.6</td>\n      <td>1020.3</td>\n      <td>NaN</td>\n      <td>NaN</td>\n      <td>10.1</td>\n      <td>22.4</td>\n      <td>No</td>\n      <td>0.0</td>\n      <td>No</td>\n    </tr>\n    <tr>\n      <th>142190</th>\n      <td>2017-06-22</td>\n      <td>Uluru</td>\n      <td>3.6</td>\n      <td>25.3</td>\n      <td>0.0</td>\n      <td>NaN</td>\n      <td>NaN</td>\n      <td>NNW</td>\n      <td>22.0</td>\n      <td>SE</td>\n      <td>...</td>\n      <td>21.0</td>\n      <td>1023.5</td>\n      <td>1019.1</td>\n      <td>NaN</td>\n      <td>NaN</td>\n      <td>10.9</td>\n      <td>24.5</td>\n      <td>No</td>\n      <td>0.0</td>\n      <td>No</td>\n    </tr>\n    <tr>\n      <th>142191</th>\n      <td>2017-06-23</td>\n      <td>Uluru</td>\n      <td>5.4</td>\n      <td>26.9</td>\n      <td>0.0</td>\n      <td>NaN</td>\n      <td>NaN</td>\n      <td>N</td>\n      <td>37.0</td>\n      <td>SE</td>\n      <td>...</td>\n      <td>24.0</td>\n      <td>1021.0</td>\n      <td>1016.8</td>\n      <td>NaN</td>\n      <td>NaN</td>\n      <td>12.5</td>\n      <td>26.1</td>\n      <td>No</td>\n      <td>0.0</td>\n      <td>No</td>\n    </tr>\n    <tr>\n      <th>142192</th>\n      <td>2017-06-24</td>\n      <td>Uluru</td>\n      <td>7.8</td>\n      <td>27.0</td>\n      <td>0.0</td>\n      <td>NaN</td>\n      <td>NaN</td>\n      <td>SE</td>\n      <td>28.0</td>\n      <td>SSE</td>\n      <td>...</td>\n      <td>24.0</td>\n      <td>1019.4</td>\n      <td>1016.5</td>\n      <td>3.0</td>\n      <td>2.0</td>\n      <td>15.1</td>\n      <td>26.0</td>\n      <td>No</td>\n      <td>0.0</td>\n      <td>No</td>\n    </tr>\n  </tbody>\n</table>\n<p>142193 rows × 24 columns</p>\n</div>"
     },
     "execution_count": 2,
     "metadata": {},
     "output_type": "execute_result"
    }
   ],
   "source": [
    "df = pd.read_csv('data/weatherAUS.csv')\n",
    "df = df.copy()\n",
    "df"
   ],
   "metadata": {
    "collapsed": false,
    "pycharm": {
     "name": "#%%\n"
    }
   }
  },
  {
   "cell_type": "markdown",
   "source": [
    "## Analisis basico"
   ],
   "metadata": {
    "collapsed": false,
    "pycharm": {
     "name": "#%% md\n"
    }
   }
  },
  {
   "cell_type": "code",
   "execution_count": 3,
   "outputs": [
    {
     "name": "stdout",
     "output_type": "stream",
     "text": [
      "El dataset completo tiene 142193 filas y 24 columnas\n"
     ]
    }
   ],
   "source": [
    "print(f\"El dataset completo tiene {df.shape[0]} filas y {df.shape[1]} columnas\")"
   ],
   "metadata": {
    "collapsed": false,
    "pycharm": {
     "name": "#%%\n"
    }
   }
  },
  {
   "cell_type": "code",
   "execution_count": 4,
   "outputs": [
    {
     "name": "stdout",
     "output_type": "stream",
     "text": [
      "Los estadisticos de cada columna del dataset de la region NSW son los siguientes: \n",
      "         MinTemp    MaxTemp   Rainfall  Evaporation  Sunshine  WindGustSpeed  \\\n",
      "count  141556.00  141871.00  140787.00     81350.00  74377.00      132923.00   \n",
      "mean       12.19      23.23       2.35         5.47      7.62          39.98   \n",
      "std         6.40       7.12       8.47         4.19      3.78          13.59   \n",
      "min        -8.50      -4.80       0.00         0.00      0.00           6.00   \n",
      "25%         7.60      17.90       0.00         2.60      4.90          31.00   \n",
      "50%        12.00      22.60       0.00         4.80      8.50          39.00   \n",
      "75%        16.80      28.20       0.80         7.40     10.60          48.00   \n",
      "max        33.90      48.10     371.00       145.00     14.50         135.00   \n",
      "\n",
      "       WindSpeed9am  WindSpeed3pm  Humidity9am  Humidity3pm  Pressure9am  \\\n",
      "count     140845.00     139563.00    140419.00    138583.00    128179.00   \n",
      "mean          14.00         18.64        68.84        51.48      1017.65   \n",
      "std            8.89          8.80        19.05        20.80         7.11   \n",
      "min            0.00          0.00         0.00         0.00       980.50   \n",
      "25%            7.00         13.00        57.00        37.00      1012.90   \n",
      "50%           13.00         19.00        70.00        52.00      1017.60   \n",
      "75%           19.00         24.00        83.00        66.00      1022.40   \n",
      "max          130.00         87.00       100.00       100.00      1041.00   \n",
      "\n",
      "       Pressure3pm  Cloud9am  Cloud3pm    Temp9am    Temp3pm    RISK_MM  \n",
      "count    128212.00  88536.00  85099.00  141289.00  139467.00  142193.00  \n",
      "mean       1015.26      4.44      4.50      16.99      21.69       2.36  \n",
      "std           7.04      2.89      2.72       6.49       6.94       8.48  \n",
      "min         977.10      0.00      0.00      -7.20      -5.40       0.00  \n",
      "25%        1010.40      1.00      2.00      12.30      16.60       0.00  \n",
      "50%        1015.20      5.00      5.00      16.70      21.10       0.00  \n",
      "75%        1020.00      7.00      7.00      21.60      26.40       0.80  \n",
      "max        1039.60      9.00      9.00      40.20      46.70     371.00  \n"
     ]
    }
   ],
   "source": [
    "print(f\"Los estadisticos de cada columna del dataset de la region NSW son los siguientes: \\n{df.describe().round(2)}\")"
   ],
   "metadata": {
    "collapsed": false,
    "pycharm": {
     "name": "#%%\n"
    }
   }
  },
  {
   "cell_type": "code",
   "execution_count": 5,
   "outputs": [
    {
     "name": "stdout",
     "output_type": "stream",
     "text": [
      "El tipo de dato de las variables son las siguientes: \n",
      "Date              object\n",
      "Location          object\n",
      "MinTemp          float64\n",
      "MaxTemp          float64\n",
      "Rainfall         float64\n",
      "Evaporation      float64\n",
      "Sunshine         float64\n",
      "WindGustDir       object\n",
      "WindGustSpeed    float64\n",
      "WindDir9am        object\n",
      "WindDir3pm        object\n",
      "WindSpeed9am     float64\n",
      "WindSpeed3pm     float64\n",
      "Humidity9am      float64\n",
      "Humidity3pm      float64\n",
      "Pressure9am      float64\n",
      "Pressure3pm      float64\n",
      "Cloud9am         float64\n",
      "Cloud3pm         float64\n",
      "Temp9am          float64\n",
      "Temp3pm          float64\n",
      "RainToday         object\n",
      "RISK_MM          float64\n",
      "RainTomorrow      object\n",
      "dtype: object\n"
     ]
    }
   ],
   "source": [
    "print(f\"El tipo de dato de las variables son las siguientes: \\n{df.dtypes}\")"
   ],
   "metadata": {
    "collapsed": false,
    "pycharm": {
     "name": "#%%\n"
    }
   }
  },
  {
   "cell_type": "markdown",
   "source": [
    "La fecha debe estar en formato date"
   ],
   "metadata": {
    "collapsed": false,
    "pycharm": {
     "name": "#%% md\n"
    }
   }
  },
  {
   "cell_type": "code",
   "execution_count": 6,
   "outputs": [],
   "source": [
    "df[\"Date\"] = pd.to_datetime(df[\"Date\"])"
   ],
   "metadata": {
    "collapsed": false,
    "pycharm": {
     "name": "#%%\n"
    }
   }
  },
  {
   "cell_type": "code",
   "execution_count": 7,
   "outputs": [],
   "source": [
    "df['Year'] = df['Date'].dt.year\n",
    "df['Month'] = df['Date'].dt.month\n",
    "df['Day'] = df['Date'].dt.day"
   ],
   "metadata": {
    "collapsed": false,
    "pycharm": {
     "name": "#%%\n"
    }
   }
  },
  {
   "cell_type": "code",
   "execution_count": 8,
   "outputs": [],
   "source": [
    "df = df.drop(columns = [\"Date\"])"
   ],
   "metadata": {
    "collapsed": false,
    "pycharm": {
     "name": "#%%\n"
    }
   }
  },
  {
   "cell_type": "code",
   "execution_count": 9,
   "outputs": [],
   "source": [
    "df = df.drop(columns = ['WindGustSpeed',\"WindGustDir\",\"WindDir9am\", \"WindDir3pm\", \"WindSpeed9am\", \"WindSpeed3pm\"])"
   ],
   "metadata": {
    "collapsed": false,
    "pycharm": {
     "name": "#%%\n"
    }
   }
  },
  {
   "cell_type": "markdown",
   "source": [
    "Considero que el viento y su direccion no hace variar a mi objetivo( Saber si llovio o no)"
   ],
   "metadata": {
    "collapsed": false
   }
  },
  {
   "cell_type": "code",
   "execution_count": 10,
   "outputs": [
    {
     "data": {
      "text/plain": "<AxesSubplot:xlabel='Year'>"
     },
     "execution_count": 10,
     "metadata": {},
     "output_type": "execute_result"
    },
    {
     "data": {
      "text/plain": "<Figure size 432x288 with 1 Axes>",
      "image/png": "[encoded data removed]"
     },
     "metadata": {
      "needs_background": "light"
     },
     "output_type": "display_data"
    }
   ],
   "source": [
    "df[[\"Year\",\"Rainfall\"]].groupby(\"Year\").sum().plot(kind=\"bar\")"
   ],
   "metadata": {
    "collapsed": false,
    "pycharm": {
     "name": "#%%\n"
    }
   }
  },
  {
   "cell_type": "code",
   "execution_count": 11,
   "outputs": [
    {
     "name": "stdout",
     "output_type": "stream",
     "text": [
      "Si llueve hoy, cuanto se predice que llueve mañana\n"
     ]
    },
    {
     "data": {
      "text/plain": "           llueve_mañana\nRainToday               \nNo                109332\nYes                31455",
      "text/html": "<div>\n<style scoped>\n    .dataframe tbody tr th:only-of-type {\n        vertical-align: middle;\n    }\n\n    .dataframe tbody tr th {\n        vertical-align: top;\n    }\n\n    .dataframe thead th {\n        text-align: right;\n    }\n</style>\n<table border=\"1\" class=\"dataframe\">\n  <thead>\n    <tr style=\"text-align: right;\">\n      <th></th>\n      <th>llueve_mañana</th>\n    </tr>\n    <tr>\n      <th>RainToday</th>\n      <th></th>\n    </tr>\n  </thead>\n  <tbody>\n    <tr>\n      <th>No</th>\n      <td>109332</td>\n    </tr>\n    <tr>\n      <th>Yes</th>\n      <td>31455</td>\n    </tr>\n  </tbody>\n</table>\n</div>"
     },
     "execution_count": 11,
     "metadata": {},
     "output_type": "execute_result"
    }
   ],
   "source": [
    "print(\"Si llueve hoy, cuanto se predice que llueve mañana\")\n",
    "df.groupby(\"RainToday\").agg(\n",
    "    llueve_mañana =  ('RainTomorrow', 'count'))"
   ],
   "metadata": {
    "collapsed": false,
    "pycharm": {
     "name": "#%%\n"
    }
   }
  },
  {
   "cell_type": "markdown",
   "source": [
    "En general, no llueve si en ese dia llovió."
   ],
   "metadata": {
    "collapsed": false,
    "pycharm": {
     "name": "#%% md\n"
    }
   }
  },
  {
   "cell_type": "code",
   "execution_count": 12,
   "outputs": [
    {
     "data": {
      "text/plain": "<AxesSubplot:>"
     },
     "execution_count": 12,
     "metadata": {},
     "output_type": "execute_result"
    },
    {
     "data": {
      "text/plain": "<Figure size 1440x720 with 2 Axes>",
      "image/png": "[encoded data removed]"
     },
     "metadata": {
      "needs_background": "light"
     },
     "output_type": "display_data"
    }
   ],
   "source": [
    "rcParams['figure.figsize'] = 20,10\n",
    "sns.heatmap(df.corr(),cmap='coolwarm',annot=True)"
   ],
   "metadata": {
    "collapsed": false,
    "pycharm": {
     "name": "#%%\n"
    }
   }
  },
  {
   "cell_type": "code",
   "execution_count": 13,
   "outputs": [
    {
     "name": "stdout",
     "output_type": "stream",
     "text": [
      "Tenemos 0 filas duplicadas\n"
     ]
    }
   ],
   "source": [
    "print(f\"Tenemos {df.duplicated().sum()} filas duplicadas\")"
   ],
   "metadata": {
    "collapsed": false,
    "pycharm": {
     "name": "#%%\n"
    }
   }
  },
  {
   "cell_type": "markdown",
   "source": [
    "como no hay duplicados, no se debe realizar nada"
   ],
   "metadata": {
    "collapsed": false,
    "pycharm": {
     "name": "#%% md\n"
    }
   }
  },
  {
   "cell_type": "markdown",
   "source": [
    "## Faltantes de datos y su tratamiento por variable"
   ],
   "metadata": {
    "collapsed": false
   }
  },
  {
   "cell_type": "code",
   "execution_count": 14,
   "outputs": [
    {
     "name": "stdout",
     "output_type": "stream",
     "text": [
      "Porcentaje de nulos por variable en el archivo\n"
     ]
    },
    {
     "data": {
      "text/plain": "Sunshine        0.477\nEvaporation     0.428\nCloud3pm        0.402\nCloud9am        0.377\nPressure9am     0.099\nPressure3pm     0.098\nHumidity3pm     0.025\nTemp3pm         0.019\nHumidity9am     0.012\nRainfall        0.010\nRainToday       0.010\nTemp9am         0.006\nMinTemp         0.004\nMaxTemp         0.002\nYear            0.000\nMonth           0.000\nLocation        0.000\nRainTomorrow    0.000\nRISK_MM         0.000\nDay             0.000\ndtype: float64"
     },
     "execution_count": 14,
     "metadata": {},
     "output_type": "execute_result"
    }
   ],
   "source": [
    "print(\"Porcentaje de nulos por variable en el archivo\")\n",
    "d =round(df.isnull().sum().sort_values(ascending=False)/len(df),3)\n",
    "d"
   ],
   "metadata": {
    "collapsed": false,
    "pycharm": {
     "name": "#%%\n"
    }
   }
  },
  {
   "cell_type": "markdown",
   "source": [
    "### Evaporation\n",
    "Como un 59% de los datos son nulos, elimino la columna porque no aporta nada al analisis"
   ],
   "metadata": {
    "collapsed": false,
    "pycharm": {
     "name": "#%% md\n"
    }
   }
  },
  {
   "cell_type": "code",
   "execution_count": 15,
   "outputs": [],
   "source": [
    "df = df.drop(columns = [\"Evaporation\"])"
   ],
   "metadata": {
    "collapsed": false,
    "pycharm": {
     "name": "#%%\n"
    }
   }
  },
  {
   "cell_type": "markdown",
   "source": [
    "### Cloud3pm y Cloud9am  --> CREADO Cloud_day"
   ],
   "metadata": {
    "collapsed": false,
    "pycharm": {
     "name": "#%% md\n"
    }
   }
  },
  {
   "cell_type": "code",
   "execution_count": 16,
   "outputs": [
    {
     "data": {
      "text/plain": "NaN    57094\n7.0    18052\n1.0    14827\n8.0    12407\n6.0     8869\n2.0     7153\n3.0     6836\n5.0     6743\n4.0     5254\n0.0     4957\n9.0        1\nName: Cloud3pm, dtype: int64"
     },
     "execution_count": 16,
     "metadata": {},
     "output_type": "execute_result"
    }
   ],
   "source": [
    "df[\"Cloud3pm\"].value_counts(dropna=False)"
   ],
   "metadata": {
    "collapsed": false,
    "pycharm": {
     "name": "#%%\n"
    }
   }
  },
  {
   "cell_type": "code",
   "execution_count": 17,
   "outputs": [
    {
     "data": {
      "text/plain": "NaN    53657\n7.0    19749\n1.0    15558\n8.0    14389\n0.0     8587\n6.0     8072\n2.0     6442\n3.0     5854\n5.0     5510\n4.0     4373\n9.0        2\nName: Cloud9am, dtype: int64"
     },
     "execution_count": 17,
     "metadata": {},
     "output_type": "execute_result"
    }
   ],
   "source": [
    "df[\"Cloud9am\"].value_counts(dropna=False)"
   ],
   "metadata": {
    "collapsed": false,
    "pycharm": {
     "name": "#%%\n"
    }
   }
  },
  {
   "cell_type": "code",
   "execution_count": 18,
   "outputs": [
    {
     "name": "stdout",
     "output_type": "stream",
     "text": [
      "Tenemos datos faltantes en las dos columnas, Cloud9am y Cloud3pm. Si hay faltantes en una, se completa con la que tiene el dato.\n",
      "Ahora los nulos en la columna Cloud9am son 49677 y en la columna Cloud3pm son 49677.\n"
     ]
    }
   ],
   "source": [
    "var1 = \"Cloud9am\"\n",
    "var2 = \"Cloud3pm\"\n",
    "print(f\"Tenemos datos faltantes en las dos columnas, {var1} y {var2}. Si hay faltantes en una, se completa con la que tiene el dato.\")\n",
    "df[var1].fillna(df[var2], inplace = True)\n",
    "df[var2].fillna(df[var1], inplace = True)\n",
    "\n",
    "print(f\"Ahora los nulos en la columna {var1} son {df[var1].isna().sum()} y en la columna {var2} son {df[var1].isna().sum()}.\")"
   ],
   "metadata": {
    "collapsed": false,
    "pycharm": {
     "name": "#%%\n"
    }
   }
  },
  {
   "cell_type": "code",
   "execution_count": 19,
   "outputs": [
    {
     "name": "stdout",
     "output_type": "stream",
     "text": [
      "Creamos una nueva columna donde unimos los datos de cada horario haciendo un promedio del dia\n",
      "La cantidad de nulos que tiene la colummna Cloud_day es de: 49677\n"
     ]
    }
   ],
   "source": [
    "print(\"Creamos una nueva columna donde unimos los datos de cada horario haciendo un promedio del dia\")\n",
    "df[\"Cloud_day\"] = (df[\"Cloud9am\"] + df[\"Cloud3pm\"])/2\n",
    "print(f\"La cantidad de nulos que tiene la colummna Cloud_day es de: {df['Cloud_day'].isna().sum()}\")"
   ],
   "metadata": {
    "collapsed": false,
    "pycharm": {
     "name": "#%%\n"
    }
   }
  },
  {
   "cell_type": "code",
   "execution_count": 20,
   "outputs": [
    {
     "name": "stdout",
     "output_type": "stream",
     "text": [
      "Eliminamos las columnas Cloud3pm y Cloud9am\n"
     ]
    }
   ],
   "source": [
    "df = df.drop(columns = ['Cloud3pm',\"Cloud9am\"])\n",
    "print(\"Eliminamos las columnas Cloud3pm y Cloud9am\")"
   ],
   "metadata": {
    "collapsed": false,
    "pycharm": {
     "name": "#%%\n"
    }
   }
  },
  {
   "cell_type": "code",
   "execution_count": 21,
   "outputs": [
    {
     "name": "stdout",
     "output_type": "stream",
     "text": [
      "Eliminimos las filas que tienen Nulos de la variable 'Cloud_day'\n"
     ]
    }
   ],
   "source": [
    "df.dropna(subset=[\"Cloud_day\"],axis=0, inplace=True)\n",
    "print(\"Eliminimos las filas que tienen Nulos de la variable 'Cloud_day'\")"
   ],
   "metadata": {
    "collapsed": false,
    "pycharm": {
     "name": "#%%\n"
    }
   }
  },
  {
   "cell_type": "markdown",
   "source": [
    "### Pressure9am y Pressure3pm --> CREADO Pressure_day"
   ],
   "metadata": {
    "collapsed": false,
    "pycharm": {
     "name": "#%% md\n"
    }
   }
  },
  {
   "cell_type": "code",
   "execution_count": 22,
   "outputs": [],
   "source": [
    "df[\"Pressure9am\"].fillna(df[\"Pressure3pm\"], inplace = True)\n",
    "df[\"Pressure3pm\"].fillna(df[\"Pressure9am\"], inplace = True)"
   ],
   "metadata": {
    "collapsed": false,
    "pycharm": {
     "name": "#%%\n"
    }
   }
  },
  {
   "cell_type": "code",
   "execution_count": 23,
   "outputs": [
    {
     "name": "stdout",
     "output_type": "stream",
     "text": [
      "Creamos una nueva columna donde unimos los datos de cada horario haciendo un promedio del dia.\n"
     ]
    }
   ],
   "source": [
    "print(\"Creamos una nueva columna donde unimos los datos de cada horario haciendo un promedio del dia.\")\n",
    "df[\"Pressure_day\"] = (df[\"Pressure9am\"] + df[\"Pressure3pm\"])/2"
   ],
   "metadata": {
    "collapsed": false,
    "pycharm": {
     "name": "#%%\n"
    }
   }
  },
  {
   "cell_type": "code",
   "execution_count": 24,
   "outputs": [
    {
     "data": {
      "text/plain": "NaN        3857\n1016.25     289\n1017.25     281\n1016.05     278\n1017.50     276\n           ... \n997.10        1\n989.35        1\n989.95        1\n1034.20       1\n992.60        1\nName: Pressure_day, Length: 1361, dtype: int64"
     },
     "execution_count": 24,
     "metadata": {},
     "output_type": "execute_result"
    }
   ],
   "source": [
    "df[\"Pressure_day\"].value_counts(dropna=False)"
   ],
   "metadata": {
    "collapsed": false,
    "pycharm": {
     "name": "#%%\n"
    }
   }
  },
  {
   "cell_type": "code",
   "execution_count": 25,
   "outputs": [
    {
     "data": {
      "text/plain": "(92516, 19)"
     },
     "execution_count": 25,
     "metadata": {},
     "output_type": "execute_result"
    }
   ],
   "source": [
    "df.shape"
   ],
   "metadata": {
    "collapsed": false,
    "pycharm": {
     "name": "#%%\n"
    }
   }
  },
  {
   "cell_type": "code",
   "execution_count": 26,
   "outputs": [],
   "source": [
    "df.dropna(subset=[\"Pressure_day\"],axis=0, inplace=True)"
   ],
   "metadata": {
    "collapsed": false,
    "pycharm": {
     "name": "#%%\n"
    }
   }
  },
  {
   "cell_type": "code",
   "execution_count": 27,
   "outputs": [
    {
     "data": {
      "text/plain": "Sunshine        21744\nHumidity3pm      1699\nTemp3pm          1437\nRainfall          480\nRainToday         480\nHumidity9am       385\nTemp9am           148\nMinTemp           121\nMaxTemp            91\nYear                0\nCloud_day           0\nDay                 0\nMonth               0\nLocation            0\nRainTomorrow        0\nRISK_MM             0\nPressure3pm         0\nPressure9am         0\nPressure_day        0\ndtype: int64"
     },
     "execution_count": 27,
     "metadata": {},
     "output_type": "execute_result"
    }
   ],
   "source": [
    "df.isnull().sum().sort_values(ascending=False)"
   ],
   "metadata": {
    "collapsed": false,
    "pycharm": {
     "name": "#%%\n"
    }
   }
  },
  {
   "cell_type": "markdown",
   "source": [
    "### Rainfall"
   ],
   "metadata": {
    "collapsed": false,
    "pycharm": {
     "name": "#%% md\n"
    }
   }
  },
  {
   "cell_type": "code",
   "execution_count": 28,
   "outputs": [
    {
     "name": "stdout",
     "output_type": "stream",
     "text": [
      "Los tipos de datos que hay en la columna son:\n",
      "0.0      56109\n",
      "0.2       4935\n",
      "0.4       2449\n",
      "0.6       1639\n",
      "0.8       1300\n",
      "         ...  \n",
      "76.4         1\n",
      "145.0        1\n",
      "113.0        1\n",
      "94.0         1\n",
      "69.0         1\n",
      "Name: Rainfall, Length: 616, dtype: int64\n"
     ]
    }
   ],
   "source": [
    "print(f\"Los tipos de datos que hay en la columna son:\\n{df.Rainfall.value_counts(dropna=False)}\")"
   ],
   "metadata": {
    "collapsed": false,
    "pycharm": {
     "name": "#%%\n"
    }
   }
  },
  {
   "cell_type": "code",
   "execution_count": 29,
   "outputs": [
    {
     "name": "stdout",
     "output_type": "stream",
     "text": [
      "Ahora La cantidad de nulos de la columna es de 480 filas y como son pocos, este puede ser reemplazado por la mediana.\n"
     ]
    }
   ],
   "source": [
    "var = 'Rainfall'\n",
    "print(f\"Ahora La cantidad de nulos de la columna es de {df[var].isnull().sum()} filas y como son pocos, este puede ser reemplazado por la mediana.\")\n",
    "from sklearn.impute import SimpleImputer\n",
    "\n",
    "imputer = SimpleImputer(strategy=\"median\")\n",
    "\n",
    "imputer.fit(df[[var]])\n",
    "\n",
    "df[var] = imputer.transform(df[[var]])"
   ],
   "metadata": {
    "collapsed": false,
    "pycharm": {
     "name": "#%%\n"
    }
   }
  },
  {
   "cell_type": "code",
   "execution_count": 30,
   "outputs": [
    {
     "name": "stdout",
     "output_type": "stream",
     "text": [
      "Ahora, la cantidad de nulos es de 0\n"
     ]
    }
   ],
   "source": [
    "print(\"Ahora, la cantidad de nulos es de\", df[var].isnull().sum())"
   ],
   "metadata": {
    "collapsed": false,
    "pycharm": {
     "name": "#%%\n"
    }
   }
  },
  {
   "cell_type": "markdown",
   "source": [
    "### RainToday"
   ],
   "metadata": {
    "collapsed": false,
    "pycharm": {
     "name": "#%% md\n"
    }
   }
  },
  {
   "cell_type": "code",
   "execution_count": 31,
   "outputs": [
    {
     "name": "stdout",
     "output_type": "stream",
     "text": [
      "Sabiendo que RainToday tiene nulos, observamos los tipos de datos que hay en la columna son:\n",
      "No     67735\n",
      "Yes    20444\n",
      "NaN      480\n",
      "Name: RainToday, dtype: int64\n",
      "Voy a reemplazar los nulos con el dato mas frequente en la columna, es decir, no lluvió\n"
     ]
    }
   ],
   "source": [
    "print(f\"Sabiendo que RainToday tiene nulos, observamos los tipos de datos que hay en la columna son:\\n{df.RainToday.value_counts(dropna=False)}\\nVoy a reemplazar los nulos con el dato mas frequente en la columna, es decir, no lluvió\")"
   ],
   "metadata": {
    "collapsed": false,
    "pycharm": {
     "name": "#%%\n"
    }
   }
  },
  {
   "cell_type": "code",
   "execution_count": 32,
   "outputs": [],
   "source": [
    "from sklearn.impute import SimpleImputer\n",
    "\n",
    "imputer = SimpleImputer(strategy=\"most_frequent\")\n",
    "\n",
    "var = 'RainToday'\n",
    "imputer.fit(df[[var]])\n",
    "df[var] = imputer.transform(df[[var]])"
   ],
   "metadata": {
    "collapsed": false,
    "pycharm": {
     "name": "#%%\n"
    }
   }
  },
  {
   "cell_type": "code",
   "execution_count": 33,
   "outputs": [
    {
     "name": "stdout",
     "output_type": "stream",
     "text": [
      "Ahora hay 68215 de No y 20444 de Yes\n",
      "Ahora los nulos son 0\n"
     ]
    }
   ],
   "source": [
    "print(f\"Ahora hay {df[var].value_counts(dropna=False)[0]} de No y {df[var].value_counts(dropna=False)[1]} de Yes\")\n",
    "print(f\"Ahora los nulos son {df[var].isna().sum()}\")"
   ],
   "metadata": {
    "collapsed": false,
    "pycharm": {
     "name": "#%%\n"
    }
   }
  },
  {
   "cell_type": "markdown",
   "source": [
    "Paso a numero entero los datos de la columna \"RainToday\""
   ],
   "metadata": {
    "collapsed": false,
    "pycharm": {
     "name": "#%% md\n"
    }
   }
  },
  {
   "cell_type": "markdown",
   "source": [
    "### Humidity9am y Humidity3pm --> CREADO Humidity_day"
   ],
   "metadata": {
    "collapsed": false,
    "pycharm": {
     "name": "#%% md\n"
    }
   }
  },
  {
   "cell_type": "code",
   "execution_count": 34,
   "outputs": [
    {
     "name": "stdout",
     "output_type": "stream",
     "text": [
      "Tenemos datos faltantes en las dos columnas, Temp9am y Temp3pm. Si hay faltantes en una, se completa con la que tiene el dato.\n"
     ]
    }
   ],
   "source": [
    "print(\"Tenemos datos faltantes en las dos columnas, Temp9am y Temp3pm. Si hay faltantes en una, se completa con la que tiene el dato.\")\n",
    "df[\"Humidity9am\"].fillna(df[\"Humidity3pm\"], inplace = True)\n",
    "df[\"Humidity3pm\"].fillna(df[\"Humidity9am\"], inplace = True)"
   ],
   "metadata": {
    "collapsed": false,
    "pycharm": {
     "name": "#%%\n"
    }
   }
  },
  {
   "cell_type": "code",
   "execution_count": 35,
   "outputs": [
    {
     "name": "stdout",
     "output_type": "stream",
     "text": [
      "Ahora La cantidad de nulos de la columna es de 157 filas y como son pocos, este puede ser reemplazado por la mediana.\n"
     ]
    }
   ],
   "source": [
    "var = 'Humidity3pm'\n",
    "print(f\"Ahora La cantidad de nulos de la columna es de {df[var].isnull().sum()} filas y como son pocos, este puede ser reemplazado por la mediana.\")\n",
    "from sklearn.impute import SimpleImputer\n",
    "\n",
    "imputer = SimpleImputer(strategy=\"median\")\n",
    "\n",
    "imputer.fit(df[[var]])\n",
    "\n",
    "df[var] = imputer.transform(df[[var]])"
   ],
   "metadata": {
    "collapsed": false,
    "pycharm": {
     "name": "#%%\n"
    }
   }
  },
  {
   "cell_type": "code",
   "execution_count": 36,
   "outputs": [
    {
     "name": "stdout",
     "output_type": "stream",
     "text": [
      "Ahora La cantidad de nulos de la columna es de 157 filas y como son pocos, este puede ser reemplazado por la mediana.\n"
     ]
    }
   ],
   "source": [
    "var = 'Humidity9am'\n",
    "print(f\"Ahora La cantidad de nulos de la columna es de {df[var].isnull().sum()} filas y como son pocos, este puede ser reemplazado por la mediana.\")\n",
    "from sklearn.impute import SimpleImputer\n",
    "\n",
    "imputer = SimpleImputer(strategy=\"median\")\n",
    "\n",
    "imputer.fit(df[[var]])\n",
    "\n",
    "df[var] = imputer.transform(df[[var]])"
   ],
   "metadata": {
    "collapsed": false,
    "pycharm": {
     "name": "#%%\n"
    }
   }
  },
  {
   "cell_type": "code",
   "execution_count": 37,
   "outputs": [],
   "source": [
    "df[\"Humidity_day\"] = (df[\"Humidity9am\"] + df[\"Humidity3pm\"])/2"
   ],
   "metadata": {
    "collapsed": false,
    "pycharm": {
     "name": "#%%\n"
    }
   }
  },
  {
   "cell_type": "code",
   "execution_count": 38,
   "outputs": [
    {
     "data": {
      "text/plain": "Sunshine        21744\nTemp3pm          1437\nTemp9am           148\nMinTemp           121\nMaxTemp            91\nRISK_MM             0\nPressure_day        0\nCloud_day           0\nDay                 0\nMonth               0\nYear                0\nRainTomorrow        0\nLocation            0\nRainToday           0\nPressure3pm         0\nPressure9am         0\nHumidity3pm         0\nHumidity9am         0\nRainfall            0\nHumidity_day        0\ndtype: int64"
     },
     "execution_count": 38,
     "metadata": {},
     "output_type": "execute_result"
    }
   ],
   "source": [
    "df.isnull().sum().sort_values(ascending=False)"
   ],
   "metadata": {
    "collapsed": false,
    "pycharm": {
     "name": "#%%\n"
    }
   }
  },
  {
   "cell_type": "markdown",
   "source": [
    "### Temp9am y Temp3pm --> CREADO Temp_day"
   ],
   "metadata": {
    "collapsed": false,
    "pycharm": {
     "name": "#%% md\n"
    }
   }
  },
  {
   "cell_type": "code",
   "execution_count": 39,
   "outputs": [
    {
     "data": {
      "text/plain": " 17.0    565\n 14.8    525\n 13.8    522\n 15.0    518\n 16.0    511\n        ... \n-0.6       1\n 36.9      1\n-1.2       1\n-1.3       1\n 38.0      1\nName: Temp9am, Length: 393, dtype: int64"
     },
     "execution_count": 39,
     "metadata": {},
     "output_type": "execute_result"
    }
   ],
   "source": [
    "df[\"Temp9am\"].value_counts(dropna=False)"
   ],
   "metadata": {
    "collapsed": false,
    "pycharm": {
     "name": "#%%\n"
    }
   }
  },
  {
   "cell_type": "code",
   "execution_count": 40,
   "outputs": [
    {
     "data": {
      "text/plain": "NaN     1437\n20.0     527\n19.0     521\n18.5     515\n17.8     514\n        ... \n3.2        1\n4.9        1\n3.7        1\n46.7       1\n45.0       1\nName: Temp3pm, Length: 412, dtype: int64"
     },
     "execution_count": 40,
     "metadata": {},
     "output_type": "execute_result"
    }
   ],
   "source": [
    "df[\"Temp3pm\"].value_counts(dropna=False)"
   ],
   "metadata": {
    "collapsed": false,
    "pycharm": {
     "name": "#%%\n"
    }
   }
  },
  {
   "cell_type": "code",
   "execution_count": 41,
   "outputs": [
    {
     "name": "stdout",
     "output_type": "stream",
     "text": [
      "Tenemos datos faltantes en las dos columnas, Temp9am y Temp3pm. Si hay faltantes en una, se completa con la que tiene el dato.\n"
     ]
    }
   ],
   "source": [
    "print(\"Tenemos datos faltantes en las dos columnas, Temp9am y Temp3pm. Si hay faltantes en una, se completa con la que tiene el dato.\")\n",
    "df[\"Temp9am\"].fillna(df[\"Temp3pm\"], inplace = True)\n",
    "df[\"Temp3pm\"].fillna(df[\"Temp9am\"], inplace = True)\n",
    "\n",
    "#ver si esto esta bien porque puede variar mucho la temperatura"
   ],
   "metadata": {
    "collapsed": false,
    "pycharm": {
     "name": "#%%\n"
    }
   }
  },
  {
   "cell_type": "code",
   "execution_count": 42,
   "outputs": [],
   "source": [
    "df[\"Temp_day\"] = (df[\"Temp9am\"] + df[\"Temp3pm\"])/2"
   ],
   "metadata": {
    "collapsed": false,
    "pycharm": {
     "name": "#%%\n"
    }
   }
  },
  {
   "cell_type": "code",
   "execution_count": 43,
   "outputs": [
    {
     "name": "stdout",
     "output_type": "stream",
     "text": [
      "Ahora La cantidad de nulos de la columna Temp9am es de 15 filas y como son pocos, este puede ser reemplazado por la mediana.\n"
     ]
    }
   ],
   "source": [
    "var = 'Temp9am'\n",
    "print(f\"Ahora La cantidad de nulos de la columna {var} es de {df[var].isnull().sum()} filas y como son pocos, este puede ser reemplazado por la mediana.\")\n",
    "from sklearn.impute import SimpleImputer\n",
    "\n",
    "imputer = SimpleImputer(strategy=\"median\")\n",
    "\n",
    "imputer.fit(df[[var]])\n",
    "\n",
    "df[var] = imputer.transform(df[[var]])"
   ],
   "metadata": {
    "collapsed": false,
    "pycharm": {
     "name": "#%%\n"
    }
   }
  },
  {
   "cell_type": "code",
   "execution_count": 44,
   "outputs": [
    {
     "name": "stdout",
     "output_type": "stream",
     "text": [
      "Ahora La cantidad de nulos de la columna Temp3pmes de 15 filas y como son pocos, este puede ser reemplazado por la mediana.\n"
     ]
    }
   ],
   "source": [
    "var = 'Temp3pm'\n",
    "print(f\"Ahora La cantidad de nulos de la columna {var}es de {df[var].isnull().sum()} filas y como son pocos, este puede ser reemplazado por la mediana.\")\n",
    "from sklearn.impute import SimpleImputer\n",
    "\n",
    "imputer = SimpleImputer(strategy=\"median\")\n",
    "\n",
    "imputer.fit(df[[var]])\n",
    "\n",
    "df[var] = imputer.transform(df[[var]])"
   ],
   "metadata": {
    "collapsed": false,
    "pycharm": {
     "name": "#%%\n"
    }
   }
  },
  {
   "cell_type": "code",
   "execution_count": 45,
   "outputs": [
    {
     "name": "stdout",
     "output_type": "stream",
     "text": [
      "Ahora La cantidad de nulos de la columna Temp_day es de 15 filas y como son pocos, este puede ser reemplazado por la mediana.\n"
     ]
    }
   ],
   "source": [
    "var = 'Temp_day'\n",
    "print(f\"Ahora La cantidad de nulos de la columna {var} es de {df[var].isnull().sum()} filas y como son pocos, este puede ser reemplazado por la mediana.\")\n",
    "from sklearn.impute import SimpleImputer\n",
    "\n",
    "imputer = SimpleImputer(strategy=\"median\")\n",
    "\n",
    "imputer.fit(df[[var]])\n",
    "\n",
    "df[var] = imputer.transform(df[[var]])"
   ],
   "metadata": {
    "collapsed": false,
    "pycharm": {
     "name": "#%%\n"
    }
   }
  },
  {
   "cell_type": "code",
   "execution_count": 46,
   "outputs": [
    {
     "data": {
      "text/plain": "Sunshine        21744\nMinTemp           121\nMaxTemp            91\nLocation            0\nRISK_MM             0\nHumidity_day        0\nPressure_day        0\nCloud_day           0\nDay                 0\nMonth               0\nYear                0\nRainTomorrow        0\nTemp3pm             0\nRainToday           0\nTemp9am             0\nPressure3pm         0\nPressure9am         0\nHumidity3pm         0\nHumidity9am         0\nRainfall            0\nTemp_day            0\ndtype: int64"
     },
     "execution_count": 46,
     "metadata": {},
     "output_type": "execute_result"
    }
   ],
   "source": [
    "df.isnull().sum().sort_values(ascending=False)"
   ],
   "metadata": {
    "collapsed": false,
    "pycharm": {
     "name": "#%%\n"
    }
   }
  },
  {
   "cell_type": "markdown",
   "source": [
    "### MinTemp"
   ],
   "metadata": {
    "collapsed": false,
    "pycharm": {
     "name": "#%% md\n"
    }
   }
  },
  {
   "cell_type": "code",
   "execution_count": 47,
   "outputs": [
    {
     "name": "stdout",
     "output_type": "stream",
     "text": [
      "Los tipos de datos que hay en la columna son:\n",
      " 9.6     534\n",
      " 12.0    529\n",
      " 10.2    528\n",
      " 11.0    528\n",
      " 13.0    526\n",
      "        ... \n",
      "-8.0       1\n",
      "-5.5       1\n",
      "-6.5       1\n",
      "-6.9       1\n",
      " 30.2      1\n",
      "Name: MinTemp, Length: 370, dtype: int64\n"
     ]
    }
   ],
   "source": [
    "print(f\"Los tipos de datos que hay en la columna son:\\n{df.MinTemp.value_counts(dropna=False)}\")"
   ],
   "metadata": {
    "collapsed": false,
    "pycharm": {
     "name": "#%%\n"
    }
   }
  },
  {
   "cell_type": "code",
   "execution_count": 48,
   "outputs": [
    {
     "name": "stdout",
     "output_type": "stream",
     "text": [
      "Ahora La cantidad de nulos de la columna es de 121 filas y como son pocos, este puede ser reemplazado por la mediana.\n"
     ]
    }
   ],
   "source": [
    "var = 'MinTemp'\n",
    "print(f\"Ahora La cantidad de nulos de la columna es de {df[var].isnull().sum()} filas y como son pocos, este puede ser reemplazado por la mediana.\")\n",
    "from sklearn.impute import SimpleImputer\n",
    "\n",
    "imputer = SimpleImputer(strategy=\"median\")\n",
    "\n",
    "imputer.fit(df[[var]])\n",
    "\n",
    "df[var] = imputer.transform(df[[var]])"
   ],
   "metadata": {
    "collapsed": false,
    "pycharm": {
     "name": "#%%\n"
    }
   }
  },
  {
   "cell_type": "code",
   "execution_count": 49,
   "outputs": [
    {
     "name": "stdout",
     "output_type": "stream",
     "text": [
      "Ahora ya no hay mas nulos como se puede observar:\n",
      " 12.7    613\n",
      " 9.6     534\n",
      " 12.0    529\n",
      " 10.2    528\n",
      " 11.0    528\n",
      "        ... \n",
      "-6.6       1\n",
      "-6.0       1\n",
      "-5.5       1\n",
      "-6.1       1\n",
      " 30.2      1\n",
      "Name: MinTemp, Length: 369, dtype: int64\n"
     ]
    }
   ],
   "source": [
    "print(f\"Ahora ya no hay mas nulos como se puede observar:\\n{df.MinTemp.value_counts(dropna=False)}\")"
   ],
   "metadata": {
    "collapsed": false,
    "pycharm": {
     "name": "#%%\n"
    }
   }
  },
  {
   "cell_type": "markdown",
   "source": [
    "### MaxTemp"
   ],
   "metadata": {
    "collapsed": false,
    "pycharm": {
     "name": "#%% md\n"
    }
   }
  },
  {
   "cell_type": "code",
   "execution_count": 50,
   "outputs": [
    {
     "name": "stdout",
     "output_type": "stream",
     "text": [
      "Ahora ya no hay mas nulos como se puede observar:\n",
      " 12.7    613\n",
      " 9.6     534\n",
      " 12.0    529\n",
      " 10.2    528\n",
      " 11.0    528\n",
      "        ... \n",
      "-6.6       1\n",
      "-6.0       1\n",
      "-5.5       1\n",
      "-6.1       1\n",
      " 30.2      1\n",
      "Name: MinTemp, Length: 369, dtype: int64\n"
     ]
    }
   ],
   "source": [
    "print(f\"Ahora ya no hay mas nulos como se puede observar:\\n{df.MinTemp.value_counts(dropna=False)}\")"
   ],
   "metadata": {
    "collapsed": false,
    "pycharm": {
     "name": "#%%\n"
    }
   }
  },
  {
   "cell_type": "code",
   "execution_count": 51,
   "outputs": [
    {
     "name": "stdout",
     "output_type": "stream",
     "text": [
      "Ahora La cantidad de nulos de la columna es de 91 filas y como son pocos, este puede ser reemplazado por la mediana.\n"
     ]
    }
   ],
   "source": [
    "var = 'MaxTemp'\n",
    "print(f\"Ahora La cantidad de nulos de la columna es de {df[var].isnull().sum()} filas y como son pocos, este puede ser reemplazado por la mediana.\")\n",
    "from sklearn.impute import SimpleImputer\n",
    "\n",
    "imputer = SimpleImputer(strategy=\"median\")\n",
    "\n",
    "imputer.fit(df[[var]])\n",
    "\n",
    "df[var] = imputer.transform(df[[var]])"
   ],
   "metadata": {
    "collapsed": false,
    "pycharm": {
     "name": "#%%\n"
    }
   }
  },
  {
   "cell_type": "code",
   "execution_count": 52,
   "outputs": [
    {
     "data": {
      "text/plain": "(88659, 21)"
     },
     "execution_count": 52,
     "metadata": {},
     "output_type": "execute_result"
    }
   ],
   "source": [
    "df.shape"
   ],
   "metadata": {
    "collapsed": false,
    "pycharm": {
     "name": "#%%\n"
    }
   }
  },
  {
   "cell_type": "code",
   "execution_count": 53,
   "outputs": [
    {
     "data": {
      "text/plain": "Sunshine        21744\nLocation            0\nRainToday           0\nHumidity_day        0\nPressure_day        0\nCloud_day           0\nDay                 0\nMonth               0\nYear                0\nRainTomorrow        0\nRISK_MM             0\nTemp3pm             0\nMinTemp             0\nTemp9am             0\nPressure3pm         0\nPressure9am         0\nHumidity3pm         0\nHumidity9am         0\nRainfall            0\nMaxTemp             0\nTemp_day            0\ndtype: int64"
     },
     "execution_count": 53,
     "metadata": {},
     "output_type": "execute_result"
    }
   ],
   "source": [
    "df.isnull().sum().sort_values(ascending=False)"
   ],
   "metadata": {
    "collapsed": false,
    "pycharm": {
     "name": "#%%\n"
    }
   }
  },
  {
   "cell_type": "markdown",
   "source": [
    "### Sunshine"
   ],
   "metadata": {
    "collapsed": false,
    "pycharm": {
     "name": "#%% md\n"
    }
   }
  },
  {
   "cell_type": "code",
   "execution_count": 54,
   "outputs": [
    {
     "name": "stdout",
     "output_type": "stream",
     "text": [
      "Hay muchos nulos, se elimina la columna\n"
     ]
    }
   ],
   "source": [
    "print(f\"Hay muchos nulos, se elimina la columna\")"
   ],
   "metadata": {
    "collapsed": false,
    "pycharm": {
     "name": "#%%\n"
    }
   }
  },
  {
   "cell_type": "code",
   "execution_count": 55,
   "outputs": [],
   "source": [
    "df = df.drop(columns = ['Sunshine'])"
   ],
   "metadata": {
    "collapsed": false,
    "pycharm": {
     "name": "#%%\n"
    }
   }
  },
  {
   "cell_type": "code",
   "execution_count": 56,
   "outputs": [
    {
     "data": {
      "text/plain": "Index(['Location', 'MinTemp', 'MaxTemp', 'Rainfall', 'Humidity9am',\n       'Humidity3pm', 'Pressure9am', 'Pressure3pm', 'Temp9am', 'Temp3pm',\n       'RainToday', 'RISK_MM', 'RainTomorrow', 'Year', 'Month', 'Day',\n       'Cloud_day', 'Pressure_day', 'Humidity_day', 'Temp_day'],\n      dtype='object')"
     },
     "execution_count": 56,
     "metadata": {},
     "output_type": "execute_result"
    }
   ],
   "source": [
    "df.columns"
   ],
   "metadata": {
    "collapsed": false,
    "pycharm": {
     "name": "#%%\n"
    }
   }
  },
  {
   "cell_type": "code",
   "execution_count": 57,
   "outputs": [
    {
     "data": {
      "text/plain": "Location        0\nMinTemp         0\nHumidity_day    0\nPressure_day    0\nCloud_day       0\nDay             0\nMonth           0\nYear            0\nRainTomorrow    0\nRISK_MM         0\nRainToday       0\nTemp3pm         0\nTemp9am         0\nPressure3pm     0\nPressure9am     0\nHumidity3pm     0\nHumidity9am     0\nRainfall        0\nMaxTemp         0\nTemp_day        0\ndtype: int64"
     },
     "execution_count": 57,
     "metadata": {},
     "output_type": "execute_result"
    }
   ],
   "source": [
    "df.isnull().sum().sort_values(ascending=False)"
   ],
   "metadata": {
    "collapsed": false,
    "pycharm": {
     "name": "#%%\n"
    }
   }
  },
  {
   "cell_type": "markdown",
   "source": [
    "## Escalado y distribuciones"
   ],
   "metadata": {
    "collapsed": false,
    "pycharm": {
     "name": "#%% md\n"
    }
   }
  },
  {
   "cell_type": "code",
   "execution_count": 58,
   "outputs": [
    {
     "name": "stdout",
     "output_type": "stream",
     "text": [
      "Antes de plotear y analizar distribuciones es necesario saber a que variables debemos hacerlo ya que solo se realiza a variables numericas.\n",
      "Hacer un escalado a la variables:\n",
      "\t -MinTemp\n",
      "\t -MaxTemp\n",
      "\t -Rainfall\n",
      "\t -Humidity9am\n",
      "\t -Humidity3pm\n",
      "\t -Pressure9am\n",
      "\t -Pressure3pm\n",
      "\t -Temp9am\n",
      "\t -Temp3pm\n",
      "\t -RISK_MM\n",
      "\t -Year\n",
      "\t -Month\n",
      "\t -Day\n",
      "\t -Cloud_day\n",
      "\t -Pressure_day\n",
      "\t -Humidity_day\n",
      "\t -Temp_day\n"
     ]
    }
   ],
   "source": [
    "print(\"Antes de plotear y analizar distribuciones es necesario saber a que variables debemos hacerlo ya que solo se realiza a variables numericas.\")\n",
    "\n",
    "numericas = df.select_dtypes(exclude=['object']).columns\n",
    "print(\"Hacer un escalado a la variables:\")\n",
    "for variable in numericas:\n",
    "    print(f\"\\t -{variable}\")"
   ],
   "metadata": {
    "collapsed": false,
    "pycharm": {
     "name": "#%%\n"
    }
   }
  },
  {
   "cell_type": "markdown",
   "source": [
    "No es necesario hacer la distribucion de Year, Month, Day, Date"
   ],
   "metadata": {
    "collapsed": false,
    "pycharm": {
     "name": "#%% md\n"
    }
   }
  },
  {
   "cell_type": "markdown",
   "source": [
    "### MinTemp"
   ],
   "metadata": {
    "collapsed": false,
    "pycharm": {
     "name": "#%% md\n"
    }
   }
  },
  {
   "cell_type": "code",
   "execution_count": 59,
   "outputs": [
    {
     "name": "stdout",
     "output_type": "stream",
     "text": [
      "Maximo de la temperatura minima:  31.4\n",
      "Mediana de la temperatura minima:  12.7\n",
      "Promedio de la temperatura minima:  12.921\n",
      "Minimo de la temperatura minima:  -8.0\n"
     ]
    }
   ],
   "source": [
    "variable = 'MinTemp'\n",
    "print('Maximo de la temperatura minima: ', df[variable].max())\n",
    "print('Mediana de la temperatura minima: ', df[variable].median())\n",
    "print('Promedio de la temperatura minima: ', round(df[variable].mean(),3))\n",
    "print('Minimo de la temperatura minima: ', df[variable].min())"
   ],
   "metadata": {
    "collapsed": false,
    "pycharm": {
     "name": "#%%\n"
    }
   }
  },
  {
   "cell_type": "code",
   "execution_count": 60,
   "outputs": [
    {
     "data": {
      "text/plain": "<AxesSubplot:title={'center':'Boxplot de MinTemp'}, xlabel='MinTemp'>"
     },
     "execution_count": 60,
     "metadata": {},
     "output_type": "execute_result"
    },
    {
     "data": {
      "text/plain": "<Figure size 720x360 with 2 Axes>",
      "image/png": "[encoded data removed]"
     },
     "metadata": {
      "needs_background": "light"
     },
     "output_type": "display_data"
    }
   ],
   "source": [
    "fig, ax = plt.subplots(1,2,figsize=(10,5))\n",
    "\n",
    "ax[0].set_title(f\"Distribucion de {variable}\")\n",
    "sns.histplot(data = df, x = f\"{variable}\", kde=True, ax = ax[0])\n",
    "\n",
    "ax[1].set_title(f\"Boxplot de {variable}\")\n",
    "sns.boxplot(data = df, x = f\"{variable}\", ax=ax[1])"
   ],
   "metadata": {
    "collapsed": false,
    "pycharm": {
     "name": "#%%\n"
    }
   }
  },
  {
   "cell_type": "code",
   "execution_count": 61,
   "outputs": [
    {
     "name": "stdout",
     "output_type": "stream",
     "text": [
      "Como los datos de MinTemp no se distribuyen de manera normal se utiliza MinMaxScaler\n"
     ]
    },
    {
     "data": {
      "text/plain": "   Location   MinTemp  MaxTemp  Rainfall  Humidity9am  Humidity3pm  \\\n0    Albury  0.543147     22.9       0.6         71.0         22.0   \n2    Albury  0.530457     25.7       0.0         38.0         30.0   \n4    Albury  0.647208     32.3       1.0         82.0         33.0   \n6    Albury  0.565990     25.0       0.0         49.0         19.0   \n11   Albury  0.606599     21.7       2.2         89.0         91.0   \n\n    Pressure9am  Pressure3pm  Temp9am  Temp3pm RainToday  RISK_MM  \\\n0        1007.7       1007.1     16.9     21.8        No      0.0   \n2        1007.6       1008.7     21.0     23.2        No      0.0   \n4        1010.8       1006.0     17.8     29.7        No      0.2   \n6        1009.6       1008.2     18.1     24.6        No      0.0   \n11       1010.5       1004.2     15.9     17.0       Yes     15.6   \n\n   RainTomorrow  Year  Month  Day  Cloud_day  Pressure_day  Humidity_day  \\\n0            No  2008     12    1        8.0       1007.40          46.5   \n2            No  2008     12    3        2.0       1008.15          34.0   \n4            No  2008     12    5        7.5       1008.40          57.5   \n6            No  2008     12    7        1.0       1008.90          34.0   \n11          Yes  2008     12   12        8.0       1007.35          90.0   \n\n    Temp_day  \n0      19.35  \n2      22.10  \n4      23.75  \n6      21.35  \n11     16.45  ",
      "text/html": "<div>\n<style scoped>\n    .dataframe tbody tr th:only-of-type {\n        vertical-align: middle;\n    }\n\n    .dataframe tbody tr th {\n        vertical-align: top;\n    }\n\n    .dataframe thead th {\n        text-align: right;\n    }\n</style>\n<table border=\"1\" class=\"dataframe\">\n  <thead>\n    <tr style=\"text-align: right;\">\n      <th></th>\n      <th>Location</th>\n      <th>MinTemp</th>\n      <th>MaxTemp</th>\n      <th>Rainfall</th>\n      <th>Humidity9am</th>\n      <th>Humidity3pm</th>\n      <th>Pressure9am</th>\n      <th>Pressure3pm</th>\n      <th>Temp9am</th>\n      <th>Temp3pm</th>\n      <th>RainToday</th>\n      <th>RISK_MM</th>\n      <th>RainTomorrow</th>\n      <th>Year</th>\n      <th>Month</th>\n      <th>Day</th>\n      <th>Cloud_day</th>\n      <th>Pressure_day</th>\n      <th>Humidity_day</th>\n      <th>Temp_day</th>\n    </tr>\n  </thead>\n  <tbody>\n    <tr>\n      <th>0</th>\n      <td>Albury</td>\n      <td>0.543147</td>\n      <td>22.9</td>\n      <td>0.6</td>\n      <td>71.0</td>\n      <td>22.0</td>\n      <td>1007.7</td>\n      <td>1007.1</td>\n      <td>16.9</td>\n      <td>21.8</td>\n      <td>No</td>\n      <td>0.0</td>\n      <td>No</td>\n      <td>2008</td>\n      <td>12</td>\n      <td>1</td>\n      <td>8.0</td>\n      <td>1007.40</td>\n      <td>46.5</td>\n      <td>19.35</td>\n    </tr>\n    <tr>\n      <th>2</th>\n      <td>Albury</td>\n      <td>0.530457</td>\n      <td>25.7</td>\n      <td>0.0</td>\n      <td>38.0</td>\n      <td>30.0</td>\n      <td>1007.6</td>\n      <td>1008.7</td>\n      <td>21.0</td>\n      <td>23.2</td>\n      <td>No</td>\n      <td>0.0</td>\n      <td>No</td>\n      <td>2008</td>\n      <td>12</td>\n      <td>3</td>\n      <td>2.0</td>\n      <td>1008.15</td>\n      <td>34.0</td>\n      <td>22.10</td>\n    </tr>\n    <tr>\n      <th>4</th>\n      <td>Albury</td>\n      <td>0.647208</td>\n      <td>32.3</td>\n      <td>1.0</td>\n      <td>82.0</td>\n      <td>33.0</td>\n      <td>1010.8</td>\n      <td>1006.0</td>\n      <td>17.8</td>\n      <td>29.7</td>\n      <td>No</td>\n      <td>0.2</td>\n      <td>No</td>\n      <td>2008</td>\n      <td>12</td>\n      <td>5</td>\n      <td>7.5</td>\n      <td>1008.40</td>\n      <td>57.5</td>\n      <td>23.75</td>\n    </tr>\n    <tr>\n      <th>6</th>\n      <td>Albury</td>\n      <td>0.565990</td>\n      <td>25.0</td>\n      <td>0.0</td>\n      <td>49.0</td>\n      <td>19.0</td>\n      <td>1009.6</td>\n      <td>1008.2</td>\n      <td>18.1</td>\n      <td>24.6</td>\n      <td>No</td>\n      <td>0.0</td>\n      <td>No</td>\n      <td>2008</td>\n      <td>12</td>\n      <td>7</td>\n      <td>1.0</td>\n      <td>1008.90</td>\n      <td>34.0</td>\n      <td>21.35</td>\n    </tr>\n    <tr>\n      <th>11</th>\n      <td>Albury</td>\n      <td>0.606599</td>\n      <td>21.7</td>\n      <td>2.2</td>\n      <td>89.0</td>\n      <td>91.0</td>\n      <td>1010.5</td>\n      <td>1004.2</td>\n      <td>15.9</td>\n      <td>17.0</td>\n      <td>Yes</td>\n      <td>15.6</td>\n      <td>Yes</td>\n      <td>2008</td>\n      <td>12</td>\n      <td>12</td>\n      <td>8.0</td>\n      <td>1007.35</td>\n      <td>90.0</td>\n      <td>16.45</td>\n    </tr>\n  </tbody>\n</table>\n</div>"
     },
     "execution_count": 61,
     "metadata": {},
     "output_type": "execute_result"
    }
   ],
   "source": [
    "print(f\"Como los datos de {variable} no se distribuyen de manera normal se utiliza MinMaxScaler\")\n",
    "from sklearn.preprocessing import MinMaxScaler\n",
    "minmaxscaler = MinMaxScaler()\n",
    "\n",
    "df[variable]= minmaxscaler.fit_transform(df[[variable]])\n",
    "\n",
    "df.head()"
   ],
   "metadata": {
    "collapsed": false,
    "pycharm": {
     "name": "#%%\n"
    }
   }
  },
  {
   "cell_type": "markdown",
   "source": [
    "### MaxTemp"
   ],
   "metadata": {
    "collapsed": false,
    "pycharm": {
     "name": "#%% md\n"
    }
   }
  },
  {
   "cell_type": "code",
   "execution_count": 62,
   "outputs": [
    {
     "name": "stdout",
     "output_type": "stream",
     "text": [
      "Maximo de la temperatura minima:  48.1\n",
      "Mediana de la temperatura minima:  23.1\n",
      "Promedio de la temperatura minima:  23.669\n",
      "Minimo de la temperatura minima:  4.1\n"
     ]
    }
   ],
   "source": [
    "variable = 'MaxTemp'\n",
    "print('Maximo de la temperatura minima: ', df[variable].max())\n",
    "print('Mediana de la temperatura minima: ', df[variable].median())\n",
    "print('Promedio de la temperatura minima: ', round(df[variable].mean(),3))\n",
    "print('Minimo de la temperatura minima: ', df[variable].min())"
   ],
   "metadata": {
    "collapsed": false,
    "pycharm": {
     "name": "#%%\n"
    }
   }
  },
  {
   "cell_type": "code",
   "execution_count": 63,
   "outputs": [
    {
     "data": {
      "text/plain": "<AxesSubplot:title={'center':'Boxplot de MaxTemp'}, xlabel='MaxTemp'>"
     },
     "execution_count": 63,
     "metadata": {},
     "output_type": "execute_result"
    },
    {
     "data": {
      "text/plain": "<Figure size 720x360 with 2 Axes>",
      "image/png": "[encoded data removed]"
     },
     "metadata": {
      "needs_background": "light"
     },
     "output_type": "display_data"
    }
   ],
   "source": [
    "fig, ax = plt.subplots(1, 2, figsize=(10, 5))\n",
    "\n",
    "ax[0].set_title(f\"Distribucion de {variable}\")\n",
    "sns.histplot(data=df, x=f\"{variable}\", kde=True, ax=ax[0])\n",
    "\n",
    "ax[1].set_title(f\"Boxplot de {variable}\")\n",
    "sns.boxplot(data=df, x=f\"{variable}\", ax=ax[1])"
   ],
   "metadata": {
    "collapsed": false,
    "pycharm": {
     "name": "#%%\n"
    }
   }
  },
  {
   "cell_type": "code",
   "execution_count": 64,
   "outputs": [
    {
     "name": "stdout",
     "output_type": "stream",
     "text": [
      "Como los datos de MaxTemp se distribuyen de manera normal y tiene outliers se utiliza RobustScaler\n"
     ]
    },
    {
     "data": {
      "text/plain": "   Location   MinTemp   MaxTemp  Rainfall  Humidity9am  Humidity3pm  \\\n0    Albury  0.543147 -0.018349       0.6         71.0         22.0   \n2    Albury  0.530457  0.238532       0.0         38.0         30.0   \n4    Albury  0.647208  0.844037       1.0         82.0         33.0   \n6    Albury  0.565990  0.174312       0.0         49.0         19.0   \n11   Albury  0.606599 -0.128440       2.2         89.0         91.0   \n\n    Pressure9am  Pressure3pm  Temp9am  Temp3pm RainToday  RISK_MM  \\\n0        1007.7       1007.1     16.9     21.8        No      0.0   \n2        1007.6       1008.7     21.0     23.2        No      0.0   \n4        1010.8       1006.0     17.8     29.7        No      0.2   \n6        1009.6       1008.2     18.1     24.6        No      0.0   \n11       1010.5       1004.2     15.9     17.0       Yes     15.6   \n\n   RainTomorrow  Year  Month  Day  Cloud_day  Pressure_day  Humidity_day  \\\n0            No  2008     12    1        8.0       1007.40          46.5   \n2            No  2008     12    3        2.0       1008.15          34.0   \n4            No  2008     12    5        7.5       1008.40          57.5   \n6            No  2008     12    7        1.0       1008.90          34.0   \n11          Yes  2008     12   12        8.0       1007.35          90.0   \n\n    Temp_day  \n0      19.35  \n2      22.10  \n4      23.75  \n6      21.35  \n11     16.45  ",
      "text/html": "<div>\n<style scoped>\n    .dataframe tbody tr th:only-of-type {\n        vertical-align: middle;\n    }\n\n    .dataframe tbody tr th {\n        vertical-align: top;\n    }\n\n    .dataframe thead th {\n        text-align: right;\n    }\n</style>\n<table border=\"1\" class=\"dataframe\">\n  <thead>\n    <tr style=\"text-align: right;\">\n      <th></th>\n      <th>Location</th>\n      <th>MinTemp</th>\n      <th>MaxTemp</th>\n      <th>Rainfall</th>\n      <th>Humidity9am</th>\n      <th>Humidity3pm</th>\n      <th>Pressure9am</th>\n      <th>Pressure3pm</th>\n      <th>Temp9am</th>\n      <th>Temp3pm</th>\n      <th>RainToday</th>\n      <th>RISK_MM</th>\n      <th>RainTomorrow</th>\n      <th>Year</th>\n      <th>Month</th>\n      <th>Day</th>\n      <th>Cloud_day</th>\n      <th>Pressure_day</th>\n      <th>Humidity_day</th>\n      <th>Temp_day</th>\n    </tr>\n  </thead>\n  <tbody>\n    <tr>\n      <th>0</th>\n      <td>Albury</td>\n      <td>0.543147</td>\n      <td>-0.018349</td>\n      <td>0.6</td>\n      <td>71.0</td>\n      <td>22.0</td>\n      <td>1007.7</td>\n      <td>1007.1</td>\n      <td>16.9</td>\n      <td>21.8</td>\n      <td>No</td>\n      <td>0.0</td>\n      <td>No</td>\n      <td>2008</td>\n      <td>12</td>\n      <td>1</td>\n      <td>8.0</td>\n      <td>1007.40</td>\n      <td>46.5</td>\n      <td>19.35</td>\n    </tr>\n    <tr>\n      <th>2</th>\n      <td>Albury</td>\n      <td>0.530457</td>\n      <td>0.238532</td>\n      <td>0.0</td>\n      <td>38.0</td>\n      <td>30.0</td>\n      <td>1007.6</td>\n      <td>1008.7</td>\n      <td>21.0</td>\n      <td>23.2</td>\n      <td>No</td>\n      <td>0.0</td>\n      <td>No</td>\n      <td>2008</td>\n      <td>12</td>\n      <td>3</td>\n      <td>2.0</td>\n      <td>1008.15</td>\n      <td>34.0</td>\n      <td>22.10</td>\n    </tr>\n    <tr>\n      <th>4</th>\n      <td>Albury</td>\n      <td>0.647208</td>\n      <td>0.844037</td>\n      <td>1.0</td>\n      <td>82.0</td>\n      <td>33.0</td>\n      <td>1010.8</td>\n      <td>1006.0</td>\n      <td>17.8</td>\n      <td>29.7</td>\n      <td>No</td>\n      <td>0.2</td>\n      <td>No</td>\n      <td>2008</td>\n      <td>12</td>\n      <td>5</td>\n      <td>7.5</td>\n      <td>1008.40</td>\n      <td>57.5</td>\n      <td>23.75</td>\n    </tr>\n    <tr>\n      <th>6</th>\n      <td>Albury</td>\n      <td>0.565990</td>\n      <td>0.174312</td>\n      <td>0.0</td>\n      <td>49.0</td>\n      <td>19.0</td>\n      <td>1009.6</td>\n      <td>1008.2</td>\n      <td>18.1</td>\n      <td>24.6</td>\n      <td>No</td>\n      <td>0.0</td>\n      <td>No</td>\n      <td>2008</td>\n      <td>12</td>\n      <td>7</td>\n      <td>1.0</td>\n      <td>1008.90</td>\n      <td>34.0</td>\n      <td>21.35</td>\n    </tr>\n    <tr>\n      <th>11</th>\n      <td>Albury</td>\n      <td>0.606599</td>\n      <td>-0.128440</td>\n      <td>2.2</td>\n      <td>89.0</td>\n      <td>91.0</td>\n      <td>1010.5</td>\n      <td>1004.2</td>\n      <td>15.9</td>\n      <td>17.0</td>\n      <td>Yes</td>\n      <td>15.6</td>\n      <td>Yes</td>\n      <td>2008</td>\n      <td>12</td>\n      <td>12</td>\n      <td>8.0</td>\n      <td>1007.35</td>\n      <td>90.0</td>\n      <td>16.45</td>\n    </tr>\n  </tbody>\n</table>\n</div>"
     },
     "execution_count": 64,
     "metadata": {},
     "output_type": "execute_result"
    }
   ],
   "source": [
    "print(f\"Como los datos de {variable} se distribuyen de manera normal y tiene outliers se utiliza RobustScaler\")\n",
    "from sklearn.preprocessing import RobustScaler\n",
    "\n",
    "rb_scaler = RobustScaler()\n",
    "df[variable] = rb_scaler.fit_transform(df[[variable]])\n",
    "df.head()"
   ],
   "metadata": {
    "collapsed": false,
    "pycharm": {
     "name": "#%%\n"
    }
   }
  },
  {
   "cell_type": "markdown",
   "source": [
    "### Rainfall"
   ],
   "metadata": {
    "collapsed": false,
    "pycharm": {
     "name": "#%% md\n"
    }
   }
  },
  {
   "cell_type": "code",
   "execution_count": 65,
   "outputs": [
    {
     "name": "stdout",
     "output_type": "stream",
     "text": [
      "Maximo de Rainfall: 371.0\n",
      "Mediana de Rainfall: 0.0\n",
      "Promedio de Rainfall: 2.494\n",
      "Minimo de Rainfall: 0.0\n"
     ]
    }
   ],
   "source": [
    "variable = 'Rainfall'\n",
    "print(f'Maximo de {variable}:', df[variable].max())\n",
    "print(f'Mediana de {variable}:', df[variable].median())\n",
    "print(f'Promedio de {variable}:', round(df[variable].mean(),3))\n",
    "print(f'Minimo de {variable}:', df[variable].min())"
   ],
   "metadata": {
    "collapsed": false,
    "pycharm": {
     "name": "#%%\n"
    }
   }
  },
  {
   "cell_type": "markdown",
   "source": [
    "Se puede observar como el maximo es muchisimo mas alto que el pormedio y la mediana."
   ],
   "metadata": {
    "collapsed": false,
    "pycharm": {
     "name": "#%% md\n"
    }
   }
  },
  {
   "cell_type": "code",
   "execution_count": 66,
   "outputs": [
    {
     "data": {
      "text/plain": "<AxesSubplot:title={'center':'Boxplot de Rainfall'}, xlabel='Rainfall'>"
     },
     "execution_count": 66,
     "metadata": {},
     "output_type": "execute_result"
    },
    {
     "data": {
      "text/plain": "<Figure size 720x360 with 2 Axes>",
      "image/png": "[encoded data removed]"
     },
     "metadata": {
      "needs_background": "light"
     },
     "output_type": "display_data"
    }
   ],
   "source": [
    "fig, ax = plt.subplots(1,2,figsize=(10,5))\n",
    "\n",
    "ax[0].set_title(f\"Distribucion de {variable}\")\n",
    "sns.histplot(data = df, x = f\"{variable}\", kde=True, ax = ax[0])\n",
    "\n",
    "ax[1].set_title(f\"Boxplot de {variable}\")\n",
    "sns.boxplot(data = df, x = f\"{variable}\", ax=ax[1])"
   ],
   "metadata": {
    "collapsed": false,
    "pycharm": {
     "name": "#%%\n"
    }
   }
  },
  {
   "cell_type": "markdown",
   "source": [
    "por los outliers no permite ver que tipo de distribucion es, para esto filtro para mirar que tipo de de distribucion tiene"
   ],
   "metadata": {
    "collapsed": false,
    "pycharm": {
     "name": "#%% md\n"
    }
   }
  },
  {
   "cell_type": "code",
   "execution_count": 67,
   "outputs": [
    {
     "data": {
      "text/plain": "   Location   MinTemp   MaxTemp  Rainfall  Humidity9am  Humidity3pm  \\\n0    Albury  0.543147 -0.018349       0.6         71.0         22.0   \n2    Albury  0.530457  0.238532       0.0         38.0         30.0   \n4    Albury  0.647208  0.844037       1.0         82.0         33.0   \n6    Albury  0.565990  0.174312       0.0         49.0         19.0   \n14   Albury  0.451777  0.422018       0.0         50.0         28.0   \n\n    Pressure9am  Pressure3pm  Temp9am  Temp3pm RainToday  RISK_MM  \\\n0        1007.7       1007.1     16.9     21.8        No      0.0   \n2        1007.6       1008.7     21.0     23.2        No      0.0   \n4        1010.8       1006.0     17.8     29.7        No      0.2   \n6        1009.6       1008.2     18.1     24.6        No      0.0   \n14       1013.4       1010.3     17.3     26.2        No      0.0   \n\n   RainTomorrow  Year  Month  Day  Cloud_day  Pressure_day  Humidity_day  \\\n0            No  2008     12    1        8.0       1007.40          46.5   \n2            No  2008     12    3        2.0       1008.15          34.0   \n4            No  2008     12    5        7.5       1008.40          57.5   \n6            No  2008     12    7        1.0       1008.90          34.0   \n14           No  2008     12   16        0.0       1011.85          39.0   \n\n    Temp_day  \n0      19.35  \n2      22.10  \n4      23.75  \n6      21.35  \n14     21.75  ",
      "text/html": "<div>\n<style scoped>\n    .dataframe tbody tr th:only-of-type {\n        vertical-align: middle;\n    }\n\n    .dataframe tbody tr th {\n        vertical-align: top;\n    }\n\n    .dataframe thead th {\n        text-align: right;\n    }\n</style>\n<table border=\"1\" class=\"dataframe\">\n  <thead>\n    <tr style=\"text-align: right;\">\n      <th></th>\n      <th>Location</th>\n      <th>MinTemp</th>\n      <th>MaxTemp</th>\n      <th>Rainfall</th>\n      <th>Humidity9am</th>\n      <th>Humidity3pm</th>\n      <th>Pressure9am</th>\n      <th>Pressure3pm</th>\n      <th>Temp9am</th>\n      <th>Temp3pm</th>\n      <th>RainToday</th>\n      <th>RISK_MM</th>\n      <th>RainTomorrow</th>\n      <th>Year</th>\n      <th>Month</th>\n      <th>Day</th>\n      <th>Cloud_day</th>\n      <th>Pressure_day</th>\n      <th>Humidity_day</th>\n      <th>Temp_day</th>\n    </tr>\n  </thead>\n  <tbody>\n    <tr>\n      <th>0</th>\n      <td>Albury</td>\n      <td>0.543147</td>\n      <td>-0.018349</td>\n      <td>0.6</td>\n      <td>71.0</td>\n      <td>22.0</td>\n      <td>1007.7</td>\n      <td>1007.1</td>\n      <td>16.9</td>\n      <td>21.8</td>\n      <td>No</td>\n      <td>0.0</td>\n      <td>No</td>\n      <td>2008</td>\n      <td>12</td>\n      <td>1</td>\n      <td>8.0</td>\n      <td>1007.40</td>\n      <td>46.5</td>\n      <td>19.35</td>\n    </tr>\n    <tr>\n      <th>2</th>\n      <td>Albury</td>\n      <td>0.530457</td>\n      <td>0.238532</td>\n      <td>0.0</td>\n      <td>38.0</td>\n      <td>30.0</td>\n      <td>1007.6</td>\n      <td>1008.7</td>\n      <td>21.0</td>\n      <td>23.2</td>\n      <td>No</td>\n      <td>0.0</td>\n      <td>No</td>\n      <td>2008</td>\n      <td>12</td>\n      <td>3</td>\n      <td>2.0</td>\n      <td>1008.15</td>\n      <td>34.0</td>\n      <td>22.10</td>\n    </tr>\n    <tr>\n      <th>4</th>\n      <td>Albury</td>\n      <td>0.647208</td>\n      <td>0.844037</td>\n      <td>1.0</td>\n      <td>82.0</td>\n      <td>33.0</td>\n      <td>1010.8</td>\n      <td>1006.0</td>\n      <td>17.8</td>\n      <td>29.7</td>\n      <td>No</td>\n      <td>0.2</td>\n      <td>No</td>\n      <td>2008</td>\n      <td>12</td>\n      <td>5</td>\n      <td>7.5</td>\n      <td>1008.40</td>\n      <td>57.5</td>\n      <td>23.75</td>\n    </tr>\n    <tr>\n      <th>6</th>\n      <td>Albury</td>\n      <td>0.565990</td>\n      <td>0.174312</td>\n      <td>0.0</td>\n      <td>49.0</td>\n      <td>19.0</td>\n      <td>1009.6</td>\n      <td>1008.2</td>\n      <td>18.1</td>\n      <td>24.6</td>\n      <td>No</td>\n      <td>0.0</td>\n      <td>No</td>\n      <td>2008</td>\n      <td>12</td>\n      <td>7</td>\n      <td>1.0</td>\n      <td>1008.90</td>\n      <td>34.0</td>\n      <td>21.35</td>\n    </tr>\n    <tr>\n      <th>14</th>\n      <td>Albury</td>\n      <td>0.451777</td>\n      <td>0.422018</td>\n      <td>0.0</td>\n      <td>50.0</td>\n      <td>28.0</td>\n      <td>1013.4</td>\n      <td>1010.3</td>\n      <td>17.3</td>\n      <td>26.2</td>\n      <td>No</td>\n      <td>0.0</td>\n      <td>No</td>\n      <td>2008</td>\n      <td>12</td>\n      <td>16</td>\n      <td>0.0</td>\n      <td>1011.85</td>\n      <td>39.0</td>\n      <td>21.75</td>\n    </tr>\n  </tbody>\n</table>\n</div>"
     },
     "execution_count": 67,
     "metadata": {},
     "output_type": "execute_result"
    }
   ],
   "source": [
    "df_filtrado =  df[df[\"Rainfall\"] <2]\n",
    "df_filtrado.head()"
   ],
   "metadata": {
    "collapsed": false,
    "pycharm": {
     "name": "#%%\n"
    }
   }
  },
  {
   "cell_type": "code",
   "execution_count": 68,
   "outputs": [
    {
     "name": "stdout",
     "output_type": "stream",
     "text": [
      "Grafico sin outliers en Rainfall\n"
     ]
    },
    {
     "data": {
      "text/plain": "<Figure size 720x360 with 2 Axes>",
      "image/png": "[encoded data removed]"
     },
     "metadata": {
      "needs_background": "light"
     },
     "output_type": "display_data"
    }
   ],
   "source": [
    "variable = 'Rainfall'\n",
    "print(\"Grafico sin outliers en Rainfall\")\n",
    "fig, ax = plt.subplots(1,2,figsize=(10,5))\n",
    "\n",
    "ax[0].set_title(f\"Distribucion de {variable}\")\n",
    "sns.histplot(data = df_filtrado, x = f\"{variable}\", kde=True, ax = ax[0])\n",
    "\n",
    "ax[1].set_title(f\"Boxplot de{variable}\")\n",
    "sns.boxplot(data = df_filtrado, x = f\"{variable}\", ax=ax[1])\n",
    "plt.show()"
   ],
   "metadata": {
    "collapsed": false,
    "pycharm": {
     "name": "#%%\n"
    }
   }
  },
  {
   "cell_type": "code",
   "execution_count": 69,
   "outputs": [
    {
     "name": "stdout",
     "output_type": "stream",
     "text": [
      "Como los datos de Rainfall no se distribuyen de manera normal se utiliza MinMaxScaler\n"
     ]
    },
    {
     "data": {
      "text/plain": "   Location   MinTemp   MaxTemp  Rainfall  Humidity9am  Humidity3pm  \\\n0    Albury  0.543147 -0.018349  0.001617         71.0         22.0   \n2    Albury  0.530457  0.238532  0.000000         38.0         30.0   \n4    Albury  0.647208  0.844037  0.002695         82.0         33.0   \n6    Albury  0.565990  0.174312  0.000000         49.0         19.0   \n11   Albury  0.606599 -0.128440  0.005930         89.0         91.0   \n\n    Pressure9am  Pressure3pm  Temp9am  Temp3pm RainToday  RISK_MM  \\\n0        1007.7       1007.1     16.9     21.8        No      0.0   \n2        1007.6       1008.7     21.0     23.2        No      0.0   \n4        1010.8       1006.0     17.8     29.7        No      0.2   \n6        1009.6       1008.2     18.1     24.6        No      0.0   \n11       1010.5       1004.2     15.9     17.0       Yes     15.6   \n\n   RainTomorrow  Year  Month  Day  Cloud_day  Pressure_day  Humidity_day  \\\n0            No  2008     12    1        8.0       1007.40          46.5   \n2            No  2008     12    3        2.0       1008.15          34.0   \n4            No  2008     12    5        7.5       1008.40          57.5   \n6            No  2008     12    7        1.0       1008.90          34.0   \n11          Yes  2008     12   12        8.0       1007.35          90.0   \n\n    Temp_day  \n0      19.35  \n2      22.10  \n4      23.75  \n6      21.35  \n11     16.45  ",
      "text/html": "<div>\n<style scoped>\n    .dataframe tbody tr th:only-of-type {\n        vertical-align: middle;\n    }\n\n    .dataframe tbody tr th {\n        vertical-align: top;\n    }\n\n    .dataframe thead th {\n        text-align: right;\n    }\n</style>\n<table border=\"1\" class=\"dataframe\">\n  <thead>\n    <tr style=\"text-align: right;\">\n      <th></th>\n      <th>Location</th>\n      <th>MinTemp</th>\n      <th>MaxTemp</th>\n      <th>Rainfall</th>\n      <th>Humidity9am</th>\n      <th>Humidity3pm</th>\n      <th>Pressure9am</th>\n      <th>Pressure3pm</th>\n      <th>Temp9am</th>\n      <th>Temp3pm</th>\n      <th>RainToday</th>\n      <th>RISK_MM</th>\n      <th>RainTomorrow</th>\n      <th>Year</th>\n      <th>Month</th>\n      <th>Day</th>\n      <th>Cloud_day</th>\n      <th>Pressure_day</th>\n      <th>Humidity_day</th>\n      <th>Temp_day</th>\n    </tr>\n  </thead>\n  <tbody>\n    <tr>\n      <th>0</th>\n      <td>Albury</td>\n      <td>0.543147</td>\n      <td>-0.018349</td>\n      <td>0.001617</td>\n      <td>71.0</td>\n      <td>22.0</td>\n      <td>1007.7</td>\n      <td>1007.1</td>\n      <td>16.9</td>\n      <td>21.8</td>\n      <td>No</td>\n      <td>0.0</td>\n      <td>No</td>\n      <td>2008</td>\n      <td>12</td>\n      <td>1</td>\n      <td>8.0</td>\n      <td>1007.40</td>\n      <td>46.5</td>\n      <td>19.35</td>\n    </tr>\n    <tr>\n      <th>2</th>\n      <td>Albury</td>\n      <td>0.530457</td>\n      <td>0.238532</td>\n      <td>0.000000</td>\n      <td>38.0</td>\n      <td>30.0</td>\n      <td>1007.6</td>\n      <td>1008.7</td>\n      <td>21.0</td>\n      <td>23.2</td>\n      <td>No</td>\n      <td>0.0</td>\n      <td>No</td>\n      <td>2008</td>\n      <td>12</td>\n      <td>3</td>\n      <td>2.0</td>\n      <td>1008.15</td>\n      <td>34.0</td>\n      <td>22.10</td>\n    </tr>\n    <tr>\n      <th>4</th>\n      <td>Albury</td>\n      <td>0.647208</td>\n      <td>0.844037</td>\n      <td>0.002695</td>\n      <td>82.0</td>\n      <td>33.0</td>\n      <td>1010.8</td>\n      <td>1006.0</td>\n      <td>17.8</td>\n      <td>29.7</td>\n      <td>No</td>\n      <td>0.2</td>\n      <td>No</td>\n      <td>2008</td>\n      <td>12</td>\n      <td>5</td>\n      <td>7.5</td>\n      <td>1008.40</td>\n      <td>57.5</td>\n      <td>23.75</td>\n    </tr>\n    <tr>\n      <th>6</th>\n      <td>Albury</td>\n      <td>0.565990</td>\n      <td>0.174312</td>\n      <td>0.000000</td>\n      <td>49.0</td>\n      <td>19.0</td>\n      <td>1009.6</td>\n      <td>1008.2</td>\n      <td>18.1</td>\n      <td>24.6</td>\n      <td>No</td>\n      <td>0.0</td>\n      <td>No</td>\n      <td>2008</td>\n      <td>12</td>\n      <td>7</td>\n      <td>1.0</td>\n      <td>1008.90</td>\n      <td>34.0</td>\n      <td>21.35</td>\n    </tr>\n    <tr>\n      <th>11</th>\n      <td>Albury</td>\n      <td>0.606599</td>\n      <td>-0.128440</td>\n      <td>0.005930</td>\n      <td>89.0</td>\n      <td>91.0</td>\n      <td>1010.5</td>\n      <td>1004.2</td>\n      <td>15.9</td>\n      <td>17.0</td>\n      <td>Yes</td>\n      <td>15.6</td>\n      <td>Yes</td>\n      <td>2008</td>\n      <td>12</td>\n      <td>12</td>\n      <td>8.0</td>\n      <td>1007.35</td>\n      <td>90.0</td>\n      <td>16.45</td>\n    </tr>\n  </tbody>\n</table>\n</div>"
     },
     "execution_count": 69,
     "metadata": {},
     "output_type": "execute_result"
    }
   ],
   "source": [
    "print(f\"Como los datos de {variable} no se distribuyen de manera normal se utiliza MinMaxScaler\")\n",
    "from sklearn.preprocessing import MinMaxScaler\n",
    "minmaxscaler = MinMaxScaler()\n",
    "\n",
    "df[variable]= minmaxscaler.fit_transform(df[[variable]])\n",
    "df.head()"
   ],
   "metadata": {
    "collapsed": false,
    "pycharm": {
     "name": "#%%\n"
    }
   }
  },
  {
   "cell_type": "markdown",
   "source": [
    "### RISK_MM"
   ],
   "metadata": {
    "collapsed": false,
    "pycharm": {
     "name": "#%% md\n"
    }
   }
  },
  {
   "cell_type": "code",
   "execution_count": 70,
   "outputs": [
    {
     "name": "stdout",
     "output_type": "stream",
     "text": [
      "Maximo de RISK_MM: 371.0\n",
      "Mediana de RISK_MM: 0\n",
      "Promedio de RISK_MM: 2.5\n",
      "Minimo de RISK_MM: 0\n"
     ]
    }
   ],
   "source": [
    "variable = 'RISK_MM'\n",
    "print(f'Maximo de {variable}:', df[variable].max())\n",
    "print(f'Mediana de {variable}:', round(df[variable].median()))\n",
    "print(f'Promedio de {variable}:', round(df[variable].mean(),2))\n",
    "print(f'Minimo de {variable}:', round(df[variable].min()))"
   ],
   "metadata": {
    "collapsed": false,
    "pycharm": {
     "name": "#%%\n"
    }
   }
  },
  {
   "cell_type": "code",
   "execution_count": 71,
   "outputs": [
    {
     "data": {
      "text/plain": "<AxesSubplot:title={'center':'Boxplot deRISK_MM'}, xlabel='RISK_MM'>"
     },
     "execution_count": 71,
     "metadata": {},
     "output_type": "execute_result"
    },
    {
     "data": {
      "text/plain": "<Figure size 720x360 with 2 Axes>",
      "image/png": "[encoded data removed]"
     },
     "metadata": {
      "needs_background": "light"
     },
     "output_type": "display_data"
    }
   ],
   "source": [
    "fig, ax = plt.subplots(1,2,figsize=(10,5))\n",
    "\n",
    "ax[0].set_title(f\"Distribucion de {variable}\")\n",
    "sns.histplot(data = df, x = f\"{variable}\", kde=True, ax = ax[0])\n",
    "\n",
    "ax[1].set_title(f\"Boxplot de{variable}\")\n",
    "sns.boxplot(data = df, x = f\"{variable}\", ax=ax[1])"
   ],
   "metadata": {
    "collapsed": false,
    "pycharm": {
     "name": "#%%\n"
    }
   }
  },
  {
   "cell_type": "markdown",
   "source": [
    "por los outliers no permite ver que tipo de distribucion es, para esto filtro para mirar que tipo de de distribucion tiene"
   ],
   "metadata": {
    "collapsed": false,
    "pycharm": {
     "name": "#%% md\n"
    }
   }
  },
  {
   "cell_type": "code",
   "execution_count": 72,
   "outputs": [
    {
     "data": {
      "text/plain": "   Location   MinTemp   MaxTemp  Rainfall  Humidity9am  Humidity3pm  \\\n0    Albury  0.543147 -0.018349  0.001617         71.0         22.0   \n2    Albury  0.530457  0.238532  0.000000         38.0         30.0   \n4    Albury  0.647208  0.844037  0.002695         82.0         33.0   \n6    Albury  0.565990  0.174312  0.000000         49.0         19.0   \n12   Albury  0.606599 -0.412844  0.042049         76.0         93.0   \n\n    Pressure9am  Pressure3pm  Temp9am  Temp3pm RainToday  RISK_MM  \\\n0        1007.7       1007.1     16.9     21.8        No      0.0   \n2        1007.6       1008.7     21.0     23.2        No      0.0   \n4        1010.8       1006.0     17.8     29.7        No      0.2   \n6        1009.6       1008.2     18.1     24.6        No      0.0   \n12        994.3        993.0     17.4     15.8       Yes      3.6   \n\n   RainTomorrow  Year  Month  Day  Cloud_day  Pressure_day  Humidity_day  \\\n0            No  2008     12    1        8.0       1007.40          46.5   \n2            No  2008     12    3        2.0       1008.15          34.0   \n4            No  2008     12    5        7.5       1008.40          57.5   \n6            No  2008     12    7        1.0       1008.90          34.0   \n12          Yes  2008     12   13        8.0        993.65          84.5   \n\n    Temp_day  \n0      19.35  \n2      22.10  \n4      23.75  \n6      21.35  \n12     16.60  ",
      "text/html": "<div>\n<style scoped>\n    .dataframe tbody tr th:only-of-type {\n        vertical-align: middle;\n    }\n\n    .dataframe tbody tr th {\n        vertical-align: top;\n    }\n\n    .dataframe thead th {\n        text-align: right;\n    }\n</style>\n<table border=\"1\" class=\"dataframe\">\n  <thead>\n    <tr style=\"text-align: right;\">\n      <th></th>\n      <th>Location</th>\n      <th>MinTemp</th>\n      <th>MaxTemp</th>\n      <th>Rainfall</th>\n      <th>Humidity9am</th>\n      <th>Humidity3pm</th>\n      <th>Pressure9am</th>\n      <th>Pressure3pm</th>\n      <th>Temp9am</th>\n      <th>Temp3pm</th>\n      <th>RainToday</th>\n      <th>RISK_MM</th>\n      <th>RainTomorrow</th>\n      <th>Year</th>\n      <th>Month</th>\n      <th>Day</th>\n      <th>Cloud_day</th>\n      <th>Pressure_day</th>\n      <th>Humidity_day</th>\n      <th>Temp_day</th>\n    </tr>\n  </thead>\n  <tbody>\n    <tr>\n      <th>0</th>\n      <td>Albury</td>\n      <td>0.543147</td>\n      <td>-0.018349</td>\n      <td>0.001617</td>\n      <td>71.0</td>\n      <td>22.0</td>\n      <td>1007.7</td>\n      <td>1007.1</td>\n      <td>16.9</td>\n      <td>21.8</td>\n      <td>No</td>\n      <td>0.0</td>\n      <td>No</td>\n      <td>2008</td>\n      <td>12</td>\n      <td>1</td>\n      <td>8.0</td>\n      <td>1007.40</td>\n      <td>46.5</td>\n      <td>19.35</td>\n    </tr>\n    <tr>\n      <th>2</th>\n      <td>Albury</td>\n      <td>0.530457</td>\n      <td>0.238532</td>\n      <td>0.000000</td>\n      <td>38.0</td>\n      <td>30.0</td>\n      <td>1007.6</td>\n      <td>1008.7</td>\n      <td>21.0</td>\n      <td>23.2</td>\n      <td>No</td>\n      <td>0.0</td>\n      <td>No</td>\n      <td>2008</td>\n      <td>12</td>\n      <td>3</td>\n      <td>2.0</td>\n      <td>1008.15</td>\n      <td>34.0</td>\n      <td>22.10</td>\n    </tr>\n    <tr>\n      <th>4</th>\n      <td>Albury</td>\n      <td>0.647208</td>\n      <td>0.844037</td>\n      <td>0.002695</td>\n      <td>82.0</td>\n      <td>33.0</td>\n      <td>1010.8</td>\n      <td>1006.0</td>\n      <td>17.8</td>\n      <td>29.7</td>\n      <td>No</td>\n      <td>0.2</td>\n      <td>No</td>\n      <td>2008</td>\n      <td>12</td>\n      <td>5</td>\n      <td>7.5</td>\n      <td>1008.40</td>\n      <td>57.5</td>\n      <td>23.75</td>\n    </tr>\n    <tr>\n      <th>6</th>\n      <td>Albury</td>\n      <td>0.565990</td>\n      <td>0.174312</td>\n      <td>0.000000</td>\n      <td>49.0</td>\n      <td>19.0</td>\n      <td>1009.6</td>\n      <td>1008.2</td>\n      <td>18.1</td>\n      <td>24.6</td>\n      <td>No</td>\n      <td>0.0</td>\n      <td>No</td>\n      <td>2008</td>\n      <td>12</td>\n      <td>7</td>\n      <td>1.0</td>\n      <td>1008.90</td>\n      <td>34.0</td>\n      <td>21.35</td>\n    </tr>\n    <tr>\n      <th>12</th>\n      <td>Albury</td>\n      <td>0.606599</td>\n      <td>-0.412844</td>\n      <td>0.042049</td>\n      <td>76.0</td>\n      <td>93.0</td>\n      <td>994.3</td>\n      <td>993.0</td>\n      <td>17.4</td>\n      <td>15.8</td>\n      <td>Yes</td>\n      <td>3.6</td>\n      <td>Yes</td>\n      <td>2008</td>\n      <td>12</td>\n      <td>13</td>\n      <td>8.0</td>\n      <td>993.65</td>\n      <td>84.5</td>\n      <td>16.60</td>\n    </tr>\n  </tbody>\n</table>\n</div>"
     },
     "execution_count": 72,
     "metadata": {},
     "output_type": "execute_result"
    }
   ],
   "source": [
    "df_filtrado = df[df[\"RISK_MM\"] <5]\n",
    "df_filtrado.head()"
   ],
   "metadata": {
    "collapsed": false,
    "pycharm": {
     "name": "#%%\n"
    }
   }
  },
  {
   "cell_type": "code",
   "execution_count": 73,
   "outputs": [
    {
     "name": "stdout",
     "output_type": "stream",
     "text": [
      "Grafico sin outliers en RISK_MM\n"
     ]
    },
    {
     "data": {
      "text/plain": "<Figure size 720x360 with 2 Axes>",
      "image/png": "[encoded data removed]"
     },
     "metadata": {
      "needs_background": "light"
     },
     "output_type": "display_data"
    }
   ],
   "source": [
    "variable = 'RISK_MM'\n",
    "print(\"Grafico sin outliers en RISK_MM\")\n",
    "fig, ax = plt.subplots(1,2,figsize=(10,5))\n",
    "\n",
    "ax[0].set_title(f\"Distribucion de {variable}\")\n",
    "sns.histplot(data = df_filtrado, x = f\"{variable}\", kde=True, ax = ax[0])\n",
    "\n",
    "ax[1].set_title(f\"Boxplot de{variable}\")\n",
    "sns.boxplot(data = df_filtrado, x = f\"{variable}\", ax=ax[1])\n",
    "plt.show()"
   ],
   "metadata": {
    "collapsed": false,
    "pycharm": {
     "name": "#%%\n"
    }
   }
  },
  {
   "cell_type": "code",
   "execution_count": 74,
   "outputs": [
    {
     "name": "stdout",
     "output_type": "stream",
     "text": [
      "Se utiliza MinMaxScaler porque RISK_MM no es una distribución normal\n"
     ]
    },
    {
     "data": {
      "text/plain": "   Location   MinTemp   MaxTemp  Rainfall  Humidity9am  Humidity3pm  \\\n0    Albury  0.543147 -0.018349  0.001617         71.0         22.0   \n2    Albury  0.530457  0.238532  0.000000         38.0         30.0   \n4    Albury  0.647208  0.844037  0.002695         82.0         33.0   \n6    Albury  0.565990  0.174312  0.000000         49.0         19.0   \n11   Albury  0.606599 -0.128440  0.005930         89.0         91.0   \n\n    Pressure9am  Pressure3pm  Temp9am  Temp3pm RainToday   RISK_MM  \\\n0        1007.7       1007.1     16.9     21.8        No  0.000000   \n2        1007.6       1008.7     21.0     23.2        No  0.000000   \n4        1010.8       1006.0     17.8     29.7        No  0.000539   \n6        1009.6       1008.2     18.1     24.6        No  0.000000   \n11       1010.5       1004.2     15.9     17.0       Yes  0.042049   \n\n   RainTomorrow  Year  Month  Day  Cloud_day  Pressure_day  Humidity_day  \\\n0            No  2008     12    1        8.0       1007.40          46.5   \n2            No  2008     12    3        2.0       1008.15          34.0   \n4            No  2008     12    5        7.5       1008.40          57.5   \n6            No  2008     12    7        1.0       1008.90          34.0   \n11          Yes  2008     12   12        8.0       1007.35          90.0   \n\n    Temp_day  \n0      19.35  \n2      22.10  \n4      23.75  \n6      21.35  \n11     16.45  ",
      "text/html": "<div>\n<style scoped>\n    .dataframe tbody tr th:only-of-type {\n        vertical-align: middle;\n    }\n\n    .dataframe tbody tr th {\n        vertical-align: top;\n    }\n\n    .dataframe thead th {\n        text-align: right;\n    }\n</style>\n<table border=\"1\" class=\"dataframe\">\n  <thead>\n    <tr style=\"text-align: right;\">\n      <th></th>\n      <th>Location</th>\n      <th>MinTemp</th>\n      <th>MaxTemp</th>\n      <th>Rainfall</th>\n      <th>Humidity9am</th>\n      <th>Humidity3pm</th>\n      <th>Pressure9am</th>\n      <th>Pressure3pm</th>\n      <th>Temp9am</th>\n      <th>Temp3pm</th>\n      <th>RainToday</th>\n      <th>RISK_MM</th>\n      <th>RainTomorrow</th>\n      <th>Year</th>\n      <th>Month</th>\n      <th>Day</th>\n      <th>Cloud_day</th>\n      <th>Pressure_day</th>\n      <th>Humidity_day</th>\n      <th>Temp_day</th>\n    </tr>\n  </thead>\n  <tbody>\n    <tr>\n      <th>0</th>\n      <td>Albury</td>\n      <td>0.543147</td>\n      <td>-0.018349</td>\n      <td>0.001617</td>\n      <td>71.0</td>\n      <td>22.0</td>\n      <td>1007.7</td>\n      <td>1007.1</td>\n      <td>16.9</td>\n      <td>21.8</td>\n      <td>No</td>\n      <td>0.000000</td>\n      <td>No</td>\n      <td>2008</td>\n      <td>12</td>\n      <td>1</td>\n      <td>8.0</td>\n      <td>1007.40</td>\n      <td>46.5</td>\n      <td>19.35</td>\n    </tr>\n    <tr>\n      <th>2</th>\n      <td>Albury</td>\n      <td>0.530457</td>\n      <td>0.238532</td>\n      <td>0.000000</td>\n      <td>38.0</td>\n      <td>30.0</td>\n      <td>1007.6</td>\n      <td>1008.7</td>\n      <td>21.0</td>\n      <td>23.2</td>\n      <td>No</td>\n      <td>0.000000</td>\n      <td>No</td>\n      <td>2008</td>\n      <td>12</td>\n      <td>3</td>\n      <td>2.0</td>\n      <td>1008.15</td>\n      <td>34.0</td>\n      <td>22.10</td>\n    </tr>\n    <tr>\n      <th>4</th>\n      <td>Albury</td>\n      <td>0.647208</td>\n      <td>0.844037</td>\n      <td>0.002695</td>\n      <td>82.0</td>\n      <td>33.0</td>\n      <td>1010.8</td>\n      <td>1006.0</td>\n      <td>17.8</td>\n      <td>29.7</td>\n      <td>No</td>\n      <td>0.000539</td>\n      <td>No</td>\n      <td>2008</td>\n      <td>12</td>\n      <td>5</td>\n      <td>7.5</td>\n      <td>1008.40</td>\n      <td>57.5</td>\n      <td>23.75</td>\n    </tr>\n    <tr>\n      <th>6</th>\n      <td>Albury</td>\n      <td>0.565990</td>\n      <td>0.174312</td>\n      <td>0.000000</td>\n      <td>49.0</td>\n      <td>19.0</td>\n      <td>1009.6</td>\n      <td>1008.2</td>\n      <td>18.1</td>\n      <td>24.6</td>\n      <td>No</td>\n      <td>0.000000</td>\n      <td>No</td>\n      <td>2008</td>\n      <td>12</td>\n      <td>7</td>\n      <td>1.0</td>\n      <td>1008.90</td>\n      <td>34.0</td>\n      <td>21.35</td>\n    </tr>\n    <tr>\n      <th>11</th>\n      <td>Albury</td>\n      <td>0.606599</td>\n      <td>-0.128440</td>\n      <td>0.005930</td>\n      <td>89.0</td>\n      <td>91.0</td>\n      <td>1010.5</td>\n      <td>1004.2</td>\n      <td>15.9</td>\n      <td>17.0</td>\n      <td>Yes</td>\n      <td>0.042049</td>\n      <td>Yes</td>\n      <td>2008</td>\n      <td>12</td>\n      <td>12</td>\n      <td>8.0</td>\n      <td>1007.35</td>\n      <td>90.0</td>\n      <td>16.45</td>\n    </tr>\n  </tbody>\n</table>\n</div>"
     },
     "execution_count": 74,
     "metadata": {},
     "output_type": "execute_result"
    }
   ],
   "source": [
    "from sklearn.preprocessing import MinMaxScaler\n",
    "\n",
    "minmaxscaler = MinMaxScaler()\n",
    "print(f\"Se utiliza MinMaxScaler porque {variable} no es una distribución normal\")\n",
    "df[variable]= minmaxscaler.fit_transform(df[[variable]])\n",
    "df.head()"
   ],
   "metadata": {
    "collapsed": false,
    "pycharm": {
     "name": "#%%\n"
    }
   }
  },
  {
   "cell_type": "markdown",
   "source": [
    "### Humidity9am, Humidity3pm y humidity_day"
   ],
   "metadata": {
    "collapsed": false,
    "pycharm": {
     "name": "#%% md\n"
    }
   }
  },
  {
   "cell_type": "code",
   "execution_count": 75,
   "outputs": [
    {
     "name": "stdout",
     "output_type": "stream",
     "text": [
      "Maximo de Humidity9am: 100.0\n",
      "Mediana de Humidity9am: 69.0\n",
      "Promedio de Humidity9am: 67.839\n",
      "Minimo de Humidity9am: 0.0\n"
     ]
    }
   ],
   "source": [
    "variable1 = 'Humidity9am'\n",
    "print(f'Maximo de {variable1}:', df[variable1].max())\n",
    "print(f'Mediana de {variable1}:', df[variable1].median())\n",
    "print(f'Promedio de {variable1}:', round(df[variable1].mean(),3))\n",
    "print(f'Minimo de {variable1}:', df[variable1].min())"
   ],
   "metadata": {
    "collapsed": false,
    "pycharm": {
     "name": "#%%\n"
    }
   }
  },
  {
   "cell_type": "code",
   "execution_count": 76,
   "outputs": [
    {
     "data": {
      "text/plain": "<AxesSubplot:title={'center':'Boxplot de Humidity9am'}, xlabel='Humidity9am'>"
     },
     "execution_count": 76,
     "metadata": {},
     "output_type": "execute_result"
    },
    {
     "data": {
      "text/plain": "<Figure size 720x360 with 2 Axes>",
      "image/png": "[encoded data removed]"
     },
     "metadata": {
      "needs_background": "light"
     },
     "output_type": "display_data"
    }
   ],
   "source": [
    "fig, ax = plt.subplots(1,2,figsize=(10,5))\n",
    "\n",
    "ax[0].set_title(f\"Distribucion de {variable1}\")\n",
    "sns.histplot(data = df, x = f\"{variable1}\", kde=True, ax = ax[0])\n",
    "\n",
    "ax[1].set_title(f\"Boxplot de {variable1}\")\n",
    "sns.boxplot(data = df, x = f\"{variable1}\", ax=ax[1])"
   ],
   "metadata": {
    "collapsed": false,
    "pycharm": {
     "name": "#%%\n"
    }
   }
  },
  {
   "cell_type": "code",
   "execution_count": 77,
   "outputs": [
    {
     "name": "stdout",
     "output_type": "stream",
     "text": [
      "Maximo de Humidity3pm: 100.0\n",
      "Mediana de Humidity3pm: 52.0\n",
      "Promedio de Humidity3pm: 51.3329\n",
      "Minimo de Humidity3pm: 0.0\n"
     ]
    }
   ],
   "source": [
    "variable2 = 'Humidity3pm'\n",
    "print(f'Maximo de {variable2}:', df[variable2].max())\n",
    "print(f'Mediana de {variable2}:', df[variable2].median())\n",
    "print(f'Promedio de {variable2}:', round(df[variable2].mean(),4))\n",
    "print(f'Minimo de {variable2}:', df[variable2].min())"
   ],
   "metadata": {
    "collapsed": false,
    "pycharm": {
     "name": "#%%\n"
    }
   }
  },
  {
   "cell_type": "code",
   "execution_count": 78,
   "outputs": [
    {
     "data": {
      "text/plain": "<AxesSubplot:title={'center':'Boxplot de Humidity3pm'}, xlabel='Humidity3pm'>"
     },
     "execution_count": 78,
     "metadata": {},
     "output_type": "execute_result"
    },
    {
     "data": {
      "text/plain": "<Figure size 720x360 with 2 Axes>",
      "image/png": "[encoded data removed]"
     },
     "metadata": {
      "needs_background": "light"
     },
     "output_type": "display_data"
    }
   ],
   "source": [
    "fig, ax = plt.subplots(1,2,figsize=(10,5))\n",
    "\n",
    "ax[0].set_title(f\"Distribucion de {variable2}\")\n",
    "sns.histplot(data = df, x = f\"{variable2}\", kde=True, ax = ax[0])\n",
    "\n",
    "ax[1].set_title(f\"Boxplot de {variable2}\")\n",
    "sns.boxplot(data = df, x = f\"{variable2}\", ax=ax[1])"
   ],
   "metadata": {
    "collapsed": false,
    "pycharm": {
     "name": "#%%\n"
    }
   }
  },
  {
   "cell_type": "code",
   "execution_count": 79,
   "outputs": [
    {
     "data": {
      "text/plain": "<AxesSubplot:title={'center':'Boxplot deHumidity_day'}, xlabel='Humidity_day'>"
     },
     "execution_count": 79,
     "metadata": {},
     "output_type": "execute_result"
    },
    {
     "data": {
      "text/plain": "<Figure size 720x360 with 2 Axes>",
      "image/png": "[encoded data removed]"
     },
     "metadata": {
      "needs_background": "light"
     },
     "output_type": "display_data"
    }
   ],
   "source": [
    "variable3 = \"Humidity_day\"\n",
    "\n",
    "fig, ax = plt.subplots(1, 2, figsize=(10, 5))\n",
    "\n",
    "ax[0].set_title(f\"Distribucion de {variable3}\")\n",
    "sns.histplot(data=df, x=f\"{variable3}\", kde=True, ax=ax[0])\n",
    "\n",
    "ax[1].set_title(f\"Boxplot de{variable3}\")\n",
    "sns.boxplot(data=df, x=f\"{variable3}\", ax=ax[1])"
   ],
   "metadata": {
    "collapsed": false,
    "pycharm": {
     "name": "#%%\n"
    }
   }
  },
  {
   "cell_type": "code",
   "execution_count": 80,
   "outputs": [
    {
     "name": "stdout",
     "output_type": "stream",
     "text": [
      "Se utiliza MinMaxScaler porque Humidity9am no es una distribución normal\n"
     ]
    },
    {
     "data": {
      "text/plain": "   Location   MinTemp   MaxTemp  Rainfall  Humidity9am  Humidity3pm  \\\n0    Albury  0.543147 -0.018349  0.001617         0.71         22.0   \n2    Albury  0.530457  0.238532  0.000000         0.38         30.0   \n4    Albury  0.647208  0.844037  0.002695         0.82         33.0   \n6    Albury  0.565990  0.174312  0.000000         0.49         19.0   \n11   Albury  0.606599 -0.128440  0.005930         0.89         91.0   \n\n    Pressure9am  Pressure3pm  Temp9am  Temp3pm RainToday   RISK_MM  \\\n0        1007.7       1007.1     16.9     21.8        No  0.000000   \n2        1007.6       1008.7     21.0     23.2        No  0.000000   \n4        1010.8       1006.0     17.8     29.7        No  0.000539   \n6        1009.6       1008.2     18.1     24.6        No  0.000000   \n11       1010.5       1004.2     15.9     17.0       Yes  0.042049   \n\n   RainTomorrow  Year  Month  Day  Cloud_day  Pressure_day  Humidity_day  \\\n0            No  2008     12    1        8.0       1007.40          46.5   \n2            No  2008     12    3        2.0       1008.15          34.0   \n4            No  2008     12    5        7.5       1008.40          57.5   \n6            No  2008     12    7        1.0       1008.90          34.0   \n11          Yes  2008     12   12        8.0       1007.35          90.0   \n\n    Temp_day  \n0      19.35  \n2      22.10  \n4      23.75  \n6      21.35  \n11     16.45  ",
      "text/html": "<div>\n<style scoped>\n    .dataframe tbody tr th:only-of-type {\n        vertical-align: middle;\n    }\n\n    .dataframe tbody tr th {\n        vertical-align: top;\n    }\n\n    .dataframe thead th {\n        text-align: right;\n    }\n</style>\n<table border=\"1\" class=\"dataframe\">\n  <thead>\n    <tr style=\"text-align: right;\">\n      <th></th>\n      <th>Location</th>\n      <th>MinTemp</th>\n      <th>MaxTemp</th>\n      <th>Rainfall</th>\n      <th>Humidity9am</th>\n      <th>Humidity3pm</th>\n      <th>Pressure9am</th>\n      <th>Pressure3pm</th>\n      <th>Temp9am</th>\n      <th>Temp3pm</th>\n      <th>RainToday</th>\n      <th>RISK_MM</th>\n      <th>RainTomorrow</th>\n      <th>Year</th>\n      <th>Month</th>\n      <th>Day</th>\n      <th>Cloud_day</th>\n      <th>Pressure_day</th>\n      <th>Humidity_day</th>\n      <th>Temp_day</th>\n    </tr>\n  </thead>\n  <tbody>\n    <tr>\n      <th>0</th>\n      <td>Albury</td>\n      <td>0.543147</td>\n      <td>-0.018349</td>\n      <td>0.001617</td>\n      <td>0.71</td>\n      <td>22.0</td>\n      <td>1007.7</td>\n      <td>1007.1</td>\n      <td>16.9</td>\n      <td>21.8</td>\n      <td>No</td>\n      <td>0.000000</td>\n      <td>No</td>\n      <td>2008</td>\n      <td>12</td>\n      <td>1</td>\n      <td>8.0</td>\n      <td>1007.40</td>\n      <td>46.5</td>\n      <td>19.35</td>\n    </tr>\n    <tr>\n      <th>2</th>\n      <td>Albury</td>\n      <td>0.530457</td>\n      <td>0.238532</td>\n      <td>0.000000</td>\n      <td>0.38</td>\n      <td>30.0</td>\n      <td>1007.6</td>\n      <td>1008.7</td>\n      <td>21.0</td>\n      <td>23.2</td>\n      <td>No</td>\n      <td>0.000000</td>\n      <td>No</td>\n      <td>2008</td>\n      <td>12</td>\n      <td>3</td>\n      <td>2.0</td>\n      <td>1008.15</td>\n      <td>34.0</td>\n      <td>22.10</td>\n    </tr>\n    <tr>\n      <th>4</th>\n      <td>Albury</td>\n      <td>0.647208</td>\n      <td>0.844037</td>\n      <td>0.002695</td>\n      <td>0.82</td>\n      <td>33.0</td>\n      <td>1010.8</td>\n      <td>1006.0</td>\n      <td>17.8</td>\n      <td>29.7</td>\n      <td>No</td>\n      <td>0.000539</td>\n      <td>No</td>\n      <td>2008</td>\n      <td>12</td>\n      <td>5</td>\n      <td>7.5</td>\n      <td>1008.40</td>\n      <td>57.5</td>\n      <td>23.75</td>\n    </tr>\n    <tr>\n      <th>6</th>\n      <td>Albury</td>\n      <td>0.565990</td>\n      <td>0.174312</td>\n      <td>0.000000</td>\n      <td>0.49</td>\n      <td>19.0</td>\n      <td>1009.6</td>\n      <td>1008.2</td>\n      <td>18.1</td>\n      <td>24.6</td>\n      <td>No</td>\n      <td>0.000000</td>\n      <td>No</td>\n      <td>2008</td>\n      <td>12</td>\n      <td>7</td>\n      <td>1.0</td>\n      <td>1008.90</td>\n      <td>34.0</td>\n      <td>21.35</td>\n    </tr>\n    <tr>\n      <th>11</th>\n      <td>Albury</td>\n      <td>0.606599</td>\n      <td>-0.128440</td>\n      <td>0.005930</td>\n      <td>0.89</td>\n      <td>91.0</td>\n      <td>1010.5</td>\n      <td>1004.2</td>\n      <td>15.9</td>\n      <td>17.0</td>\n      <td>Yes</td>\n      <td>0.042049</td>\n      <td>Yes</td>\n      <td>2008</td>\n      <td>12</td>\n      <td>12</td>\n      <td>8.0</td>\n      <td>1007.35</td>\n      <td>90.0</td>\n      <td>16.45</td>\n    </tr>\n  </tbody>\n</table>\n</div>"
     },
     "execution_count": 80,
     "metadata": {},
     "output_type": "execute_result"
    }
   ],
   "source": [
    "from sklearn.preprocessing import MinMaxScaler\n",
    "\n",
    "minmaxscaler = MinMaxScaler()\n",
    "print(f\"Se utiliza MinMaxScaler porque {variable1} no es una distribución normal\")\n",
    "df[variable1]= minmaxscaler.fit_transform(df[[variable1]])\n",
    "df.head()"
   ],
   "metadata": {
    "collapsed": false,
    "pycharm": {
     "name": "#%%\n"
    }
   }
  },
  {
   "cell_type": "code",
   "execution_count": 81,
   "outputs": [
    {
     "data": {
      "text/plain": "   Location   MinTemp   MaxTemp  Rainfall  Humidity9am  Humidity3pm  \\\n0    Albury  0.543147 -0.018349  0.001617         0.71    -1.000000   \n2    Albury  0.530457  0.238532  0.000000         0.38    -0.733333   \n4    Albury  0.647208  0.844037  0.002695         0.82    -0.633333   \n6    Albury  0.565990  0.174312  0.000000         0.49    -1.100000   \n11   Albury  0.606599 -0.128440  0.005930         0.89     1.300000   \n\n    Pressure9am  Pressure3pm  Temp9am  Temp3pm RainToday   RISK_MM  \\\n0        1007.7       1007.1     16.9     21.8        No  0.000000   \n2        1007.6       1008.7     21.0     23.2        No  0.000000   \n4        1010.8       1006.0     17.8     29.7        No  0.000539   \n6        1009.6       1008.2     18.1     24.6        No  0.000000   \n11       1010.5       1004.2     15.9     17.0       Yes  0.042049   \n\n   RainTomorrow  Year  Month  Day  Cloud_day  Pressure_day  Humidity_day  \\\n0            No  2008     12    1        8.0       1007.40     -0.591837   \n2            No  2008     12    3        2.0       1008.15     -1.102041   \n4            No  2008     12    5        7.5       1008.40     -0.142857   \n6            No  2008     12    7        1.0       1008.90     -1.102041   \n11          Yes  2008     12   12        8.0       1007.35      1.183673   \n\n    Temp_day  \n0      19.35  \n2      22.10  \n4      23.75  \n6      21.35  \n11     16.45  ",
      "text/html": "<div>\n<style scoped>\n    .dataframe tbody tr th:only-of-type {\n        vertical-align: middle;\n    }\n\n    .dataframe tbody tr th {\n        vertical-align: top;\n    }\n\n    .dataframe thead th {\n        text-align: right;\n    }\n</style>\n<table border=\"1\" class=\"dataframe\">\n  <thead>\n    <tr style=\"text-align: right;\">\n      <th></th>\n      <th>Location</th>\n      <th>MinTemp</th>\n      <th>MaxTemp</th>\n      <th>Rainfall</th>\n      <th>Humidity9am</th>\n      <th>Humidity3pm</th>\n      <th>Pressure9am</th>\n      <th>Pressure3pm</th>\n      <th>Temp9am</th>\n      <th>Temp3pm</th>\n      <th>RainToday</th>\n      <th>RISK_MM</th>\n      <th>RainTomorrow</th>\n      <th>Year</th>\n      <th>Month</th>\n      <th>Day</th>\n      <th>Cloud_day</th>\n      <th>Pressure_day</th>\n      <th>Humidity_day</th>\n      <th>Temp_day</th>\n    </tr>\n  </thead>\n  <tbody>\n    <tr>\n      <th>0</th>\n      <td>Albury</td>\n      <td>0.543147</td>\n      <td>-0.018349</td>\n      <td>0.001617</td>\n      <td>0.71</td>\n      <td>-1.000000</td>\n      <td>1007.7</td>\n      <td>1007.1</td>\n      <td>16.9</td>\n      <td>21.8</td>\n      <td>No</td>\n      <td>0.000000</td>\n      <td>No</td>\n      <td>2008</td>\n      <td>12</td>\n      <td>1</td>\n      <td>8.0</td>\n      <td>1007.40</td>\n      <td>-0.591837</td>\n      <td>19.35</td>\n    </tr>\n    <tr>\n      <th>2</th>\n      <td>Albury</td>\n      <td>0.530457</td>\n      <td>0.238532</td>\n      <td>0.000000</td>\n      <td>0.38</td>\n      <td>-0.733333</td>\n      <td>1007.6</td>\n      <td>1008.7</td>\n      <td>21.0</td>\n      <td>23.2</td>\n      <td>No</td>\n      <td>0.000000</td>\n      <td>No</td>\n      <td>2008</td>\n      <td>12</td>\n      <td>3</td>\n      <td>2.0</td>\n      <td>1008.15</td>\n      <td>-1.102041</td>\n      <td>22.10</td>\n    </tr>\n    <tr>\n      <th>4</th>\n      <td>Albury</td>\n      <td>0.647208</td>\n      <td>0.844037</td>\n      <td>0.002695</td>\n      <td>0.82</td>\n      <td>-0.633333</td>\n      <td>1010.8</td>\n      <td>1006.0</td>\n      <td>17.8</td>\n      <td>29.7</td>\n      <td>No</td>\n      <td>0.000539</td>\n      <td>No</td>\n      <td>2008</td>\n      <td>12</td>\n      <td>5</td>\n      <td>7.5</td>\n      <td>1008.40</td>\n      <td>-0.142857</td>\n      <td>23.75</td>\n    </tr>\n    <tr>\n      <th>6</th>\n      <td>Albury</td>\n      <td>0.565990</td>\n      <td>0.174312</td>\n      <td>0.000000</td>\n      <td>0.49</td>\n      <td>-1.100000</td>\n      <td>1009.6</td>\n      <td>1008.2</td>\n      <td>18.1</td>\n      <td>24.6</td>\n      <td>No</td>\n      <td>0.000000</td>\n      <td>No</td>\n      <td>2008</td>\n      <td>12</td>\n      <td>7</td>\n      <td>1.0</td>\n      <td>1008.90</td>\n      <td>-1.102041</td>\n      <td>21.35</td>\n    </tr>\n    <tr>\n      <th>11</th>\n      <td>Albury</td>\n      <td>0.606599</td>\n      <td>-0.128440</td>\n      <td>0.005930</td>\n      <td>0.89</td>\n      <td>1.300000</td>\n      <td>1010.5</td>\n      <td>1004.2</td>\n      <td>15.9</td>\n      <td>17.0</td>\n      <td>Yes</td>\n      <td>0.042049</td>\n      <td>Yes</td>\n      <td>2008</td>\n      <td>12</td>\n      <td>12</td>\n      <td>8.0</td>\n      <td>1007.35</td>\n      <td>1.183673</td>\n      <td>16.45</td>\n    </tr>\n  </tbody>\n</table>\n</div>"
     },
     "execution_count": 81,
     "metadata": {},
     "output_type": "execute_result"
    }
   ],
   "source": [
    "from sklearn.preprocessing import RobustScaler\n",
    "\n",
    "robustscaler2 = RobustScaler()\n",
    "variable2 = 'Humidity3pm'\n",
    "variable3 = \"Humidity_day\"\n",
    "df[variable2], df[variable3] =  robustscaler2.fit_transform(df[[variable2,variable3]]).T\n",
    "\n",
    "df.head()"
   ],
   "metadata": {
    "collapsed": false,
    "pycharm": {
     "name": "#%%\n"
    }
   }
  },
  {
   "cell_type": "markdown",
   "source": [
    "### Pressure9am, Pressure 3pm y Pressure_day"
   ],
   "metadata": {
    "collapsed": false,
    "pycharm": {
     "name": "#%% md\n"
    }
   }
  },
  {
   "cell_type": "code",
   "execution_count": 82,
   "outputs": [
    {
     "data": {
      "text/plain": "<AxesSubplot:title={'center':'Boxplot dePressure9am'}, xlabel='Pressure9am'>"
     },
     "execution_count": 82,
     "metadata": {},
     "output_type": "execute_result"
    },
    {
     "data": {
      "text/plain": "<Figure size 720x360 with 2 Axes>",
      "image/png": "[encoded data removed]"
     },
     "metadata": {
      "needs_background": "light"
     },
     "output_type": "display_data"
    }
   ],
   "source": [
    "variable1 = \"Pressure9am\"\n",
    "\n",
    "fig, ax = plt.subplots(1,2,figsize=(10,5))\n",
    "\n",
    "ax[0].set_title(f\"Distribucion de {variable1}\")\n",
    "sns.histplot(data = df, x = f\"{variable1}\", kde=True, ax = ax[0])\n",
    "\n",
    "ax[1].set_title(f\"Boxplot de{variable1}\")\n",
    "sns.boxplot(data = df, x = f\"{variable1}\", ax=ax[1])"
   ],
   "metadata": {
    "collapsed": false,
    "pycharm": {
     "name": "#%%\n"
    }
   }
  },
  {
   "cell_type": "code",
   "execution_count": 83,
   "outputs": [
    {
     "data": {
      "text/plain": "<AxesSubplot:title={'center':'Boxplot dePressure3pm'}, xlabel='Pressure3pm'>"
     },
     "execution_count": 83,
     "metadata": {},
     "output_type": "execute_result"
    },
    {
     "data": {
      "text/plain": "<Figure size 720x360 with 2 Axes>",
      "image/png": "[encoded data removed]"
     },
     "metadata": {
      "needs_background": "light"
     },
     "output_type": "display_data"
    }
   ],
   "source": [
    "variable2 = \"Pressure3pm\"\n",
    "\n",
    "fig, ax = plt.subplots(1, 2, figsize=(10, 5))\n",
    "\n",
    "ax[0].set_title(f\"Distribucion de {variable2}\")\n",
    "sns.histplot(data=df, x=f\"{variable2}\", kde=True, ax=ax[0])\n",
    "\n",
    "ax[1].set_title(f\"Boxplot de{variable2}\")\n",
    "sns.boxplot(data=df, x=f\"{variable2}\", ax=ax[1])"
   ],
   "metadata": {
    "collapsed": false,
    "pycharm": {
     "name": "#%%\n"
    }
   }
  },
  {
   "cell_type": "code",
   "execution_count": 84,
   "outputs": [
    {
     "data": {
      "text/plain": "<AxesSubplot:title={'center':'Boxplot dePressure_day'}, xlabel='Pressure_day'>"
     },
     "execution_count": 84,
     "metadata": {},
     "output_type": "execute_result"
    },
    {
     "data": {
      "text/plain": "<Figure size 720x360 with 2 Axes>",
      "image/png": "[encoded data removed]"
     },
     "metadata": {
      "needs_background": "light"
     },
     "output_type": "display_data"
    }
   ],
   "source": [
    "variable3 = \"Pressure_day\"\n",
    "\n",
    "fig, ax = plt.subplots(1, 2, figsize=(10, 5))\n",
    "\n",
    "ax[0].set_title(f\"Distribucion de {variable3}\")\n",
    "sns.histplot(data=df, x=f\"{variable3}\", kde=True, ax=ax[0])\n",
    "\n",
    "ax[1].set_title(f\"Boxplot de{variable3}\")\n",
    "sns.boxplot(data=df, x=f\"{variable3}\", ax=ax[1])"
   ],
   "metadata": {
    "collapsed": false,
    "pycharm": {
     "name": "#%%\n"
    }
   }
  },
  {
   "cell_type": "code",
   "execution_count": 85,
   "outputs": [
    {
     "name": "stdout",
     "output_type": "stream",
     "text": [
      "Como los datos de las columas ('Pressure9am', 'Pressure3pm', 'Pressure_day') se distribuyen de manera normal y tienen outliers se utiliza RobustScaler\n"
     ]
    },
    {
     "data": {
      "text/plain": "   Location   MinTemp   MaxTemp  Rainfall  Humidity9am  Humidity3pm  \\\n0    Albury  0.543147 -0.018349  0.001617         0.71    -1.000000   \n2    Albury  0.530457  0.238532  0.000000         0.38    -0.733333   \n4    Albury  0.647208  0.844037  0.002695         0.82    -0.633333   \n6    Albury  0.565990  0.174312  0.000000         0.49    -1.100000   \n11   Albury  0.606599 -0.128440  0.005930         0.89     1.300000   \n\n    Pressure9am  Pressure3pm  Temp9am  Temp3pm RainToday   RISK_MM  \\\n0     -1.021277    -0.812500     16.9     21.8        No  0.000000   \n2     -1.031915    -0.645833     21.0     23.2        No  0.000000   \n4     -0.691489    -0.927083     17.8     29.7        No  0.000539   \n6     -0.819149    -0.697917     18.1     24.6        No  0.000000   \n11    -0.723404    -1.114583     15.9     17.0       Yes  0.042049   \n\n   RainTomorrow  Year  Month  Day  Cloud_day  Pressure_day  Humidity_day  \\\n0            No  2008     12    1        8.0     -0.920635     -0.591837   \n2            No  2008     12    3        2.0     -0.841270     -1.102041   \n4            No  2008     12    5        7.5     -0.814815     -0.142857   \n6            No  2008     12    7        1.0     -0.761905     -1.102041   \n11          Yes  2008     12   12        8.0     -0.925926      1.183673   \n\n    Temp_day  \n0      19.35  \n2      22.10  \n4      23.75  \n6      21.35  \n11     16.45  ",
      "text/html": "<div>\n<style scoped>\n    .dataframe tbody tr th:only-of-type {\n        vertical-align: middle;\n    }\n\n    .dataframe tbody tr th {\n        vertical-align: top;\n    }\n\n    .dataframe thead th {\n        text-align: right;\n    }\n</style>\n<table border=\"1\" class=\"dataframe\">\n  <thead>\n    <tr style=\"text-align: right;\">\n      <th></th>\n      <th>Location</th>\n      <th>MinTemp</th>\n      <th>MaxTemp</th>\n      <th>Rainfall</th>\n      <th>Humidity9am</th>\n      <th>Humidity3pm</th>\n      <th>Pressure9am</th>\n      <th>Pressure3pm</th>\n      <th>Temp9am</th>\n      <th>Temp3pm</th>\n      <th>RainToday</th>\n      <th>RISK_MM</th>\n      <th>RainTomorrow</th>\n      <th>Year</th>\n      <th>Month</th>\n      <th>Day</th>\n      <th>Cloud_day</th>\n      <th>Pressure_day</th>\n      <th>Humidity_day</th>\n      <th>Temp_day</th>\n    </tr>\n  </thead>\n  <tbody>\n    <tr>\n      <th>0</th>\n      <td>Albury</td>\n      <td>0.543147</td>\n      <td>-0.018349</td>\n      <td>0.001617</td>\n      <td>0.71</td>\n      <td>-1.000000</td>\n      <td>-1.021277</td>\n      <td>-0.812500</td>\n      <td>16.9</td>\n      <td>21.8</td>\n      <td>No</td>\n      <td>0.000000</td>\n      <td>No</td>\n      <td>2008</td>\n      <td>12</td>\n      <td>1</td>\n      <td>8.0</td>\n      <td>-0.920635</td>\n      <td>-0.591837</td>\n      <td>19.35</td>\n    </tr>\n    <tr>\n      <th>2</th>\n      <td>Albury</td>\n      <td>0.530457</td>\n      <td>0.238532</td>\n      <td>0.000000</td>\n      <td>0.38</td>\n      <td>-0.733333</td>\n      <td>-1.031915</td>\n      <td>-0.645833</td>\n      <td>21.0</td>\n      <td>23.2</td>\n      <td>No</td>\n      <td>0.000000</td>\n      <td>No</td>\n      <td>2008</td>\n      <td>12</td>\n      <td>3</td>\n      <td>2.0</td>\n      <td>-0.841270</td>\n      <td>-1.102041</td>\n      <td>22.10</td>\n    </tr>\n    <tr>\n      <th>4</th>\n      <td>Albury</td>\n      <td>0.647208</td>\n      <td>0.844037</td>\n      <td>0.002695</td>\n      <td>0.82</td>\n      <td>-0.633333</td>\n      <td>-0.691489</td>\n      <td>-0.927083</td>\n      <td>17.8</td>\n      <td>29.7</td>\n      <td>No</td>\n      <td>0.000539</td>\n      <td>No</td>\n      <td>2008</td>\n      <td>12</td>\n      <td>5</td>\n      <td>7.5</td>\n      <td>-0.814815</td>\n      <td>-0.142857</td>\n      <td>23.75</td>\n    </tr>\n    <tr>\n      <th>6</th>\n      <td>Albury</td>\n      <td>0.565990</td>\n      <td>0.174312</td>\n      <td>0.000000</td>\n      <td>0.49</td>\n      <td>-1.100000</td>\n      <td>-0.819149</td>\n      <td>-0.697917</td>\n      <td>18.1</td>\n      <td>24.6</td>\n      <td>No</td>\n      <td>0.000000</td>\n      <td>No</td>\n      <td>2008</td>\n      <td>12</td>\n      <td>7</td>\n      <td>1.0</td>\n      <td>-0.761905</td>\n      <td>-1.102041</td>\n      <td>21.35</td>\n    </tr>\n    <tr>\n      <th>11</th>\n      <td>Albury</td>\n      <td>0.606599</td>\n      <td>-0.128440</td>\n      <td>0.005930</td>\n      <td>0.89</td>\n      <td>1.300000</td>\n      <td>-0.723404</td>\n      <td>-1.114583</td>\n      <td>15.9</td>\n      <td>17.0</td>\n      <td>Yes</td>\n      <td>0.042049</td>\n      <td>Yes</td>\n      <td>2008</td>\n      <td>12</td>\n      <td>12</td>\n      <td>8.0</td>\n      <td>-0.925926</td>\n      <td>1.183673</td>\n      <td>16.45</td>\n    </tr>\n  </tbody>\n</table>\n</div>"
     },
     "execution_count": 85,
     "metadata": {},
     "output_type": "execute_result"
    }
   ],
   "source": [
    "from sklearn.preprocessing import RobustScaler\n",
    "print(f\"Como los datos de las columas {variable1,variable2, variable3 } se distribuyen de manera normal y tienen outliers se utiliza RobustScaler\")\n",
    "robustscaler2 = RobustScaler()\n",
    "variable1 = 'Pressure9am'\n",
    "variable2 = 'Pressure3pm'\n",
    "variable3 = 'Pressure_day'\n",
    "\n",
    "df[variable1], df[variable2], df[variable3] =  robustscaler2.fit_transform(df[[variable1,variable2,variable3]]).T\n",
    "\n",
    "df.head()"
   ],
   "metadata": {
    "collapsed": false,
    "pycharm": {
     "name": "#%%\n"
    }
   }
  },
  {
   "cell_type": "markdown",
   "source": [
    "### Temp9am, Temp3pm y Temp_day"
   ],
   "metadata": {
    "collapsed": false,
    "pycharm": {
     "name": "#%% md\n"
    }
   }
  },
  {
   "cell_type": "code",
   "execution_count": 86,
   "outputs": [
    {
     "data": {
      "text/plain": "<AxesSubplot:title={'center':'Boxplot deTemp9am'}, xlabel='Temp9am'>"
     },
     "execution_count": 86,
     "metadata": {},
     "output_type": "execute_result"
    },
    {
     "data": {
      "text/plain": "<Figure size 720x360 with 2 Axes>",
      "image/png": "[encoded data removed]"
     },
     "metadata": {
      "needs_background": "light"
     },
     "output_type": "display_data"
    }
   ],
   "source": [
    "variable1 = \"Temp9am\"\n",
    "\n",
    "fig, ax = plt.subplots(1,2,figsize=(10,5))\n",
    "\n",
    "ax[0].set_title(f\"Distribucion de {variable1}\")\n",
    "sns.histplot(data = df, x = f\"{variable1}\", kde=True, ax = ax[0])\n",
    "\n",
    "ax[1].set_title(f\"Boxplot de{variable1}\")\n",
    "sns.boxplot(data = df, x = f\"{variable1}\", ax=ax[1])"
   ],
   "metadata": {
    "collapsed": false,
    "pycharm": {
     "name": "#%%\n"
    }
   }
  },
  {
   "cell_type": "code",
   "execution_count": 87,
   "outputs": [
    {
     "data": {
      "text/plain": "<AxesSubplot:title={'center':'Boxplot deTemp3pm'}, xlabel='Temp3pm'>"
     },
     "execution_count": 87,
     "metadata": {},
     "output_type": "execute_result"
    },
    {
     "data": {
      "text/plain": "<Figure size 720x360 with 2 Axes>",
      "image/png": "[encoded data removed]"
     },
     "metadata": {
      "needs_background": "light"
     },
     "output_type": "display_data"
    }
   ],
   "source": [
    "variable2 = \"Temp3pm\"\n",
    "\n",
    "fig, ax = plt.subplots(1, 2, figsize=(10, 5))\n",
    "\n",
    "ax[0].set_title(f\"Distribucion de {variable2}\")\n",
    "sns.histplot(data=df, x=f\"{variable2}\", kde=True, ax=ax[0])\n",
    "\n",
    "ax[1].set_title(f\"Boxplot de{variable2}\")\n",
    "sns.boxplot(data=df, x=f\"{variable2}\", ax=ax[1])"
   ],
   "metadata": {
    "collapsed": false,
    "pycharm": {
     "name": "#%%\n"
    }
   }
  },
  {
   "cell_type": "code",
   "execution_count": 88,
   "outputs": [
    {
     "data": {
      "text/plain": "<AxesSubplot:title={'center':'Boxplot deTemp_day'}, xlabel='Temp_day'>"
     },
     "execution_count": 88,
     "metadata": {},
     "output_type": "execute_result"
    },
    {
     "data": {
      "text/plain": "<Figure size 720x360 with 2 Axes>",
      "image/png": "[encoded data removed]"
     },
     "metadata": {
      "needs_background": "light"
     },
     "output_type": "display_data"
    }
   ],
   "source": [
    "variable3 = \"Temp_day\"\n",
    "\n",
    "fig, ax = plt.subplots(1, 2, figsize=(10, 5))\n",
    "\n",
    "ax[0].set_title(f\"Distribucion de {variable3}\")\n",
    "sns.histplot(data=df, x=f\"{variable3}\", kde=True, ax=ax[0])\n",
    "\n",
    "ax[1].set_title(f\"Boxplot de{variable3}\")\n",
    "sns.boxplot(data=df, x=f\"{variable3}\", ax=ax[1])"
   ],
   "metadata": {
    "collapsed": false,
    "pycharm": {
     "name": "#%%\n"
    }
   }
  },
  {
   "cell_type": "code",
   "execution_count": 89,
   "outputs": [
    {
     "name": "stdout",
     "output_type": "stream",
     "text": [
      "Como los datos de las columas ('Temp9am', 'Temp3pm', 'Temp_day') no se distribuyen de manera normal se utiliza RobustScaler\n"
     ]
    },
    {
     "data": {
      "text/plain": "   Location   MinTemp   MaxTemp  Rainfall  Humidity9am  Humidity3pm  \\\n0    Albury  0.543147 -0.018349  0.001617         0.71    -1.000000   \n2    Albury  0.530457  0.238532  0.000000         0.38    -0.733333   \n4    Albury  0.647208  0.844037  0.002695         0.82    -0.633333   \n6    Albury  0.565990  0.174312  0.000000         0.49    -1.100000   \n11   Albury  0.606599 -0.128440  0.005930         0.89     1.300000   \n\n    Pressure9am  Pressure3pm  Temp9am   Temp3pm RainToday   RISK_MM  \\\n0     -1.021277    -0.812500    -0.03  0.028846        No  0.000000   \n2     -1.031915    -0.645833     0.38  0.163462        No  0.000000   \n4     -0.691489    -0.927083     0.06  0.788462        No  0.000539   \n6     -0.819149    -0.697917     0.09  0.298077        No  0.000000   \n11    -0.723404    -1.114583    -0.13 -0.432692       Yes  0.042049   \n\n   RainTomorrow  Year  Month  Day  Cloud_day  Pressure_day  Humidity_day  \\\n0            No  2008     12    1        8.0     -0.920635     -0.591837   \n2            No  2008     12    3        2.0     -0.841270     -1.102041   \n4            No  2008     12    5        7.5     -0.814815     -0.142857   \n6            No  2008     12    7        1.0     -0.761905     -1.102041   \n11          Yes  2008     12   12        8.0     -0.925926      1.183673   \n\n    Temp_day  \n0     -0.005  \n2      0.270  \n4      0.435  \n6      0.195  \n11    -0.295  ",
      "text/html": "<div>\n<style scoped>\n    .dataframe tbody tr th:only-of-type {\n        vertical-align: middle;\n    }\n\n    .dataframe tbody tr th {\n        vertical-align: top;\n    }\n\n    .dataframe thead th {\n        text-align: right;\n    }\n</style>\n<table border=\"1\" class=\"dataframe\">\n  <thead>\n    <tr style=\"text-align: right;\">\n      <th></th>\n      <th>Location</th>\n      <th>MinTemp</th>\n      <th>MaxTemp</th>\n      <th>Rainfall</th>\n      <th>Humidity9am</th>\n      <th>Humidity3pm</th>\n      <th>Pressure9am</th>\n      <th>Pressure3pm</th>\n      <th>Temp9am</th>\n      <th>Temp3pm</th>\n      <th>RainToday</th>\n      <th>RISK_MM</th>\n      <th>RainTomorrow</th>\n      <th>Year</th>\n      <th>Month</th>\n      <th>Day</th>\n      <th>Cloud_day</th>\n      <th>Pressure_day</th>\n      <th>Humidity_day</th>\n      <th>Temp_day</th>\n    </tr>\n  </thead>\n  <tbody>\n    <tr>\n      <th>0</th>\n      <td>Albury</td>\n      <td>0.543147</td>\n      <td>-0.018349</td>\n      <td>0.001617</td>\n      <td>0.71</td>\n      <td>-1.000000</td>\n      <td>-1.021277</td>\n      <td>-0.812500</td>\n      <td>-0.03</td>\n      <td>0.028846</td>\n      <td>No</td>\n      <td>0.000000</td>\n      <td>No</td>\n      <td>2008</td>\n      <td>12</td>\n      <td>1</td>\n      <td>8.0</td>\n      <td>-0.920635</td>\n      <td>-0.591837</td>\n      <td>-0.005</td>\n    </tr>\n    <tr>\n      <th>2</th>\n      <td>Albury</td>\n      <td>0.530457</td>\n      <td>0.238532</td>\n      <td>0.000000</td>\n      <td>0.38</td>\n      <td>-0.733333</td>\n      <td>-1.031915</td>\n      <td>-0.645833</td>\n      <td>0.38</td>\n      <td>0.163462</td>\n      <td>No</td>\n      <td>0.000000</td>\n      <td>No</td>\n      <td>2008</td>\n      <td>12</td>\n      <td>3</td>\n      <td>2.0</td>\n      <td>-0.841270</td>\n      <td>-1.102041</td>\n      <td>0.270</td>\n    </tr>\n    <tr>\n      <th>4</th>\n      <td>Albury</td>\n      <td>0.647208</td>\n      <td>0.844037</td>\n      <td>0.002695</td>\n      <td>0.82</td>\n      <td>-0.633333</td>\n      <td>-0.691489</td>\n      <td>-0.927083</td>\n      <td>0.06</td>\n      <td>0.788462</td>\n      <td>No</td>\n      <td>0.000539</td>\n      <td>No</td>\n      <td>2008</td>\n      <td>12</td>\n      <td>5</td>\n      <td>7.5</td>\n      <td>-0.814815</td>\n      <td>-0.142857</td>\n      <td>0.435</td>\n    </tr>\n    <tr>\n      <th>6</th>\n      <td>Albury</td>\n      <td>0.565990</td>\n      <td>0.174312</td>\n      <td>0.000000</td>\n      <td>0.49</td>\n      <td>-1.100000</td>\n      <td>-0.819149</td>\n      <td>-0.697917</td>\n      <td>0.09</td>\n      <td>0.298077</td>\n      <td>No</td>\n      <td>0.000000</td>\n      <td>No</td>\n      <td>2008</td>\n      <td>12</td>\n      <td>7</td>\n      <td>1.0</td>\n      <td>-0.761905</td>\n      <td>-1.102041</td>\n      <td>0.195</td>\n    </tr>\n    <tr>\n      <th>11</th>\n      <td>Albury</td>\n      <td>0.606599</td>\n      <td>-0.128440</td>\n      <td>0.005930</td>\n      <td>0.89</td>\n      <td>1.300000</td>\n      <td>-0.723404</td>\n      <td>-1.114583</td>\n      <td>-0.13</td>\n      <td>-0.432692</td>\n      <td>Yes</td>\n      <td>0.042049</td>\n      <td>Yes</td>\n      <td>2008</td>\n      <td>12</td>\n      <td>12</td>\n      <td>8.0</td>\n      <td>-0.925926</td>\n      <td>1.183673</td>\n      <td>-0.295</td>\n    </tr>\n  </tbody>\n</table>\n</div>"
     },
     "execution_count": 89,
     "metadata": {},
     "output_type": "execute_result"
    }
   ],
   "source": [
    "from sklearn.preprocessing import RobustScaler\n",
    "\n",
    "robustscaler2 = RobustScaler()\n",
    "variable1 = 'Temp9am'\n",
    "variable2 = 'Temp3pm'\n",
    "variable3 = 'Temp_day'\n",
    "print(f\"Como los datos de las columas {variable1,variable2, variable3} no se distribuyen de manera normal se utiliza RobustScaler\")\n",
    "df[variable1], df[variable2], df[variable3] =  robustscaler2.fit_transform(df[[variable1,variable2,variable3]]).T\n",
    "\n",
    "df.head()"
   ],
   "metadata": {
    "collapsed": false,
    "pycharm": {
     "name": "#%%\n"
    }
   }
  },
  {
   "cell_type": "markdown",
   "source": [
    "### Cloud_day"
   ],
   "metadata": {
    "collapsed": false,
    "pycharm": {
     "name": "#%% md\n"
    }
   }
  },
  {
   "cell_type": "code",
   "execution_count": 90,
   "outputs": [
    {
     "data": {
      "text/plain": "<AxesSubplot:title={'center':'Boxplot deCloud_day'}, xlabel='Cloud_day'>"
     },
     "execution_count": 90,
     "metadata": {},
     "output_type": "execute_result"
    },
    {
     "data": {
      "text/plain": "<Figure size 720x360 with 2 Axes>",
      "image/png": "[encoded data removed]"
     },
     "metadata": {
      "needs_background": "light"
     },
     "output_type": "display_data"
    }
   ],
   "source": [
    "variable = \"Cloud_day\"\n",
    "fig, ax = plt.subplots(1,2,figsize=(10,5))\n",
    "\n",
    "ax[0].set_title(f\"Distribucion de {variable}\")\n",
    "sns.histplot(data = df, x = f\"{variable}\", kde=True, ax = ax[0])\n",
    "\n",
    "ax[1].set_title(f\"Boxplot de{variable}\")\n",
    "sns.boxplot(data = df, x = f\"{variable}\", ax=ax[1])"
   ],
   "metadata": {
    "collapsed": false,
    "pycharm": {
     "name": "#%%\n"
    }
   }
  },
  {
   "cell_type": "code",
   "execution_count": 91,
   "outputs": [
    {
     "name": "stdout",
     "output_type": "stream",
     "text": [
      "Como los datos de Cloud_day no se distribuyen de manera normal se utiliza MinMaxScaler\n"
     ]
    },
    {
     "data": {
      "text/plain": "   Location   MinTemp   MaxTemp  Rainfall  Humidity9am  Humidity3pm  \\\n0    Albury  0.543147 -0.018349  0.001617         0.71    -1.000000   \n2    Albury  0.530457  0.238532  0.000000         0.38    -0.733333   \n4    Albury  0.647208  0.844037  0.002695         0.82    -0.633333   \n6    Albury  0.565990  0.174312  0.000000         0.49    -1.100000   \n11   Albury  0.606599 -0.128440  0.005930         0.89     1.300000   \n\n    Pressure9am  Pressure3pm  Temp9am   Temp3pm RainToday   RISK_MM  \\\n0     -1.021277    -0.812500    -0.03  0.028846        No  0.000000   \n2     -1.031915    -0.645833     0.38  0.163462        No  0.000000   \n4     -0.691489    -0.927083     0.06  0.788462        No  0.000539   \n6     -0.819149    -0.697917     0.09  0.298077        No  0.000000   \n11    -0.723404    -1.114583    -0.13 -0.432692       Yes  0.042049   \n\n   RainTomorrow  Year  Month  Day  Cloud_day  Pressure_day  Humidity_day  \\\n0            No  2008     12    1   0.888889     -0.920635     -0.591837   \n2            No  2008     12    3   0.222222     -0.841270     -1.102041   \n4            No  2008     12    5   0.833333     -0.814815     -0.142857   \n6            No  2008     12    7   0.111111     -0.761905     -1.102041   \n11          Yes  2008     12   12   0.888889     -0.925926      1.183673   \n\n    Temp_day  \n0     -0.005  \n2      0.270  \n4      0.435  \n6      0.195  \n11    -0.295  ",
      "text/html": "<div>\n<style scoped>\n    .dataframe tbody tr th:only-of-type {\n        vertical-align: middle;\n    }\n\n    .dataframe tbody tr th {\n        vertical-align: top;\n    }\n\n    .dataframe thead th {\n        text-align: right;\n    }\n</style>\n<table border=\"1\" class=\"dataframe\">\n  <thead>\n    <tr style=\"text-align: right;\">\n      <th></th>\n      <th>Location</th>\n      <th>MinTemp</th>\n      <th>MaxTemp</th>\n      <th>Rainfall</th>\n      <th>Humidity9am</th>\n      <th>Humidity3pm</th>\n      <th>Pressure9am</th>\n      <th>Pressure3pm</th>\n      <th>Temp9am</th>\n      <th>Temp3pm</th>\n      <th>RainToday</th>\n      <th>RISK_MM</th>\n      <th>RainTomorrow</th>\n      <th>Year</th>\n      <th>Month</th>\n      <th>Day</th>\n      <th>Cloud_day</th>\n      <th>Pressure_day</th>\n      <th>Humidity_day</th>\n      <th>Temp_day</th>\n    </tr>\n  </thead>\n  <tbody>\n    <tr>\n      <th>0</th>\n      <td>Albury</td>\n      <td>0.543147</td>\n      <td>-0.018349</td>\n      <td>0.001617</td>\n      <td>0.71</td>\n      <td>-1.000000</td>\n      <td>-1.021277</td>\n      <td>-0.812500</td>\n      <td>-0.03</td>\n      <td>0.028846</td>\n      <td>No</td>\n      <td>0.000000</td>\n      <td>No</td>\n      <td>2008</td>\n      <td>12</td>\n      <td>1</td>\n      <td>0.888889</td>\n      <td>-0.920635</td>\n      <td>-0.591837</td>\n      <td>-0.005</td>\n    </tr>\n    <tr>\n      <th>2</th>\n      <td>Albury</td>\n      <td>0.530457</td>\n      <td>0.238532</td>\n      <td>0.000000</td>\n      <td>0.38</td>\n      <td>-0.733333</td>\n      <td>-1.031915</td>\n      <td>-0.645833</td>\n      <td>0.38</td>\n      <td>0.163462</td>\n      <td>No</td>\n      <td>0.000000</td>\n      <td>No</td>\n      <td>2008</td>\n      <td>12</td>\n      <td>3</td>\n      <td>0.222222</td>\n      <td>-0.841270</td>\n      <td>-1.102041</td>\n      <td>0.270</td>\n    </tr>\n    <tr>\n      <th>4</th>\n      <td>Albury</td>\n      <td>0.647208</td>\n      <td>0.844037</td>\n      <td>0.002695</td>\n      <td>0.82</td>\n      <td>-0.633333</td>\n      <td>-0.691489</td>\n      <td>-0.927083</td>\n      <td>0.06</td>\n      <td>0.788462</td>\n      <td>No</td>\n      <td>0.000539</td>\n      <td>No</td>\n      <td>2008</td>\n      <td>12</td>\n      <td>5</td>\n      <td>0.833333</td>\n      <td>-0.814815</td>\n      <td>-0.142857</td>\n      <td>0.435</td>\n    </tr>\n    <tr>\n      <th>6</th>\n      <td>Albury</td>\n      <td>0.565990</td>\n      <td>0.174312</td>\n      <td>0.000000</td>\n      <td>0.49</td>\n      <td>-1.100000</td>\n      <td>-0.819149</td>\n      <td>-0.697917</td>\n      <td>0.09</td>\n      <td>0.298077</td>\n      <td>No</td>\n      <td>0.000000</td>\n      <td>No</td>\n      <td>2008</td>\n      <td>12</td>\n      <td>7</td>\n      <td>0.111111</td>\n      <td>-0.761905</td>\n      <td>-1.102041</td>\n      <td>0.195</td>\n    </tr>\n    <tr>\n      <th>11</th>\n      <td>Albury</td>\n      <td>0.606599</td>\n      <td>-0.128440</td>\n      <td>0.005930</td>\n      <td>0.89</td>\n      <td>1.300000</td>\n      <td>-0.723404</td>\n      <td>-1.114583</td>\n      <td>-0.13</td>\n      <td>-0.432692</td>\n      <td>Yes</td>\n      <td>0.042049</td>\n      <td>Yes</td>\n      <td>2008</td>\n      <td>12</td>\n      <td>12</td>\n      <td>0.888889</td>\n      <td>-0.925926</td>\n      <td>1.183673</td>\n      <td>-0.295</td>\n    </tr>\n  </tbody>\n</table>\n</div>"
     },
     "execution_count": 91,
     "metadata": {},
     "output_type": "execute_result"
    }
   ],
   "source": [
    "print(f\"Como los datos de {variable} no se distribuyen de manera normal se utiliza MinMaxScaler\")\n",
    "from sklearn.preprocessing import MinMaxScaler\n",
    "minmaxscaler = MinMaxScaler()\n",
    "\n",
    "df[variable]= minmaxscaler.fit_transform(df[[variable]])\n",
    "\n",
    "df.head()"
   ],
   "metadata": {
    "collapsed": false,
    "pycharm": {
     "name": "#%%\n"
    }
   }
  },
  {
   "cell_type": "markdown",
   "source": [],
   "metadata": {
    "collapsed": false,
    "pycharm": {
     "name": "#%% md\n"
    }
   }
  },
  {
   "cell_type": "markdown",
   "source": [
    "## Enconding"
   ],
   "metadata": {
    "collapsed": false
   }
  },
  {
   "cell_type": "code",
   "execution_count": 92,
   "outputs": [
    {
     "name": "stdout",
     "output_type": "stream",
     "text": [
      "Hacer un escalado a la variables:\n",
      "\t -Location\n",
      "\t -RainToday\n",
      "\t -RainTomorrow\n",
      "\t -Year\n",
      "\t -Month\n",
      "\t -Day\n"
     ]
    }
   ],
   "source": [
    "categoricas = df.select_dtypes(exclude=['float64',\"int32\"]).columns\n",
    "print(\"Hacer un escalado a la variables:\")\n",
    "for variable in categoricas:\n",
    "    print(f\"\\t -{variable}\")"
   ],
   "metadata": {
    "collapsed": false,
    "pycharm": {
     "name": "#%%\n"
    }
   }
  },
  {
   "cell_type": "markdown",
   "source": [
    "### RainTomorrow(Target)"
   ],
   "metadata": {
    "collapsed": false
   }
  },
  {
   "cell_type": "code",
   "execution_count": 93,
   "outputs": [
    {
     "name": "stdout",
     "output_type": "stream",
     "text": [
      "Cambiamos el No por 0 y el Yes a 1 de la columna RainTomorrow\n"
     ]
    }
   ],
   "source": [
    "from sklearn.preprocessing import LabelEncoder\n",
    "\n",
    "df['RainTomorrow'] = LabelEncoder().fit_transform(df['RainTomorrow'])\n",
    "df.head()\n",
    "print(\"Cambiamos el No por 0 y el Yes a 1 de la columna RainTomorrow\")"
   ],
   "metadata": {
    "collapsed": false,
    "pycharm": {
     "name": "#%%\n"
    }
   }
  },
  {
   "cell_type": "code",
   "execution_count": 94,
   "outputs": [
    {
     "data": {
      "text/plain": "0    68186\n1    20473\nName: RainTomorrow, dtype: int64"
     },
     "execution_count": 94,
     "metadata": {},
     "output_type": "execute_result"
    }
   ],
   "source": [
    "df[\"RainTomorrow\"].value_counts()"
   ],
   "metadata": {
    "collapsed": false,
    "pycharm": {
     "name": "#%%\n"
    }
   }
  },
  {
   "cell_type": "code",
   "execution_count": 95,
   "outputs": [
    {
     "data": {
      "text/plain": "RainTomorrow           0       1\nLocation                        \nAlbany            2076.0   889.0\nAlbury            1203.0   539.0\nAliceSprings      2531.0   241.0\nBallarat          1928.0   744.0\nBendigo           1880.0   528.0\nBrisbane          2452.0   709.0\nCairns            1938.0   931.0\nCanberra          2097.0   544.0\nCobar             2358.0   377.0\nCoffsHarbour      1578.0   771.0\nDarwin            2340.0   852.0\nHobart            1535.0   493.0\nKatherine         1277.0   259.0\nLaunceston           1.0     NaN\nMelbourne         1541.0   497.0\nMelbourneAirport  2356.0   653.0\nMildura           2650.0   326.0\nMoree             2165.0   379.0\nMountGambier      2067.0   914.0\nNorfolkIsland     2030.0   916.0\nNuriootpa         2320.0   571.0\nPearceRAAF        1542.0   464.0\nPerth             2548.0   645.0\nPerthAirport      2442.0   567.0\nPortland          1687.0  1050.0\nRichmond           563.0   204.0\nSale              2159.0   621.0\nSydney            2068.0   699.0\nSydneyAirport     2230.0   774.0\nTownsville        2393.0   516.0\nUluru              419.0    80.0\nWaggaWagga        2330.0   527.0\nWatsonia          2261.0   738.0\nWilliamtown       1567.0   651.0\nWollongong        1151.0   610.0\nWoomera           2503.0   194.0",
      "text/html": "<div>\n<style scoped>\n    .dataframe tbody tr th:only-of-type {\n        vertical-align: middle;\n    }\n\n    .dataframe tbody tr th {\n        vertical-align: top;\n    }\n\n    .dataframe thead th {\n        text-align: right;\n    }\n</style>\n<table border=\"1\" class=\"dataframe\">\n  <thead>\n    <tr style=\"text-align: right;\">\n      <th>RainTomorrow</th>\n      <th>0</th>\n      <th>1</th>\n    </tr>\n    <tr>\n      <th>Location</th>\n      <th></th>\n      <th></th>\n    </tr>\n  </thead>\n  <tbody>\n    <tr>\n      <th>Albany</th>\n      <td>2076.0</td>\n      <td>889.0</td>\n    </tr>\n    <tr>\n      <th>Albury</th>\n      <td>1203.0</td>\n      <td>539.0</td>\n    </tr>\n    <tr>\n      <th>AliceSprings</th>\n      <td>2531.0</td>\n      <td>241.0</td>\n    </tr>\n    <tr>\n      <th>Ballarat</th>\n      <td>1928.0</td>\n      <td>744.0</td>\n    </tr>\n    <tr>\n      <th>Bendigo</th>\n      <td>1880.0</td>\n      <td>528.0</td>\n    </tr>\n    <tr>\n      <th>Brisbane</th>\n      <td>2452.0</td>\n      <td>709.0</td>\n    </tr>\n    <tr>\n      <th>Cairns</th>\n      <td>1938.0</td>\n      <td>931.0</td>\n    </tr>\n    <tr>\n      <th>Canberra</th>\n      <td>2097.0</td>\n      <td>544.0</td>\n    </tr>\n    <tr>\n      <th>Cobar</th>\n      <td>2358.0</td>\n      <td>377.0</td>\n    </tr>\n    <tr>\n      <th>CoffsHarbour</th>\n      <td>1578.0</td>\n      <td>771.0</td>\n    </tr>\n    <tr>\n      <th>Darwin</th>\n      <td>2340.0</td>\n      <td>852.0</td>\n    </tr>\n    <tr>\n      <th>Hobart</th>\n      <td>1535.0</td>\n      <td>493.0</td>\n    </tr>\n    <tr>\n      <th>Katherine</th>\n      <td>1277.0</td>\n      <td>259.0</td>\n    </tr>\n    <tr>\n      <th>Launceston</th>\n      <td>1.0</td>\n      <td>NaN</td>\n    </tr>\n    <tr>\n      <th>Melbourne</th>\n      <td>1541.0</td>\n      <td>497.0</td>\n    </tr>\n    <tr>\n      <th>MelbourneAirport</th>\n      <td>2356.0</td>\n      <td>653.0</td>\n    </tr>\n    <tr>\n      <th>Mildura</th>\n      <td>2650.0</td>\n      <td>326.0</td>\n    </tr>\n    <tr>\n      <th>Moree</th>\n      <td>2165.0</td>\n      <td>379.0</td>\n    </tr>\n    <tr>\n      <th>MountGambier</th>\n      <td>2067.0</td>\n      <td>914.0</td>\n    </tr>\n    <tr>\n      <th>NorfolkIsland</th>\n      <td>2030.0</td>\n      <td>916.0</td>\n    </tr>\n    <tr>\n      <th>Nuriootpa</th>\n      <td>2320.0</td>\n      <td>571.0</td>\n    </tr>\n    <tr>\n      <th>PearceRAAF</th>\n      <td>1542.0</td>\n      <td>464.0</td>\n    </tr>\n    <tr>\n      <th>Perth</th>\n      <td>2548.0</td>\n      <td>645.0</td>\n    </tr>\n    <tr>\n      <th>PerthAirport</th>\n      <td>2442.0</td>\n      <td>567.0</td>\n    </tr>\n    <tr>\n      <th>Portland</th>\n      <td>1687.0</td>\n      <td>1050.0</td>\n    </tr>\n    <tr>\n      <th>Richmond</th>\n      <td>563.0</td>\n      <td>204.0</td>\n    </tr>\n    <tr>\n      <th>Sale</th>\n      <td>2159.0</td>\n      <td>621.0</td>\n    </tr>\n    <tr>\n      <th>Sydney</th>\n      <td>2068.0</td>\n      <td>699.0</td>\n    </tr>\n    <tr>\n      <th>SydneyAirport</th>\n      <td>2230.0</td>\n      <td>774.0</td>\n    </tr>\n    <tr>\n      <th>Townsville</th>\n      <td>2393.0</td>\n      <td>516.0</td>\n    </tr>\n    <tr>\n      <th>Uluru</th>\n      <td>419.0</td>\n      <td>80.0</td>\n    </tr>\n    <tr>\n      <th>WaggaWagga</th>\n      <td>2330.0</td>\n      <td>527.0</td>\n    </tr>\n    <tr>\n      <th>Watsonia</th>\n      <td>2261.0</td>\n      <td>738.0</td>\n    </tr>\n    <tr>\n      <th>Williamtown</th>\n      <td>1567.0</td>\n      <td>651.0</td>\n    </tr>\n    <tr>\n      <th>Wollongong</th>\n      <td>1151.0</td>\n      <td>610.0</td>\n    </tr>\n    <tr>\n      <th>Woomera</th>\n      <td>2503.0</td>\n      <td>194.0</td>\n    </tr>\n  </tbody>\n</table>\n</div>"
     },
     "execution_count": 95,
     "metadata": {},
     "output_type": "execute_result"
    }
   ],
   "source": [
    "df.groupby([\"Location\"])[\"RainTomorrow\"].value_counts().sort_values().unstack()"
   ],
   "metadata": {
    "collapsed": false,
    "pycharm": {
     "name": "#%%\n"
    }
   }
  },
  {
   "cell_type": "markdown",
   "source": [
    "### Location"
   ],
   "metadata": {
    "collapsed": false,
    "pycharm": {
     "name": "#%% md\n"
    }
   }
  },
  {
   "cell_type": "code",
   "execution_count": 96,
   "outputs": [
    {
     "name": "stdout",
     "output_type": "stream",
     "text": [
      "Los tipos de datos que hay en la columna son:\n",
      "Perth               3193\n",
      "Darwin              3192\n",
      "Brisbane            3161\n",
      "MelbourneAirport    3009\n",
      "PerthAirport        3009\n",
      "SydneyAirport       3004\n",
      "Watsonia            2999\n",
      "MountGambier        2981\n",
      "Mildura             2976\n",
      "Albany              2965\n",
      "NorfolkIsland       2946\n",
      "Townsville          2909\n",
      "Nuriootpa           2891\n",
      "Cairns              2869\n",
      "WaggaWagga          2857\n",
      "Sale                2780\n",
      "AliceSprings        2772\n",
      "Sydney              2767\n",
      "Portland            2737\n",
      "Cobar               2735\n",
      "Woomera             2697\n",
      "Ballarat            2672\n",
      "Canberra            2641\n",
      "Moree               2544\n",
      "Bendigo             2408\n",
      "CoffsHarbour        2349\n",
      "Williamtown         2218\n",
      "Melbourne           2038\n",
      "Hobart              2028\n",
      "PearceRAAF          2006\n",
      "Wollongong          1761\n",
      "Albury              1742\n",
      "Katherine           1536\n",
      "Richmond             767\n",
      "Uluru                499\n",
      "Launceston             1\n",
      "Name: Location, dtype: int64\n"
     ]
    }
   ],
   "source": [
    "print(f\"Los tipos de datos que hay en la columna son:\\n{df.Location.value_counts()}\")"
   ],
   "metadata": {
    "collapsed": false,
    "pycharm": {
     "name": "#%%\n"
    }
   }
  },
  {
   "cell_type": "code",
   "execution_count": 97,
   "outputs": [
    {
     "data": {
      "text/plain": "[array(['Albany', 'Albury', 'AliceSprings', 'Ballarat', 'Bendigo',\n        'Brisbane', 'Cairns', 'Canberra', 'Cobar', 'CoffsHarbour',\n        'Darwin', 'Hobart', 'Katherine', 'Launceston', 'Melbourne',\n        'MelbourneAirport', 'Mildura', 'Moree', 'MountGambier',\n        'NorfolkIsland', 'Nuriootpa', 'PearceRAAF', 'Perth',\n        'PerthAirport', 'Portland', 'Richmond', 'Sale', 'Sydney',\n        'SydneyAirport', 'Townsville', 'Uluru', 'WaggaWagga', 'Watsonia',\n        'Williamtown', 'Wollongong', 'Woomera'], dtype=object)]"
     },
     "metadata": {},
     "output_type": "display_data"
    },
    {
     "data": {
      "text/plain": "array(['Location_Albany', 'Location_Albury', 'Location_AliceSprings',\n       'Location_Ballarat', 'Location_Bendigo', 'Location_Brisbane',\n       'Location_Cairns', 'Location_Canberra', 'Location_Cobar',\n       'Location_CoffsHarbour', 'Location_Darwin', 'Location_Hobart',\n       'Location_Katherine', 'Location_Launceston', 'Location_Melbourne',\n       'Location_MelbourneAirport', 'Location_Mildura', 'Location_Moree',\n       'Location_MountGambier', 'Location_NorfolkIsland',\n       'Location_Nuriootpa', 'Location_PearceRAAF', 'Location_Perth',\n       'Location_PerthAirport', 'Location_Portland', 'Location_Richmond',\n       'Location_Sale', 'Location_Sydney', 'Location_SydneyAirport',\n       'Location_Townsville', 'Location_Uluru', 'Location_WaggaWagga',\n       'Location_Watsonia', 'Location_Williamtown', 'Location_Wollongong',\n       'Location_Woomera'], dtype=object)"
     },
     "metadata": {},
     "output_type": "display_data"
    },
    {
     "name": "stdout",
     "output_type": "stream",
     "text": [
      "Como Location es una variable multicategorica, creo una columna binaria para cada categoria\n"
     ]
    }
   ],
   "source": [
    "from sklearn.preprocessing import OneHotEncoder\n",
    "\n",
    "ohe = OneHotEncoder(sparse=False)\n",
    "\n",
    "var = 'Location'\n",
    "\n",
    "ohe.fit(df[[var]])\n",
    "\n",
    "display(ohe.categories_)\n",
    "\n",
    "display(ohe.get_feature_names_out())\n",
    "\n",
    "variable_encoded = ohe.transform(df[[var]])\n",
    "\n",
    "df[ohe.get_feature_names_out()] = variable_encoded\n",
    "\n",
    "df.drop(columns = var, inplace = True)\n",
    "\n",
    "print(f\"Como {var} es una variable multicategorica, creo una columna binaria para cada categoria\")"
   ],
   "metadata": {
    "collapsed": false,
    "pycharm": {
     "name": "#%%\n"
    }
   }
  },
  {
   "cell_type": "markdown",
   "source": [
    "### RainToday"
   ],
   "metadata": {
    "collapsed": false
   }
  },
  {
   "cell_type": "code",
   "execution_count": 98,
   "outputs": [
    {
     "name": "stdout",
     "output_type": "stream",
     "text": [
      "Los tipos de datos que hay en la columna son:\n",
      "No     68215\n",
      "Yes    20444\n",
      "Name: RainToday, dtype: int64\n"
     ]
    }
   ],
   "source": [
    "print(f\"Los tipos de datos que hay en la columna son:\\n{df.RainToday.value_counts()}\")"
   ],
   "metadata": {
    "collapsed": false,
    "pycharm": {
     "name": "#%%\n"
    }
   }
  },
  {
   "cell_type": "code",
   "execution_count": 99,
   "outputs": [
    {
     "name": "stdout",
     "output_type": "stream",
     "text": [
      "Como RainToday es una variable binaria, se utiliza onehotencoder modifica la columna escribiendo 0 donde es No y 1 donde es Yes\n"
     ]
    }
   ],
   "source": [
    "from sklearn.preprocessing import OneHotEncoder\n",
    "hot_encoder = OneHotEncoder(sparse=False, drop='if_binary', categories=[['No', 'Yes']])\n",
    "\n",
    "var = 'RainToday'\n",
    "df[var] =hot_encoder.fit_transform(df[[var]])\n",
    "print(f\"Como {var} es una variable binaria, se utiliza onehotencoder modifica la columna escribiendo 0 donde es No y 1 donde es Yes\")"
   ],
   "metadata": {
    "collapsed": false,
    "pycharm": {
     "name": "#%%\n"
    }
   }
  },
  {
   "cell_type": "markdown",
   "source": [
    "### Year, Month, Day"
   ],
   "metadata": {
    "collapsed": false,
    "pycharm": {
     "name": "#%% md\n"
    }
   }
  },
  {
   "cell_type": "code",
   "execution_count": 100,
   "outputs": [],
   "source": [
    "df = df.drop(columns = [\"Year\",\"Month\",\"Day\"])"
   ],
   "metadata": {
    "collapsed": false,
    "pycharm": {
     "name": "#%%\n"
    }
   }
  },
  {
   "cell_type": "markdown",
   "source": [
    "Elimino las columnas porque no son necesarias para el modelo"
   ],
   "metadata": {
    "collapsed": false,
    "pycharm": {
     "name": "#%% md\n"
    }
   }
  },
  {
   "cell_type": "markdown",
   "source": [
    "## Modelado\n",
    "Para mi modelo se utiliza Regresion logistica ya que mi objetivo es predecir si llueve o no mañana y con cuantas probabilidades se puede asegurar si llueve."
   ],
   "metadata": {
    "collapsed": false,
    "pycharm": {
     "name": "#%% md\n"
    }
   }
  },
  {
   "cell_type": "markdown",
   "source": [
    "La columna RISK_MM es cuantos mililitros se cree que van a caer al dia siguiente. Por eso, creo yo que es mejor sacarlo porque sino el test va a ser sesgado"
   ],
   "metadata": {
    "collapsed": false,
    "pycharm": {
     "name": "#%% md\n"
    }
   }
  },
  {
   "cell_type": "code",
   "execution_count": 101,
   "outputs": [],
   "source": [
    "features_CON_RISK = ['MinTemp', 'MaxTemp', 'Rainfall', 'Humidity9am', 'Humidity3pm', 'Pressure9am', 'Pressure3pm', 'Temp9am', 'Temp3pm', 'RainToday', 'Cloud_day', 'Pressure_day', 'Humidity_day', 'Temp_day', 'Location_Albury', 'Location_Sydney', 'Location_SydneyAirport', 'Location_Wollongong','RISK_MM']"
   ],
   "metadata": {
    "collapsed": false,
    "pycharm": {
     "name": "#%%\n"
    }
   }
  },
  {
   "cell_type": "code",
   "execution_count": 102,
   "outputs": [],
   "source": [
    "X_con_riskMM = df[features_CON_RISK]\n",
    "y_con_riskMM = df['RainTomorrow']"
   ],
   "metadata": {
    "collapsed": false,
    "pycharm": {
     "name": "#%%\n"
    }
   }
  },
  {
   "cell_type": "code",
   "execution_count": 103,
   "outputs": [],
   "source": [
    "from sklearn.model_selection import train_test_split\n",
    "\n",
    "X_train, X_test, y_train, y_test = train_test_split(X_con_riskMM, y_con_riskMM, test_size=0.3, random_state=10)"
   ],
   "metadata": {
    "collapsed": false,
    "pycharm": {
     "name": "#%%\n"
    }
   }
  },
  {
   "cell_type": "markdown",
   "source": [
    "Entrenamos al modelo por primera vez siendo la parte del dataset que se utiliza para entrenarlo un 60% de los datos."
   ],
   "metadata": {
    "collapsed": false
   }
  },
  {
   "cell_type": "code",
   "execution_count": 104,
   "outputs": [
    {
     "name": "stdout",
     "output_type": "stream",
     "text": [
      "Accuracy con RISK_MM: 0.8900669223249869\n"
     ]
    }
   ],
   "source": [
    "from sklearn.linear_model import LogisticRegression\n",
    "\n",
    "model = LogisticRegression(solver='lbfgs', max_iter=1000)\n",
    "model.fit(X_train, y_train)\n",
    "y_pred = model.predict(X_test)\n",
    "primer_score = model.score(X_test, y_test)\n",
    "print('Accuracy con RISK_MM:', primer_score)"
   ],
   "metadata": {
    "collapsed": false,
    "pycharm": {
     "name": "#%%\n"
    }
   }
  },
  {
   "cell_type": "code",
   "execution_count": 105,
   "outputs": [],
   "source": [
    "features_SIN_RISK = ['MinTemp', 'MaxTemp', 'Rainfall', 'Humidity9am', 'Humidity3pm', 'Pressure9am', 'Pressure3pm', 'Temp9am', 'Temp3pm', 'RainToday', 'Cloud_day', 'Pressure_day', 'Humidity_day', 'Temp_day', 'Location_Albury', 'Location_Sydney', 'Location_SydneyAirport', 'Location_Wollongong']\n",
    "\n",
    "X = df[features_SIN_RISK]\n",
    "y = df['RainTomorrow']"
   ],
   "metadata": {
    "collapsed": false,
    "pycharm": {
     "name": "#%%\n"
    }
   }
  },
  {
   "cell_type": "markdown",
   "source": [],
   "metadata": {
    "collapsed": false
   }
  },
  {
   "cell_type": "code",
   "execution_count": 106,
   "outputs": [],
   "source": [
    "from sklearn.model_selection import train_test_split\n",
    "\n",
    "X_train, X_test, y_train, y_test = train_test_split(X, y, test_size=0.3, random_state=10)"
   ],
   "metadata": {
    "collapsed": false,
    "pycharm": {
     "name": "#%%\n"
    }
   }
  },
  {
   "cell_type": "code",
   "execution_count": 107,
   "outputs": [
    {
     "name": "stdout",
     "output_type": "stream",
     "text": [
      "Accuracy sin la variable RISK_MM:  0.8349123994285285\n"
     ]
    }
   ],
   "source": [
    "from sklearn.linear_model import LogisticRegression\n",
    "\n",
    "model = LogisticRegression(solver='lbfgs', max_iter=1000)\n",
    "model.fit(X_train, y_train)\n",
    "y_pred = model.predict(X_test)\n",
    "segundo_score =  model.score(X_test, y_test)\n",
    "print('Accuracy sin la variable RISK_MM: ', segundo_score)"
   ],
   "metadata": {
    "collapsed": false,
    "pycharm": {
     "name": "#%%\n"
    }
   }
  },
  {
   "cell_type": "code",
   "execution_count": 108,
   "outputs": [],
   "source": [
    "def score(scoreviejo, scorenuevo):\n",
    "    if scorenuevo>scoreviejo:\n",
    "        print(f\"El nuevo score es mayor, es decir que el modelo ha mejorado. Este ha mejorado un {(scorenuevo - scoreviejo).round(5)}\")\n",
    "    else:\n",
    "        print(f\"El nuevo score es menor , es decir que el modelo ha empeorado. Este ha empeorado un {(scorenuevo - scoreviejo).round(5)}\")"
   ],
   "metadata": {
    "collapsed": false,
    "pycharm": {
     "name": "#%%\n"
    }
   }
  },
  {
   "cell_type": "code",
   "execution_count": 109,
   "outputs": [
    {
     "name": "stdout",
     "output_type": "stream",
     "text": [
      "El nuevo score es menor , es decir que el modelo ha empeorado. Este ha empeorado un -0.05515\n"
     ]
    }
   ],
   "source": [
    "score(primer_score,segundo_score)"
   ],
   "metadata": {
    "collapsed": false,
    "pycharm": {
     "name": "#%%\n"
    }
   }
  },
  {
   "cell_type": "markdown",
   "source": [
    "Como podemos observar, varia cuando esta la columna RISK_MM"
   ],
   "metadata": {
    "collapsed": false,
    "pycharm": {
     "name": "#%% md\n"
    }
   }
  },
  {
   "cell_type": "markdown",
   "source": [
    "Ahora lo que hacemos es probando estratificar la variable target, dependiente. Porque queremos que esta siempre tenga la misma proporción en todas las pruebas que se hagan"
   ],
   "metadata": {
    "collapsed": false,
    "pycharm": {
     "name": "#%% md\n"
    }
   }
  },
  {
   "cell_type": "code",
   "execution_count": 110,
   "outputs": [
    {
     "name": "stdout",
     "output_type": "stream",
     "text": [
      "Nuevo accuracy con stratify:  0.8365666591473043\n"
     ]
    }
   ],
   "source": [
    "X_train, X_test, y_train, y_test = train_test_split(X, y, test_size=0.3, stratify = y, random_state=10)\n",
    "model = LogisticRegression(solver='lbfgs', max_iter=1000)\n",
    "model.fit(X_train, y_train)\n",
    "y_pred = model.predict(X_test)\n",
    "tercer_score = model.score(X_test, y_test)\n",
    "print('Nuevo accuracy con stratify: ', tercer_score)"
   ],
   "metadata": {
    "collapsed": false,
    "pycharm": {
     "name": "#%%\n"
    }
   }
  },
  {
   "cell_type": "code",
   "execution_count": 111,
   "outputs": [
    {
     "name": "stdout",
     "output_type": "stream",
     "text": [
      "El nuevo score es mayor, es decir que el modelo ha mejorado. Este ha mejorado un 0.00165\n"
     ]
    }
   ],
   "source": [
    "score(segundo_score,tercer_score)"
   ],
   "metadata": {
    "collapsed": false,
    "pycharm": {
     "name": "#%%\n"
    }
   }
  },
  {
   "cell_type": "code",
   "execution_count": 112,
   "outputs": [
    {
     "data": {
      "text/plain": "0.844"
     },
     "execution_count": 112,
     "metadata": {},
     "output_type": "execute_result"
    }
   ],
   "source": [
    "from sklearn.model_selection import cross_validate\n",
    "df_reduced = df.sample(n=500, random_state=1)\n",
    "X_reduced =df_reduced.drop(columns=['RainTomorrow'])\n",
    "y_reduced = df_reduced['RainTomorrow']\n",
    "# 5-Fold Cross validate model\n",
    "cv_results = cross_validate(LogisticRegression(max_iter=1000), X_reduced, y_reduced, cv=5)\n",
    "\n",
    "# Mean of accuracies\n",
    "reduced_training_accuracy = cv_results['test_score'].mean()\n",
    "\n",
    "reduced_training_accuracy"
   ],
   "metadata": {
    "collapsed": false,
    "pycharm": {
     "name": "#%%\n"
    }
   }
  },
  {
   "cell_type": "markdown",
   "source": [
    "El accuracy es igual que el que no es reducido.\n",
    "El accuracy es bueno ya que es un numero alto"
   ],
   "metadata": {
    "collapsed": false,
    "pycharm": {
     "name": "#%% md\n"
    }
   }
  },
  {
   "cell_type": "markdown",
   "source": [
    "Miro cuales son las variables mas debiles"
   ],
   "metadata": {
    "collapsed": false,
    "pycharm": {
     "name": "#%% md\n"
    }
   }
  },
  {
   "cell_type": "code",
   "execution_count": 113,
   "outputs": [
    {
     "data": {
      "text/plain": "                   feature feature_importance\n0                  MinTemp           -0.00008\n1                  MaxTemp           0.001064\n2                 Rainfall            0.00042\n3              Humidity9am           0.001107\n4              Humidity3pm           0.081029\n5              Pressure9am           0.039543\n6              Pressure3pm           0.102723\n7                  Temp9am           0.000011\n8                  Temp3pm           0.006447\n9                RainToday            0.00491\n10               Cloud_day           0.016683\n11            Pressure_day           0.001907\n12            Humidity_day           0.001729\n13                Temp_day           0.001426\n14         Location_Albury          -0.000042\n15         Location_Sydney           0.000147\n16  Location_SydneyAirport           0.000135\n17     Location_Wollongong           0.000151",
      "text/html": "<div>\n<style scoped>\n    .dataframe tbody tr th:only-of-type {\n        vertical-align: middle;\n    }\n\n    .dataframe tbody tr th {\n        vertical-align: top;\n    }\n\n    .dataframe thead th {\n        text-align: right;\n    }\n</style>\n<table border=\"1\" class=\"dataframe\">\n  <thead>\n    <tr style=\"text-align: right;\">\n      <th></th>\n      <th>feature</th>\n      <th>feature_importance</th>\n    </tr>\n  </thead>\n  <tbody>\n    <tr>\n      <th>0</th>\n      <td>MinTemp</td>\n      <td>-0.00008</td>\n    </tr>\n    <tr>\n      <th>1</th>\n      <td>MaxTemp</td>\n      <td>0.001064</td>\n    </tr>\n    <tr>\n      <th>2</th>\n      <td>Rainfall</td>\n      <td>0.00042</td>\n    </tr>\n    <tr>\n      <th>3</th>\n      <td>Humidity9am</td>\n      <td>0.001107</td>\n    </tr>\n    <tr>\n      <th>4</th>\n      <td>Humidity3pm</td>\n      <td>0.081029</td>\n    </tr>\n    <tr>\n      <th>5</th>\n      <td>Pressure9am</td>\n      <td>0.039543</td>\n    </tr>\n    <tr>\n      <th>6</th>\n      <td>Pressure3pm</td>\n      <td>0.102723</td>\n    </tr>\n    <tr>\n      <th>7</th>\n      <td>Temp9am</td>\n      <td>0.000011</td>\n    </tr>\n    <tr>\n      <th>8</th>\n      <td>Temp3pm</td>\n      <td>0.006447</td>\n    </tr>\n    <tr>\n      <th>9</th>\n      <td>RainToday</td>\n      <td>0.00491</td>\n    </tr>\n    <tr>\n      <th>10</th>\n      <td>Cloud_day</td>\n      <td>0.016683</td>\n    </tr>\n    <tr>\n      <th>11</th>\n      <td>Pressure_day</td>\n      <td>0.001907</td>\n    </tr>\n    <tr>\n      <th>12</th>\n      <td>Humidity_day</td>\n      <td>0.001729</td>\n    </tr>\n    <tr>\n      <th>13</th>\n      <td>Temp_day</td>\n      <td>0.001426</td>\n    </tr>\n    <tr>\n      <th>14</th>\n      <td>Location_Albury</td>\n      <td>-0.000042</td>\n    </tr>\n    <tr>\n      <th>15</th>\n      <td>Location_Sydney</td>\n      <td>0.000147</td>\n    </tr>\n    <tr>\n      <th>16</th>\n      <td>Location_SydneyAirport</td>\n      <td>0.000135</td>\n    </tr>\n    <tr>\n      <th>17</th>\n      <td>Location_Wollongong</td>\n      <td>0.000151</td>\n    </tr>\n  </tbody>\n</table>\n</div>"
     },
     "execution_count": 113,
     "metadata": {},
     "output_type": "execute_result"
    }
   ],
   "source": [
    "from sklearn.inspection import permutation_importance\n",
    "\n",
    "model = LogisticRegression(solver='lbfgs', max_iter=1000).fit(X,y)\n",
    "\n",
    "permutation_score = permutation_importance(model, X, y, n_repeats=100)\n",
    "\n",
    "importance_df = pd.DataFrame(np.vstack((X.columns,\n",
    "                                        permutation_score.importances_mean)).T,\n",
    "                            columns = ['feature','feature_importance'])\n",
    "importance_df"
   ],
   "metadata": {
    "collapsed": false,
    "pycharm": {
     "name": "#%%\n"
    }
   }
  },
  {
   "cell_type": "code",
   "execution_count": 114,
   "outputs": [
    {
     "name": "stdout",
     "output_type": "stream",
     "text": [
      "Seleccionamos un umbral para el score y almacenamos las variables debiles que son:\n"
     ]
    },
    {
     "data": {
      "text/plain": "array(['MinTemp', 'MaxTemp', 'Rainfall', 'Humidity9am', 'Temp9am',\n       'Temp3pm', 'RainToday', 'Cloud_day', 'Pressure_day',\n       'Humidity_day', 'Temp_day', 'Location_Albury', 'Location_Sydney',\n       'Location_SydneyAirport', 'Location_Wollongong'], dtype=object)"
     },
     "execution_count": 114,
     "metadata": {},
     "output_type": "execute_result"
    }
   ],
   "source": [
    "# Defino un umbral de score\n",
    "threshold = 0.02\n",
    "\n",
    "weak_features = importance_df[importance_df.feature_importance <= threshold][\"feature\"].values\n",
    "\n",
    "\n",
    "print(f\"Seleccionamos un umbral para el score y almacenamos las variables debiles que son:\")\n",
    "weak_features"
   ],
   "metadata": {
    "collapsed": false,
    "pycharm": {
     "name": "#%%\n"
    }
   }
  },
  {
   "cell_type": "markdown",
   "source": [
    "Usando las variables reducidas creamos un nuevo CrossValidation y almacenamos el score para compararlo con el modelo base"
   ],
   "metadata": {
    "collapsed": false,
    "pycharm": {
     "name": "#%% md\n"
    }
   }
  },
  {
   "cell_type": "code",
   "execution_count": 115,
   "outputs": [
    {
     "name": "stdout",
     "output_type": "stream",
     "text": [
      "Las variables fuertes son ['Humidity3pm', 'Pressure9am', 'Pressure3pm', 'RISK_MM', 'Location_Albany', 'Location_AliceSprings', 'Location_Ballarat', 'Location_Bendigo', 'Location_Brisbane', 'Location_Cairns', 'Location_Canberra', 'Location_Cobar', 'Location_CoffsHarbour', 'Location_Darwin', 'Location_Hobart', 'Location_Katherine', 'Location_Launceston', 'Location_Melbourne', 'Location_MelbourneAirport', 'Location_Mildura', 'Location_Moree', 'Location_MountGambier', 'Location_NorfolkIsland', 'Location_Nuriootpa', 'Location_PearceRAAF', 'Location_Perth', 'Location_PerthAirport', 'Location_Portland', 'Location_Richmond', 'Location_Sale', 'Location_Townsville', 'Location_Uluru', 'Location_WaggaWagga', 'Location_Watsonia', 'Location_Williamtown', 'Location_Woomera']\n",
      "\n",
      "Antes de remover las variables el accurracy es 0.8366\n",
      "El modelo entrenado con las variables fuertes dan un accuracy de 0.6973\n"
     ]
    }
   ],
   "source": [
    "from sklearn.model_selection import cross_val_score\n",
    "X_strong_features = df.drop(columns = list(weak_features) + [\"RainTomorrow\"])\n",
    "\n",
    "print(f\"Las variables fuertes son {list(X_strong_features.columns)}\\n\")\n",
    "\n",
    "scores = cross_val_score(LogisticRegression(solver='lbfgs', max_iter=1000), X_strong_features, y, cv = 10)\n",
    "\n",
    "cuarto_score = scores.mean()\n",
    "\n",
    "print(f\"Antes de remover las variables el accurracy es {round(tercer_score,4)}\")\n",
    "\n",
    "print(f\"El modelo entrenado con las variables fuertes dan un accuracy de {round(cuarto_score, 4)}\")\n",
    "#hay qe reiniciar todo"
   ],
   "metadata": {
    "collapsed": false,
    "pycharm": {
     "name": "#%%\n"
    }
   }
  },
  {
   "cell_type": "code",
   "execution_count": 116,
   "outputs": [
    {
     "name": "stdout",
     "output_type": "stream",
     "text": [
      "El nuevo score es menor , es decir que el modelo ha empeorado. Este ha empeorado un -0.13927\n"
     ]
    }
   ],
   "source": [
    "score(tercer_score,cuarto_score)"
   ],
   "metadata": {
    "collapsed": false,
    "pycharm": {
     "name": "#%%\n"
    }
   }
  },
  {
   "cell_type": "markdown",
   "source": [
    "#### Matriz de confusion"
   ],
   "metadata": {
    "collapsed": false,
    "pycharm": {
     "name": "#%% md\n"
    }
   }
  },
  {
   "cell_type": "code",
   "execution_count": 117,
   "outputs": [
    {
     "name": "stdout",
     "output_type": "stream",
     "text": [
      "[[19274  1182]\n",
      " [ 3165  2977]]\n",
      "True Positive:  19274 False Negative:  1182\n",
      "False Positive:  3165 True Negative:  2977\n",
      "0.8365666591473043\n"
     ]
    }
   ],
   "source": [
    "from sklearn.metrics import confusion_matrix\n",
    "\n",
    "confusion = confusion_matrix(y_test, y_pred)\n",
    "\n",
    "print(confusion)\n",
    "print('True Positive: ', confusion[0][0], 'False Negative: ', confusion[0][1])\n",
    "print('False Positive: ', confusion[1][0], 'True Negative: ', confusion[1][1])\n",
    "TP = confusion[0,0]\n",
    "TN = confusion[1,1]\n",
    "FP = confusion[1,0]\n",
    "FN = confusion[0,1]\n",
    "print((TP + TN)/(TP+TN+FP+FN))"
   ],
   "metadata": {
    "collapsed": false,
    "pycharm": {
     "name": "#%%\n"
    }
   }
  },
  {
   "cell_type": "code",
   "execution_count": 118,
   "outputs": [
    {
     "data": {
      "text/plain": "<Figure size 360x360 with 2 Axes>",
      "image/png": "[encoded data removed]"
     },
     "metadata": {
      "needs_background": "light"
     },
     "output_type": "display_data"
    },
    {
     "name": "stdout",
     "output_type": "stream",
     "text": [
      " -True Positive:  19274 de los casos fueron predichos como que no iba a llover y efectivamente no llovió\n",
      " -False Negative:  1182 de los casos en los cuales fueron predichos como que no iba a llover y efectivamente si llovio\n",
      " -False Positive:  3165 de los casos en los cuales fueron predichos como que iba a llover y efectivamente no llovio\n",
      " -True Negative:  2977 de los casos en los cuales fueron predichos como que iba a llover y efectivamente llovio\n"
     ]
    }
   ],
   "source": [
    "from sklearn.metrics import confusion_matrix\n",
    "import seaborn as sns\n",
    "\n",
    "logreg_cm = confusion_matrix(y_test, y_pred)\n",
    "f, ax = plt.subplots(figsize=(5,5))\n",
    "sns.heatmap(logreg_cm, annot=True, linewidth=0.7, linecolor='cyan', fmt='g', ax=ax, cmap=\"YlGnBu\")\n",
    "plt.title('Logistic Regression Classification Confusion Matrix')\n",
    "plt.xlabel('Y predict')\n",
    "plt.ylabel('Y test')\n",
    "plt.show()\n",
    "\n",
    "\n",
    "print(' -True Positive: ', confusion[0][0],'de los casos fueron predichos como que no iba a llover y efectivamente no llovió\\n -False Negative: ', confusion[0][1],'de los casos en los cuales fueron predichos como que no iba a llover y efectivamente si llovio\\n -False Positive: ', confusion[1][0],'de los casos en los cuales fueron predichos como que iba a llover y efectivamente no llovio\\n -True Negative: ', confusion[1][1],'de los casos en los cuales fueron predichos como que iba a llover y efectivamente llovio')"
   ],
   "metadata": {
    "collapsed": false,
    "pycharm": {
     "name": "#%%\n"
    }
   }
  },
  {
   "cell_type": "code",
   "execution_count": 119,
   "outputs": [
    {
     "name": "stdout",
     "output_type": "stream",
     "text": [
      "              precision    recall  f1-score   support\n",
      "\n",
      "           0       0.86      0.94      0.90     20456\n",
      "           1       0.72      0.48      0.58      6142\n",
      "\n",
      "    accuracy                           0.84     26598\n",
      "   macro avg       0.79      0.71      0.74     26598\n",
      "weighted avg       0.83      0.84      0.82     26598\n",
      "\n"
     ]
    }
   ],
   "source": [
    "from sklearn.metrics import classification_report\n",
    "\n",
    "print(classification_report(y_test, y_pred))"
   ],
   "metadata": {
    "collapsed": false,
    "pycharm": {
     "name": "#%%\n"
    }
   }
  },
  {
   "cell_type": "code",
   "execution_count": 120,
   "outputs": [
    {
     "name": "stderr",
     "output_type": "stream",
     "text": [
      "c:\\users\\magda\\appdata\\local\\programs\\python\\python39\\lib\\site-packages\\sklearn\\base.py:493: FutureWarning: The feature names should match those that were passed during fit. Starting version 1.2, an error will be raised.\n",
      "Feature names must be in the same order as they were in fit.\n",
      "\n",
      "  warnings.warn(message, FutureWarning)\n"
     ]
    },
    {
     "data": {
      "text/plain": "[0,\n 0,\n 0,\n 0,\n 1,\n 1,\n 1,\n 0,\n 1,\n 1,\n 0,\n 0,\n 0,\n 0,\n 0,\n 1,\n 0,\n 0,\n 0,\n 0,\n 0,\n 0,\n 0,\n 0,\n 0,\n 0,\n 1,\n 1,\n 0,\n 0,\n 0,\n 0,\n 0,\n 0,\n 0,\n 0,\n 0,\n 0,\n 0,\n 0,\n 0,\n 1,\n 1,\n 1,\n 1,\n 0,\n 0,\n 0,\n 0,\n 0,\n 0,\n 0,\n 1,\n 0,\n 0,\n 0,\n 1,\n 0,\n 0,\n 0,\n 1,\n 0,\n 1,\n 1,\n 1,\n 1,\n 0,\n 0,\n 0,\n 0,\n 0,\n 0,\n 1,\n 1,\n 0,\n 1,\n 0,\n 1,\n 1,\n 1,\n 1,\n 1,\n 1,\n 1,\n 1,\n 0,\n 0,\n 0,\n 0,\n 1,\n 1,\n 1,\n 0,\n 0,\n 0,\n 1,\n 1,\n 0,\n 0,\n 0,\n 0,\n 0,\n 0,\n 0,\n 0,\n 0,\n 0,\n 1,\n 0,\n 0,\n 0,\n 1,\n 1,\n 0,\n 0,\n 1,\n 0,\n 0,\n 0,\n 1,\n 1,\n 1,\n 0,\n 1,\n 0,\n 1,\n 0,\n 1,\n 0,\n 0,\n 0,\n 0,\n 0,\n 0,\n 1,\n 1,\n 0,\n 0,\n 1,\n 1,\n 0,\n 1,\n 1,\n 0,\n 0,\n 1,\n 1,\n 1,\n 1,\n 0,\n 0,\n 0,\n 0,\n 1,\n 1,\n 0,\n 0,\n 1,\n 0,\n 1,\n 0,\n 0,\n 0,\n 0,\n 0,\n 0,\n 1,\n 0,\n 0,\n 0,\n 0,\n 1,\n 0,\n 0,\n 0,\n 1,\n 0,\n 0,\n 0,\n 0,\n 0,\n 1,\n 0,\n 0,\n 1,\n 0,\n 0,\n 0,\n 0,\n 0,\n 1,\n 0,\n 0,\n 1,\n 1,\n 1,\n 1,\n 1,\n 0,\n 0,\n 0,\n 0,\n 1,\n 0,\n 0,\n 0,\n 0,\n 0,\n 1,\n 0,\n 0,\n 1,\n 1,\n 0,\n 0,\n 0,\n 0,\n 0,\n 1,\n 0,\n 0,\n 0,\n 0,\n 0,\n 0,\n 0,\n 0,\n 0,\n 0,\n 0,\n 0,\n 0,\n 0,\n 0,\n 0,\n 1,\n 1,\n 0,\n 0,\n 1,\n 1,\n 0,\n 0,\n 0,\n 0,\n 1,\n 0,\n 0,\n 0,\n 0,\n 0,\n 0,\n 1,\n 1,\n 0,\n 0,\n 0,\n 0,\n 0,\n 0,\n 0,\n 0,\n 0,\n 0,\n 0,\n 0,\n 0,\n 0,\n 0,\n 0,\n 0,\n 0,\n 0,\n 0,\n 0,\n 1,\n 1,\n 0,\n 0,\n 0,\n 0,\n 0,\n 0,\n 0,\n 0,\n 0,\n 0,\n 0,\n 0,\n 0,\n 1,\n 1,\n 1,\n 1,\n 0,\n 0,\n 0,\n 0,\n 0,\n 1,\n 1,\n 1,\n 0,\n 0,\n 1,\n 1,\n 0,\n 1,\n 1,\n 0,\n 0,\n 0,\n 0,\n 1,\n 1,\n 1,\n 0,\n 0,\n 0,\n 0,\n 0,\n 1,\n 1,\n 0,\n 0,\n 0,\n 1,\n 1,\n 0,\n 0,\n 0,\n 0,\n 0,\n 0,\n 0,\n 0,\n 0,\n 0,\n 0,\n 0,\n 0,\n 0,\n 0,\n 1,\n 1,\n 1,\n 1,\n 0,\n 0,\n 0,\n 0,\n 0,\n 0,\n 0,\n 1,\n 1,\n 0,\n 0,\n 0,\n 0,\n 0,\n 0,\n 1,\n 0,\n 0,\n 0,\n 1,\n 1,\n 0,\n 0,\n 0,\n 0,\n 0,\n 1,\n 1,\n 0,\n 1,\n 1,\n 0,\n 0,\n 0,\n 1,\n 1,\n 0,\n 0,\n 0,\n 0,\n 0,\n 0,\n 1,\n 1,\n 1,\n 0,\n 0,\n 1,\n 1,\n 1,\n 1,\n 1,\n 1,\n 1,\n 1,\n 0,\n 0,\n 1,\n 1,\n 0,\n 1,\n 0,\n 1,\n 1,\n 1,\n 1,\n 0,\n 0,\n 0,\n 1,\n 1,\n 0,\n 0,\n 0,\n 0,\n 0,\n 0,\n 0,\n 0,\n 1,\n 1,\n 1,\n 0,\n 0,\n 0,\n 0,\n 0,\n 0,\n 0,\n 0,\n 0,\n 1,\n 1,\n 1,\n 0,\n 0,\n 0,\n 0,\n 0,\n 1,\n 1,\n 0,\n 0,\n 0,\n 1,\n 0,\n 0,\n 0,\n 0,\n 0,\n 1,\n 1,\n 1,\n 1,\n 0,\n 0,\n 0,\n 0,\n 0,\n 0,\n 0,\n 1,\n 1,\n 1,\n 1,\n 0,\n 1,\n 0,\n 0,\n 0,\n 0,\n 0,\n 0,\n 0,\n 1,\n 0,\n 0,\n 0,\n 1,\n 1,\n 1,\n 1,\n 0,\n 0,\n 0,\n 0,\n 1,\n 0,\n 0,\n 0,\n 0,\n 0,\n 1,\n 1,\n 1,\n 1,\n 0,\n 0,\n 0,\n 0,\n 0,\n 0,\n 0,\n 0,\n 1,\n 1,\n 0,\n 0,\n 0,\n 0,\n 0,\n 0,\n 0,\n 0,\n 0,\n 0,\n 1,\n 1,\n 1,\n 0,\n 1,\n 0,\n 0,\n 1,\n 0,\n 0,\n 0,\n 0,\n 0,\n 1,\n 0,\n 0,\n 0,\n 0,\n 0,\n 0,\n 0,\n 0,\n 0,\n 1,\n 0,\n 0,\n 0,\n 0,\n 0,\n 0,\n 0,\n 0,\n 0,\n 0,\n 0,\n 0,\n 0,\n 1,\n 0,\n 0,\n 1,\n 1,\n 1,\n 0,\n 1,\n 1,\n 1,\n 1,\n 0,\n 0,\n 0,\n 0,\n 0,\n 0,\n 0,\n 0,\n 1,\n 1,\n 0,\n 0,\n 0,\n 0,\n 0,\n 0,\n 0,\n 0,\n 0,\n 0,\n 0,\n 0,\n 0,\n 0,\n 0,\n 0,\n 0,\n 0,\n 0,\n 0,\n 1,\n 1,\n 1,\n 0,\n 0,\n 0,\n 0,\n 0,\n 0,\n 0,\n 0,\n 0,\n 0,\n 0,\n 0,\n 0,\n 0,\n 0,\n 0,\n 0,\n 0,\n 0,\n 0,\n 0,\n 0,\n 0,\n 0,\n 0,\n 0,\n 0,\n 1,\n 1,\n 1,\n 0,\n 0,\n 0,\n 1,\n 1,\n 0,\n 0,\n 0,\n 0,\n 0,\n 0,\n 0,\n 0,\n 0,\n 0,\n 1,\n 0,\n 0,\n 0,\n 0,\n 0,\n 0,\n 1,\n 1,\n 1,\n 1,\n 0,\n 0,\n 0,\n 1,\n 1,\n 1,\n 1,\n 1,\n 0,\n 0,\n 0,\n 0,\n 0,\n 0,\n 0,\n 0,\n 0,\n 0,\n 1,\n 1,\n 1,\n 0,\n 0,\n 0,\n 0,\n 0,\n 1,\n 0,\n 0,\n 1,\n 0,\n 0,\n 1,\n 0,\n 1,\n 1,\n 0,\n 0,\n 0,\n 0,\n 1,\n 1,\n 0,\n 0,\n 0,\n 0,\n 0,\n 0,\n 0,\n 0,\n 1,\n 0,\n 0,\n 0,\n 0,\n 0,\n 0,\n 0,\n 0,\n 0,\n 0,\n 0,\n 0,\n 0,\n 1,\n 0,\n 0,\n 1,\n 0,\n 0,\n 0,\n 0,\n 1,\n 0,\n 0,\n 0,\n 0,\n 0,\n 0,\n 0,\n 0,\n 0,\n 0,\n 0,\n 1,\n 1,\n 0,\n 0,\n 0,\n 0,\n 0,\n 0,\n 0,\n 0,\n 0,\n 0,\n 0,\n 0,\n 0,\n 0,\n 0,\n 0,\n 0,\n 1,\n 0,\n 0,\n 0,\n 1,\n 0,\n 0,\n 0,\n 0,\n 0,\n 0,\n 0,\n 0,\n 0,\n 0,\n 0,\n 0,\n 1,\n 0,\n 0,\n 0,\n 0,\n 0,\n 0,\n 0,\n 0,\n 0,\n 0,\n 1,\n 1,\n 1,\n 1,\n 1,\n 0,\n 0,\n 1,\n 0,\n 1,\n 0,\n 0,\n 0,\n 0,\n 0,\n 0,\n 1,\n 1,\n 0,\n 0,\n 0,\n 0,\n 0,\n 0,\n 0,\n 0,\n 0,\n 0,\n 1,\n 1,\n 1,\n 0,\n 1,\n 0,\n 0,\n 0,\n 0,\n 0,\n 0,\n 0,\n 0,\n 0,\n 0,\n 0,\n 0,\n 0,\n 0,\n 0,\n 1,\n 1,\n 1,\n 1,\n 0,\n 1,\n 1,\n 1,\n 0,\n 0,\n 0,\n 0,\n 0,\n 0,\n 0,\n 0,\n 0,\n 0,\n 0,\n 1,\n 0,\n 1,\n 1,\n 1,\n 0,\n 0,\n 1,\n 0,\n 0,\n 0,\n 0,\n 1,\n 0,\n 1,\n 0,\n 0,\n 1,\n 1,\n 0,\n 0,\n 0,\n 0,\n 0,\n 0,\n 0,\n 0,\n 0,\n 0,\n 0,\n 0,\n 1,\n 1,\n 1,\n 1,\n 1,\n 0,\n 0,\n 0,\n 0,\n 0,\n 0,\n 1,\n 0,\n 0,\n 0,\n 0,\n 0,\n 1,\n 0,\n 0,\n 0,\n 1,\n 1,\n 0,\n 0,\n 0,\n 0,\n 0,\n 0,\n 0,\n 0,\n 0,\n 0,\n 1,\n 0,\n 0,\n 0,\n 0,\n 0,\n 0,\n 0,\n 0,\n 0,\n 0,\n 1,\n 1,\n 0,\n 0,\n 0,\n 0,\n 0,\n 1,\n 0,\n 0,\n 0,\n 0,\n 0,\n 0,\n 0,\n 0,\n 1,\n 1,\n 0,\n 0,\n 0,\n 0,\n 0,\n 0,\n 0,\n 0,\n 0,\n 0,\n 0,\n 0,\n 0,\n 0,\n 0,\n 0,\n 0,\n 0,\n 0,\n 0,\n 0,\n 0,\n 0,\n 0,\n 1,\n 0,\n 0,\n 0,\n 0,\n 1,\n 1,\n 1,\n 0,\n 0,\n 1,\n 1,\n 1,\n 0,\n 0,\n 0,\n 0,\n 0,\n 0,\n 0,\n 0,\n 0,\n 0,\n 1,\n 0,\n ...]"
     },
     "execution_count": 120,
     "metadata": {},
     "output_type": "execute_result"
    }
   ],
   "source": [
    "predict_rain = model.predict(df[['MinTemp', 'MaxTemp', 'Rainfall', 'Humidity9am', 'Humidity3pm','Humidity_day','Pressure9am', 'Pressure3pm', 'Temp9am', 'Temp3pm', 'RainToday','Cloud_day', 'Pressure_day', 'Temp_day', 'Location_Albury', 'Location_Sydney','Location_SydneyAirport', 'Location_Wollongong']])\n",
    "\n",
    "predict_rain = list(map(round, predict_rain))\n",
    "\n",
    "predict_rain"
   ],
   "metadata": {
    "collapsed": false,
    "pycharm": {
     "name": "#%%\n"
    }
   }
  },
  {
   "cell_type": "markdown",
   "source": [
    "### Precision"
   ],
   "metadata": {
    "collapsed": false,
    "pycharm": {
     "name": "#%% md\n"
    }
   }
  },
  {
   "cell_type": "code",
   "execution_count": 121,
   "outputs": [
    {
     "name": "stdout",
     "output_type": "stream",
     "text": [
      "[0.85895093 0.71579707]\n"
     ]
    }
   ],
   "source": [
    "from sklearn.metrics import precision_score\n",
    "print(precision_score(y_test, y_pred, average=None))"
   ],
   "metadata": {
    "collapsed": false,
    "pycharm": {
     "name": "#%%\n"
    }
   }
  },
  {
   "cell_type": "markdown",
   "source": [
    "Los datos son bastantes utiles y es un buen modelo que predice bien los los que no llueven y si llueven.\n",
    " - <font color='green'>**0.8589**</font>: Del total de los positivos, un 0.8589 los predijo bien\n",
    " - <font color='green'>**0.7158**</font>:Del total de predecidos negativos, un 0,74 los predijo bien"
   ],
   "metadata": {
    "collapsed": false,
    "pycharm": {
     "name": "#%% md\n"
    }
   }
  },
  {
   "cell_type": "markdown",
   "source": [
    "### Recall"
   ],
   "metadata": {
    "collapsed": false,
    "pycharm": {
     "name": "#%% md\n"
    }
   }
  },
  {
   "cell_type": "code",
   "execution_count": 122,
   "outputs": [
    {
     "data": {
      "text/plain": "array([0.91042149, 0.49308846])"
     },
     "execution_count": 122,
     "metadata": {},
     "output_type": "execute_result"
    }
   ],
   "source": [
    "from sklearn.metrics import recall_score\n",
    "\n",
    "recall_score(df.RainTomorrow, predict_rain, average=None)"
   ],
   "metadata": {
    "collapsed": false,
    "pycharm": {
     "name": "#%%\n"
    }
   }
  },
  {
   "cell_type": "markdown",
   "source": [
    "De los que observas positivos cuantos fueron predecidos positivos cuan completos son los datos\n",
    "  - <font color='green'>**0.941:**</font> Cuantos predijo bien positivos(no llover) del total de positivos. Es el porcentaje de los dias que no llovieron y se predijo que no llovieron\n",
    "- <font color='green'>**0.483:**</font> Cuantos predijo bien negativos del total de negativos Un 0,69 son los que predijo correctamente que si sobrevieron"
   ],
   "metadata": {
    "collapsed": false,
    "pycharm": {
     "name": "#%% md\n"
    }
   }
  },
  {
   "cell_type": "markdown",
   "source": [
    "## Predecir"
   ],
   "metadata": {
    "collapsed": false,
    "pycharm": {
     "name": "#%% md\n"
    }
   }
  },
  {
   "cell_type": "code",
   "execution_count": 123,
   "outputs": [
    {
     "name": "stdout",
     "output_type": "stream",
     "text": [
      "Mañana llueve\n"
     ]
    }
   ],
   "source": [
    "from sklearn.linear_model import LogisticRegression\n",
    "\n",
    "\n",
    "X = df.drop(columns=list(weak_features) + [\"RainTomorrow\"] +[\"RISK_MM\"])\n",
    "y = df[\"RainTomorrow\"]\n",
    "model_pred = LogisticRegression(max_iter=1000)\n",
    "model_pred.fit(X, y)\n",
    "X_new = pd.DataFrame({'Humidity3pm': [1.5], 'Pressure9am': [-1.6], 'Pressure3pm':[-1.0], 'Location_Albany':[0], 'Location_AliceSprings': [0], 'Location_Ballarat': [0], 'Location_Bendigo':[0],'Location_Brisbane':[0], 'Location_Cairns':[0], 'Location_Canberra':[0],'Location_Cobar': [0], 'Location_CoffsHarbour': [0], 'Location_Darwin':[0], 'Location_Hobart':[0], 'Location_Katherine':[0], 'Location_Launceston':[0], 'Location_Melbourne':[0], 'Location_MelbourneAirport':[0], 'Location_Mildura':[0],'Location_Moree':[0], 'Location_MountGambier':[0], 'Location_NorfolkIsland':[0], 'Location_Nuriootpa':[0], 'Location_PearceRAAF':[0], 'Location_Perth':[0], 'Location_PerthAirport':[1], 'Location_Portland':[0], 'Location_Richmond':[0], 'Location_Sale':[0], 'Location_Townsville':[0], 'Location_Uluru':[0], 'Location_WaggaWagga':[0], 'Location_Watsonia':[0], 'Location_Williamtown':[0], 'Location_Woomera':[0]})\n",
    "prediction = model_pred.predict(X_new)[0]\n",
    "if prediction ==1:\n",
    "    print(\"Mañana llueve\")\n",
    "else:\n",
    "    print(\"Mañana no llueve\")"
   ],
   "metadata": {
    "collapsed": false,
    "pycharm": {
     "name": "#%%\n"
    }
   }
  },
  {
   "cell_type": "markdown",
   "source": [
    "En el caso que, la ubicacion sea el Aeropuerto de Perth, haya una Humedad a las 3 pm de 1.5, la presion a las 9 am sea de -1,6 y a las 3 pm sea de -1, entonces al dia siguiente llueve\n",
    "Si tiene sentido ya que la presion en el ambiente es un factor clave para saber si va a llover a corto plazo, lo mismo sucede con la humedad, cuanta mas humedad hay, mayor es la probabilidad de que llueva"
   ],
   "metadata": {
    "collapsed": false,
    "pycharm": {
     "name": "#%% md\n"
    }
   }
  },
  {
   "cell_type": "markdown",
   "source": [
    "### Cargar csv"
   ],
   "metadata": {
    "collapsed": false,
    "pycharm": {
     "name": "#%% md\n"
    }
   }
  },
  {
   "cell_type": "code",
   "execution_count": 124,
   "outputs": [],
   "source": [
    "df.to_csv(\"AUS_precipitation.csv\", index=False)"
   ],
   "metadata": {
    "collapsed": false,
    "pycharm": {
     "name": "#%%\n"
    }
   }
  },
  {
   "cell_type": "markdown",
   "source": [
    "##Conclusion Final"
   ],
   "metadata": {
    "collapsed": false
   }
  },
  {
   "cell_type": "code",
   "execution_count": 125,
   "outputs": [
    {
     "data": {
      "text/plain": "              presion_atmosferica\nRainTomorrow                     \n0                        0.089947\n1                       -0.333333",
      "text/html": "<div>\n<style scoped>\n    .dataframe tbody tr th:only-of-type {\n        vertical-align: middle;\n    }\n\n    .dataframe tbody tr th {\n        vertical-align: top;\n    }\n\n    .dataframe thead th {\n        text-align: right;\n    }\n</style>\n<table border=\"1\" class=\"dataframe\">\n  <thead>\n    <tr style=\"text-align: right;\">\n      <th></th>\n      <th>presion_atmosferica</th>\n    </tr>\n    <tr>\n      <th>RainTomorrow</th>\n      <th></th>\n    </tr>\n  </thead>\n  <tbody>\n    <tr>\n      <th>0</th>\n      <td>0.089947</td>\n    </tr>\n    <tr>\n      <th>1</th>\n      <td>-0.333333</td>\n    </tr>\n  </tbody>\n</table>\n</div>"
     },
     "execution_count": 125,
     "metadata": {},
     "output_type": "execute_result"
    }
   ],
   "source": [
    "df.groupby(\"RainTomorrow\").agg(\n",
    "    presion_atmosferica =  ('Pressure_day', 'median')\n",
    ")"
   ],
   "metadata": {
    "collapsed": false,
    "pycharm": {
     "name": "#%%\n"
    }
   }
  },
  {
   "cell_type": "markdown",
   "source": [
    "Recordando cual era la hipotesis, yo queria saber si habia una correlacion entre la presion atmosferica y si al dia siguiente lloveria. Se puede observar en este groupby como esto se cumple,siendo que si la presion atmosferica es mayor a 0, entonces no llueve, pero en el caso de que la presion atmosferica sea menor a 0, entonces hay probabilidades de que va a llover"
   ],
   "metadata": {
    "collapsed": false,
    "pycharm": {
     "name": "#%% md\n"
    }
   }
  }
 ],
 "metadata": {
  "kernelspec": {
   "display_name": "Python 3",
   "language": "python",
   "name": "python3"
  },
  "language_info": {
   "codemirror_mode": {
    "name": "ipython",
    "version": 2
   },
   "file_extension": ".py",
   "mimetype": "text/x-python",
   "name": "python",
   "nbconvert_exporter": "python",
   "pygments_lexer": "ipython2",
   "version": "2.7.6"
  }
 },
 "nbformat": 4,
 "nbformat_minor": 0
}